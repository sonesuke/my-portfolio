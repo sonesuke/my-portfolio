{
 "cells": [
  {
   "cell_type": "markdown",
   "id": "eb715772",
   "metadata": {
    "pycharm": {
     "name": "#%% md\n"
    }
   },
   "source": [
    "Ticker selections\n",
    "================="
   ]
  },
  {
   "cell_type": "code",
   "execution_count": 1,
   "id": "unlimited-desktop",
   "metadata": {},
   "outputs": [],
   "source": [
    "# If you would like to refresh your data, please execute the bellow codes.\n",
    "\n",
    "import pandas as pd\n",
    "from datetime import datetime\n",
    "from tqdm import tqdm\n",
    "\n",
    "from mypo import Loader\n",
    "\n",
    "DOWNLOAD = False\n",
    "\n",
    "if DOWNLOAD:\n",
    "    tickers = pd.read_csv(\"/app/docs/tutorial/tickers.csv\")\n",
    "    loader = Loader()\n",
    "    for row in tqdm(tickers.to_dict('record')):\n",
    "        loader.get(row['Ticker'], expense_ratio=row['ExpenseRatio'] * 0.01)\n",
    "    loader.save('/app/docs/tutorial/all.bin')"
   ]
  },
  {
   "cell_type": "code",
   "execution_count": 2,
   "id": "953a43df",
   "metadata": {},
   "outputs": [],
   "source": [
    "loader = Loader.load('/app/docs/tutorial/all.bin')\n",
    "loader = loader.since(datetime(2008, 1, 1))\n",
    "market = loader.get_market()"
   ]
  },
  {
   "cell_type": "code",
   "execution_count": 3,
   "id": "f4d82945",
   "metadata": {},
   "outputs": [
    {
     "data": {
      "text/html": [
       "<div>\n",
       "<style scoped>\n",
       "    .dataframe tbody tr th:only-of-type {\n",
       "        vertical-align: middle;\n",
       "    }\n",
       "\n",
       "    .dataframe tbody tr th {\n",
       "        vertical-align: top;\n",
       "    }\n",
       "\n",
       "    .dataframe thead th {\n",
       "        text-align: right;\n",
       "    }\n",
       "</style>\n",
       "<table border=\"1\" class=\"dataframe\">\n",
       "  <thead>\n",
       "    <tr style=\"text-align: right;\">\n",
       "      <th></th>\n",
       "      <th>established</th>\n",
       "      <th>names</th>\n",
       "      <th>total_assets</th>\n",
       "      <th>volume</th>\n",
       "      <th>expense_ratio</th>\n",
       "    </tr>\n",
       "  </thead>\n",
       "  <tbody>\n",
       "    <tr>\n",
       "      <th>AGG</th>\n",
       "      <td>2003-09-29</td>\n",
       "      <td>iShares Core U.S. Aggregate Bond ETF</td>\n",
       "      <td>85938724864</td>\n",
       "      <td>6466483</td>\n",
       "      <td>0.0005</td>\n",
       "    </tr>\n",
       "    <tr>\n",
       "      <th>FPX</th>\n",
       "      <td>2006-05-24</td>\n",
       "      <td>First Trust US Equity Opportunities ETF</td>\n",
       "      <td>2084153472</td>\n",
       "      <td>120866</td>\n",
       "      <td>0.0057</td>\n",
       "    </tr>\n",
       "    <tr>\n",
       "      <th>FDN</th>\n",
       "      <td>2006-06-23</td>\n",
       "      <td>First Trust Dow Jones Internet Index Fund</td>\n",
       "      <td>10462989312</td>\n",
       "      <td>258733</td>\n",
       "      <td>0.0051</td>\n",
       "    </tr>\n",
       "    <tr>\n",
       "      <th>QCLN</th>\n",
       "      <td>2007-02-14</td>\n",
       "      <td>First Trust NASDAQ Clean Edge Green Energy Ind...</td>\n",
       "      <td>2947022336</td>\n",
       "      <td>533483</td>\n",
       "      <td>0.0060</td>\n",
       "    </tr>\n",
       "    <tr>\n",
       "      <th>FVD</th>\n",
       "      <td>2003-08-27</td>\n",
       "      <td>First Trust Value Line Dividend Index Fund</td>\n",
       "      <td>10207452160</td>\n",
       "      <td>1312757</td>\n",
       "      <td>0.0070</td>\n",
       "    </tr>\n",
       "    <tr>\n",
       "      <th>...</th>\n",
       "      <td>...</td>\n",
       "      <td>...</td>\n",
       "      <td>...</td>\n",
       "      <td>...</td>\n",
       "      <td>...</td>\n",
       "    </tr>\n",
       "    <tr>\n",
       "      <th>EEM</th>\n",
       "      <td>2003-04-14</td>\n",
       "      <td>iShares MSCI Emerging Markets ETF</td>\n",
       "      <td>29338421248</td>\n",
       "      <td>65868433</td>\n",
       "      <td>0.0070</td>\n",
       "    </tr>\n",
       "    <tr>\n",
       "      <th>DIA</th>\n",
       "      <td>1998-01-20</td>\n",
       "      <td>SPDR Dow Jones Industrial Average ETF Trust</td>\n",
       "      <td>25793642496</td>\n",
       "      <td>4995800</td>\n",
       "      <td>0.0016</td>\n",
       "    </tr>\n",
       "    <tr>\n",
       "      <th>DBC</th>\n",
       "      <td>2006-02-06</td>\n",
       "      <td>Invesco DB Commodity Index Tracking Fund</td>\n",
       "      <td>1891861760</td>\n",
       "      <td>2817116</td>\n",
       "      <td>0.0087</td>\n",
       "    </tr>\n",
       "    <tr>\n",
       "      <th>DBA</th>\n",
       "      <td>2007-01-05</td>\n",
       "      <td>Invesco DB Agriculture Fund</td>\n",
       "      <td>895486016</td>\n",
       "      <td>1276150</td>\n",
       "      <td>0.0091</td>\n",
       "    </tr>\n",
       "    <tr>\n",
       "      <th>CWI</th>\n",
       "      <td>2007-01-17</td>\n",
       "      <td>SPDR MSCI ACWI ex-US ETF</td>\n",
       "      <td>1471969408</td>\n",
       "      <td>195450</td>\n",
       "      <td>0.0030</td>\n",
       "    </tr>\n",
       "  </tbody>\n",
       "</table>\n",
       "<p>148 rows × 5 columns</p>\n",
       "</div>"
      ],
      "text/plain": [
       "     established                                              names  \\\n",
       "AGG   2003-09-29               iShares Core U.S. Aggregate Bond ETF   \n",
       "FPX   2006-05-24            First Trust US Equity Opportunities ETF   \n",
       "FDN   2006-06-23          First Trust Dow Jones Internet Index Fund   \n",
       "QCLN  2007-02-14  First Trust NASDAQ Clean Edge Green Energy Ind...   \n",
       "FVD   2003-08-27         First Trust Value Line Dividend Index Fund   \n",
       "...          ...                                                ...   \n",
       "EEM   2003-04-14                  iShares MSCI Emerging Markets ETF   \n",
       "DIA   1998-01-20        SPDR Dow Jones Industrial Average ETF Trust   \n",
       "DBC   2006-02-06           Invesco DB Commodity Index Tracking Fund   \n",
       "DBA   2007-01-05                        Invesco DB Agriculture Fund   \n",
       "CWI   2007-01-17                           SPDR MSCI ACWI ex-US ETF   \n",
       "\n",
       "      total_assets    volume  expense_ratio  \n",
       "AGG    85938724864   6466483         0.0005  \n",
       "FPX     2084153472    120866         0.0057  \n",
       "FDN    10462989312    258733         0.0051  \n",
       "QCLN    2947022336    533483         0.0060  \n",
       "FVD    10207452160   1312757         0.0070  \n",
       "...            ...       ...            ...  \n",
       "EEM    29338421248  65868433         0.0070  \n",
       "DIA    25793642496   4995800         0.0016  \n",
       "DBC     1891861760   2817116         0.0087  \n",
       "DBA      895486016   1276150         0.0091  \n",
       "CWI     1471969408    195450         0.0030  \n",
       "\n",
       "[148 rows x 5 columns]"
      ]
     },
     "execution_count": 3,
     "metadata": {},
     "output_type": "execute_result"
    }
   ],
   "source": [
    "summary = loader.summary()\n",
    "summary"
   ]
  },
  {
   "cell_type": "code",
   "execution_count": 15,
   "id": "ce661513",
   "metadata": {},
   "outputs": [],
   "source": [
    "from mypo import clustering_tickers, make_combinations\n",
    "cluster = clustering_tickers(market, n=4)\n",
    "combinations = make_combinations(cluster)"
   ]
  },
  {
   "cell_type": "code",
   "execution_count": null,
   "id": "ed51ce34",
   "metadata": {
    "pycharm": {
     "name": "#%%\n"
    }
   },
   "outputs": [
    {
     "name": "stderr",
     "output_type": "stream",
     "text": [
      "  5%|▌         | 27706/535304 [07:51<2:33:14, 55.21it/s]"
     ]
    }
   ],
   "source": [
    "from multiprocessing import Pool\n",
    "from mypo.optimizer import MinimumVarianceOptimizer\n",
    "import numpy as np\n",
    "\n",
    "def proc(c):\n",
    "    optimizer = MinimumVarianceOptimizer(span=50000)\n",
    "    target_market = market.filter(list(c))\n",
    "    optimizer.optimize(target_market, at=datetime.today())\n",
    "    w = optimizer.get_weights()\n",
    "    r = target_market.get_rate_of_change().to_numpy()\n",
    "    q = np.dot(np.dot(w, np.cov(r.T)), w.T)\n",
    "    r = np.dot(w, r.mean(axis=0))\n",
    "    return target_market.get_tickers(), r, q\n",
    "\n",
    "\n",
    "with Pool(6) as pool:\n",
    "    imap = pool.imap(proc, combinations)\n",
    "    result = list(tqdm(imap, total=len(combinations)))\n",
    "\n",
    "\n",
    "df = pd.DataFrame({\n",
    "    \"c\": [r[0] for r in result],\n",
    "    \"r\": [r[1] for r in result],\n",
    "    \"q\": [r[2] for r in result]\n",
    "    })"
   ]
  },
  {
   "cell_type": "code",
   "execution_count": null,
   "id": "strategic-finland",
   "metadata": {},
   "outputs": [],
   "source": [
    "\n",
    "df = pd.DataFrame({\n",
    "    \"c\": [r[0] for r in result],\n",
    "    \"r\": [r[1] for r in result],\n",
    "    \"q\": [r[2] for r in result]\n",
    "})\n",
    "df['sharp ratio'] = df[\"r\"] / df[\"q\"]\n",
    "\n",
    "\n",
    "print(df.sort_values(\"sharp ratio\", ascending=False).head(10))\n",
    "print(df.sort_values(\"r\", ascending=False).head(10))\n",
    "print(df.sort_values(\"q\").head(10))\n",
    "\n"
   ]
  },
  {
   "cell_type": "code",
   "execution_count": null,
   "id": "fewer-express",
   "metadata": {},
   "outputs": [],
   "source": []
  },
  {
   "cell_type": "code",
   "execution_count": null,
   "id": "aboriginal-gender",
   "metadata": {},
   "outputs": [],
   "source": [
    "import yfinance as yf\n",
    "\n",
    "tickers = ['XLY', 'XLV', 'VHT', 'FVD', 'QQQ', 'VGT', 'XLK', 'XLF', 'VFH']\n",
    "tickers += ['RWR', 'EWY', 'FXI', 'EWZ', 'XLU']\n",
    "tickers += ['SHY', 'TLT', 'BBH', 'GLD', 'TIP', 'LQD']\n",
    "for t in tickers:\n",
    "    ticker = yf.Ticker(t)\n",
    "    print(t, ticker.info['longName'])\n",
    "    "
   ]
  },
  {
   "cell_type": "code",
   "execution_count": null,
   "id": "c7a453f3",
   "metadata": {},
   "outputs": [],
   "source": [
    "from mypo.optimizer import MinimumVarianceOptimizer\n",
    "from mypo.rebalancer import MonthlyRebalancer\n",
    "from mypo import Runner\n",
    "\n",
    "target = market.filter(['XLY', 'RWR', 'SHY', 'BBH'])\n",
    "print(target.get_rate_of_change())\n",
    "optimizer = MinimumVarianceOptimizer()\n",
    "runner = Runner(\n",
    "    assets=[0.25, 0.25, 0.25, 0.25],\n",
    "    rebalancer=MonthlyRebalancer(optimizer=optimizer, do_re_optimize=True),\n",
    "    cash=0.5\n",
    ")\n",
    "\n",
    "runner.run(\n",
    "    market=target,\n",
    "    train_span=200,\n",
    "    verbose=True\n",
    ")\n",
    "report = runner.report()\n",
    "print(optimizer.get_weights())\n",
    "print(yearly_total_return(report))\n",
    "print(max_drawdown(report))\n",
    "print(max_drawdown_span(report))\n",
    "report.plot()"
   ]
  },
  {
   "cell_type": "code",
   "execution_count": null,
   "id": "507d3b4f",
   "metadata": {},
   "outputs": [],
   "source": []
  },
  {
   "cell_type": "code",
   "execution_count": null,
   "id": "23280431",
   "metadata": {},
   "outputs": [],
   "source": []
  },
  {
   "cell_type": "code",
   "execution_count": null,
   "id": "eb0c5f98",
   "metadata": {},
   "outputs": [],
   "source": []
  },
  {
   "cell_type": "code",
   "execution_count": null,
   "id": "3ad94b2c",
   "metadata": {},
   "outputs": [],
   "source": []
  },
  {
   "cell_type": "code",
   "execution_count": null,
   "id": "d085d1db",
   "metadata": {},
   "outputs": [],
   "source": []
  },
  {
   "cell_type": "code",
   "execution_count": null,
   "id": "9704b86c",
   "metadata": {},
   "outputs": [],
   "source": []
  }
 ],
 "metadata": {
  "kernelspec": {
   "display_name": "Python 3",
   "language": "python",
   "name": "python3"
  },
  "language_info": {
   "codemirror_mode": {
    "name": "ipython",
    "version": 3
   },
   "file_extension": ".py",
   "mimetype": "text/x-python",
   "name": "python",
   "nbconvert_exporter": "python",
   "pygments_lexer": "ipython3",
   "version": "3.7.10"
  }
 },
 "nbformat": 4,
 "nbformat_minor": 5
}
