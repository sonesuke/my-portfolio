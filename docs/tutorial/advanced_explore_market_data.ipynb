{
 "cells": [
  {
   "cell_type": "markdown",
   "id": "irish-profit",
   "metadata": {
    "pycharm": {
     "name": "#%% md\n"
    }
   },
   "source": [
    "Advanced Explore market data.\n",
    "=====\n"
   ]
  },
  {
   "cell_type": "code",
   "execution_count": 1,
   "id": "complicated-personal",
   "metadata": {
    "pycharm": {
     "name": "#%%\n"
    }
   },
   "outputs": [],
   "source": [
    "from mypo import Loader\n",
    "from mypo.sampler import Sampler"
   ]
  },
  {
   "cell_type": "code",
   "execution_count": 2,
   "id": "flying-penguin",
   "metadata": {
    "pycharm": {
     "name": "#%%\n"
    }
   },
   "outputs": [],
   "source": [
    "loader = Loader()\n",
    "loader.get('VOO', expense_ratio=0.0003)\n",
    "loader.get('EDV', expense_ratio=0.0007)\n",
    "market = loader.get_market()\n",
    "market = market.head(200)"
   ]
  },
  {
   "cell_type": "code",
   "execution_count": 3,
   "id": "hidden-dinner",
   "metadata": {
    "pycharm": {
     "name": "#%%\n"
    }
   },
   "outputs": [
    {
     "name": "stderr",
     "output_type": "stream",
     "text": [
      "Only 10 samples in chain.\n",
      "Multiprocess sampling (3 chains in 3 jobs)\n",
      "NUTS: [lower_triangular_chol, mu, prior_mu]\n"
     ]
    },
    {
     "data": {
      "text/html": [
       "\n",
       "    <div>\n",
       "        <style>\n",
       "            /* Turns off some styling */\n",
       "            progress {\n",
       "                /* gets rid of default border in Firefox and Opera. */\n",
       "                border: none;\n",
       "                /* Needs to be in here for Safari polyfill so background images work as expected. */\n",
       "                background-size: auto;\n",
       "            }\n",
       "            .progress-bar-interrupted, .progress-bar-interrupted::-webkit-progress-bar {\n",
       "                background: #F44336;\n",
       "            }\n",
       "        </style>\n",
       "      <progress value='3030' class='' max='3030' style='width:300px; height:20px; vertical-align: middle;'></progress>\n",
       "      100.00% [3030/3030 03:19<00:00 Sampling 3 chains, 0 divergences]\n",
       "    </div>\n",
       "    "
      ],
      "text/plain": [
       "<IPython.core.display.HTML object>"
      ]
     },
     "metadata": {},
     "output_type": "display_data"
    },
    {
     "name": "stderr",
     "output_type": "stream",
     "text": [
      "Sampling 3 chains for 1_000 tune and 10 draw iterations (3_000 + 30 draws total) took 205 seconds.\n",
      "/usr/local/lib/python3.9/site-packages/pymc3/sampling.py:643: UserWarning: The number of samples is too small to check convergence reliably.\n",
      "  warnings.warn(\"The number of samples is too small to check convergence reliably.\")\n"
     ]
    }
   ],
   "source": [
    "sampler = Sampler(market, scenarios=10)"
   ]
  },
  {
   "cell_type": "code",
   "execution_count": 4,
   "id": "commercial-radio",
   "metadata": {
    "pycharm": {
     "name": "#%%\n"
    }
   },
   "outputs": [],
   "source": [
    "samples = sampler.sample(scenarios=10, samples=262)\n"
   ]
  },
  {
   "cell_type": "markdown",
   "id": "trying-certification",
   "metadata": {
    "pycharm": {
     "name": "#%% md\n"
    }
   },
   "source": [
    "Original market data"
   ]
  },
  {
   "cell_type": "code",
   "execution_count": null,
   "id": "hearing-norfolk",
   "metadata": {
    "pycharm": {
     "name": "#%%\n"
    }
   },
   "outputs": [
    {
     "data": {
      "text/plain": [
       "<AxesSubplot:xlabel='Date'>"
      ]
     },
     "execution_count": 5,
     "metadata": {},
     "output_type": "execute_result"
    }
   ],
   "source": [
    "market.get_rate_of_change().hist(bins=20)\n",
    "(1.0 + market.get_rate_of_change()).cumprod().plot()\n"
   ]
  },
  {
   "cell_type": "markdown",
   "id": "returning-baptist",
   "metadata": {},
   "source": [
    "Generated market data"
   ]
  },
  {
   "cell_type": "code",
   "execution_count": null,
   "id": "welcome-range",
   "metadata": {},
   "outputs": [],
   "source": [
    "i = 0\n",
    "samples[i].hist(bins=20)\n",
    "(1.0 + samples[i]).cumprod().plot()"
   ]
  },
  {
   "cell_type": "code",
   "execution_count": null,
   "id": "bibliographic-future",
   "metadata": {
    "pycharm": {
     "name": "#%%\n"
    }
   },
   "outputs": [],
   "source": [
    "i = 1\n",
    "samples[i].hist(bins=20)\n",
    "(1.0 + samples[i]).cumprod().plot()"
   ]
  },
  {
   "cell_type": "code",
   "execution_count": null,
   "id": "twenty-verification",
   "metadata": {
    "pycharm": {
     "name": "#%%\n"
    }
   },
   "outputs": [],
   "source": [
    "i = 2\n",
    "samples[i].hist(bins=20)\n",
    "(1.0 + samples[i]).cumprod().plot()"
   ]
  },
  {
   "cell_type": "code",
   "execution_count": null,
   "id": "subject-sapphire",
   "metadata": {
    "pycharm": {
     "name": "#%%\n"
    }
   },
   "outputs": [],
   "source": [
    "i = 3\n",
    "samples[i].hist(bins=20)\n",
    "(1.0 + samples[i]).cumprod().plot()\n"
   ]
  },
  {
   "cell_type": "code",
   "execution_count": null,
   "id": "greenhouse-somewhere",
   "metadata": {
    "pycharm": {
     "name": "#%%\n"
    }
   },
   "outputs": [],
   "source": [
    "i = 4\n",
    "samples[i].hist(bins=20)\n",
    "(1.0 + samples[i]).cumprod().plot()"
   ]
  },
  {
   "cell_type": "code",
   "execution_count": null,
   "id": "grateful-intelligence",
   "metadata": {
    "pycharm": {
     "name": "#%%\n"
    }
   },
   "outputs": [],
   "source": [
    "i = 5\n",
    "samples[i].hist(bins=20)\n",
    "(1.0 + samples[i]).cumprod().plot()"
   ]
  },
  {
   "cell_type": "code",
   "execution_count": null,
   "id": "agricultural-telescope",
   "metadata": {
    "pycharm": {
     "name": "#%%\n"
    }
   },
   "outputs": [],
   "source": [
    "i = 6\n",
    "samples[i].hist(bins=20)\n",
    "(1.0 + samples[i]).cumprod().plot()"
   ]
  },
  {
   "cell_type": "code",
   "execution_count": null,
   "id": "piano-radiation",
   "metadata": {
    "pycharm": {
     "name": "#%%\n"
    }
   },
   "outputs": [],
   "source": [
    "i = 7\n",
    "samples[i].hist(bins=20)\n",
    "(1.0 + samples[i]).cumprod().plot()"
   ]
  },
  {
   "cell_type": "code",
   "execution_count": null,
   "id": "needed-azerbaijan",
   "metadata": {
    "pycharm": {
     "name": "#%%\n"
    }
   },
   "outputs": [],
   "source": [
    "i = 8\n",
    "samples[i].hist(bins=20)\n",
    "(1.0 + samples[i]).cumprod().plot()"
   ]
  },
  {
   "cell_type": "code",
   "execution_count": null,
   "id": "colored-committee",
   "metadata": {
    "pycharm": {
     "name": "#%%\n"
    }
   },
   "outputs": [],
   "source": [
    "i = 9\n",
    "samples[i].hist(bins=20)\n",
    "(1.0 + samples[i]).cumprod().plot()\n",
    "\n"
   ]
  },
  {
   "cell_type": "code",
   "execution_count": null,
   "id": "drawn-purchase",
   "metadata": {
    "pycharm": {
     "name": "#%%\n"
    }
   },
   "outputs": [],
   "source": []
  }
 ],
 "metadata": {
  "kernelspec": {
   "display_name": "Python 3",
   "language": "python",
   "name": "python3"
  },
  "language_info": {
   "codemirror_mode": {
    "name": "ipython",
    "version": 3
   },
   "file_extension": ".py",
   "mimetype": "text/x-python",
   "name": "python",
   "nbconvert_exporter": "python",
   "pygments_lexer": "ipython3",
   "version": "3.9.2"
  }
 },
 "nbformat": 4,
 "nbformat_minor": 5
}
