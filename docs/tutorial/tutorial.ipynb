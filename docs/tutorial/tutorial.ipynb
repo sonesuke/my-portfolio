{
 "cells": [
  {
   "cell_type": "markdown",
   "id": "yellow-recommendation",
   "metadata": {
    "collapsed": false
   },
   "source": [
    "titled\n",
    "=====\n",
    "\n"
   ]
  },
  {
   "cell_type": "code",
   "execution_count": 1,
   "id": "painted-recipe",
   "metadata": {
    "execution": {
     "iopub.execute_input": "2021-03-20T23:37:16.782228Z",
     "iopub.status.busy": "2021-03-20T23:37:16.768105Z",
     "iopub.status.idle": "2021-03-20T23:37:18.514509Z",
     "shell.execute_reply": "2021-03-20T23:37:18.512730Z"
    }
   },
   "outputs": [
    {
     "name": "stdout",
     "output_type": "stream",
     "text": [
      "0.0.0\n"
     ]
    }
   ],
   "source": [
    "import mypo\n",
    "from mypo import split_n_periods, Runner, Settings\n",
    "from mypo.rebalancer import PlainRebalancer\n",
    "from mypo.optimizer import MinimumVarianceOptimizer, SharpRatioOptimizer, semi_covariance\n",
    "from mypo.indicator import yearly_total_return, max_drawdown, max_drawdown_span\n",
    "import numpy as np\n",
    "print(mypo.__version__)"
   ]
  },
  {
   "cell_type": "code",
   "execution_count": 2,
   "id": "attached-berkeley",
   "metadata": {
    "execution": {
     "iopub.execute_input": "2021-03-20T23:37:18.527217Z",
     "iopub.status.busy": "2021-03-20T23:37:18.525119Z",
     "iopub.status.idle": "2021-03-20T23:37:18.529436Z",
     "shell.execute_reply": "2021-03-20T23:37:18.531134Z"
    },
    "pycharm": {
     "name": "#%%\n"
    }
   },
   "outputs": [],
   "source": [
    "loader = mypo.Loader()"
   ]
  },
  {
   "cell_type": "code",
   "execution_count": 3,
   "id": "secure-packet",
   "metadata": {
    "execution": {
     "iopub.execute_input": "2021-03-20T23:37:18.546685Z",
     "iopub.status.busy": "2021-03-20T23:37:18.544578Z",
     "iopub.status.idle": "2021-03-20T23:37:19.955105Z",
     "shell.execute_reply": "2021-03-20T23:37:19.956771Z"
    },
    "pycharm": {
     "name": "#%%\n"
    }
   },
   "outputs": [],
   "source": [
    "loader.get('VOO', 0.0003)\n",
    "loader.get('EDV', 0.0007)"
   ]
  },
  {
   "cell_type": "code",
   "execution_count": 4,
   "id": "floppy-communications",
   "metadata": {
    "execution": {
     "iopub.execute_input": "2021-03-20T23:37:19.976369Z",
     "iopub.status.busy": "2021-03-20T23:37:19.974262Z",
     "iopub.status.idle": "2021-03-20T23:37:20.063227Z",
     "shell.execute_reply": "2021-03-20T23:37:20.061483Z"
    },
    "pycharm": {
     "name": "#%%\n"
    }
   },
   "outputs": [],
   "source": [
    "market = loader.get_market()\n",
    "trains, validations = split_n_periods(market, n = 20, train_span=200)"
   ]
  },
  {
   "cell_type": "code",
   "execution_count": 5,
   "id": "thirty-purple",
   "metadata": {
    "execution": {
     "iopub.execute_input": "2021-03-20T23:37:20.082837Z",
     "iopub.status.busy": "2021-03-20T23:37:20.076336Z",
     "iopub.status.idle": "2021-03-20T23:37:23.661268Z",
     "shell.execute_reply": "2021-03-20T23:37:23.659306Z"
    },
    "pycharm": {
     "name": "#%%\n"
    }
   },
   "outputs": [
    {
     "name": "stdout",
     "output_type": "stream",
     "text": [
      "[0.69541797 0.30458203]\n",
      "121\n",
      "1.2574442864097322\n",
      "0.9440673589164427\n",
      "26\n",
      "[0.58617852 0.41382148]\n",
      "121\n",
      "1.214537744625065\n",
      "0.9809400360141783\n",
      "20\n",
      "[0.61337769 0.38662231]\n",
      "121\n",
      "1.1355822275434602\n",
      "0.9774277128892593\n",
      "43\n",
      "[0.62894399 0.37105601]\n",
      "121\n",
      "1.182906861116063\n",
      "0.9778429950381414\n",
      "23\n",
      "[0.65184213 0.34815787]\n",
      "121\n",
      "1.0851074544998534\n",
      "0.9590274581908151\n",
      "44\n",
      "[0.72087905 0.27912095]\n",
      "121\n",
      "1.197281265226068\n",
      "0.9771632449600743\n",
      "17\n",
      "[0.65773989 0.34226011]\n",
      "121\n",
      "1.189869332880285\n",
      "0.9773269154356351\n",
      "26\n",
      "[0.62127724 0.37872276]\n",
      "121\n",
      "1.0643017179264291\n",
      "0.957123681859432\n",
      "34\n",
      "[0.6730811 0.3269189]\n",
      "121\n",
      "1.0767144631629608\n",
      "0.9390528327991673\n",
      "47\n",
      "[0.63378326 0.36621674]\n",
      "121\n",
      "1.1156558478954388\n",
      "0.9669379411627814\n",
      "36\n",
      "[0.5115294 0.4884706]\n",
      "121\n",
      "1.1287618206241863\n",
      "0.9634496941447109\n",
      "59\n",
      "[0.57867566 0.42132434]\n",
      "121\n",
      "1.097741358249179\n",
      "0.9625539854880881\n",
      "46\n",
      "[0.78567299 0.21432701]\n",
      "121\n",
      "1.174133957229274\n",
      "0.9860176011783427\n",
      "16\n",
      "[0.72783614 0.27216386]\n",
      "121\n",
      "1.0626412582816198\n",
      "0.9297861851453331\n",
      "49\n",
      "[0.52950546 0.47049454]\n",
      "121\n",
      "1.097137103531668\n",
      "0.971669056583884\n",
      "28\n",
      "[0.4851337 0.5148663]\n",
      "121\n",
      "1.147526294946815\n",
      "0.9604895043696936\n",
      "71\n",
      "[0.40277746 0.59722254]\n",
      "121\n",
      "1.28537894512579\n",
      "0.9596157847671616\n",
      "19\n",
      "[0.49311775 0.50688225]\n",
      "121\n",
      "1.0442470357583704\n",
      "0.9090193173465563\n",
      "32\n",
      "[0.43846946 0.56153054]\n",
      "121\n",
      "1.5626866624054274\n",
      "0.9701395041154061\n",
      "28\n",
      "[0.39614044 0.60385956]\n",
      "121\n",
      "0.9580271437514326\n",
      "0.928912122044734\n",
      "43\n"
     ]
    }
   ],
   "source": [
    "for train, validation in zip(trains, validations):\n",
    "    optimizer = MinimumVarianceOptimizer(train)\n",
    "    weights = optimizer.optimize_weight()\n",
    "    \n",
    "    runner = mypo.Runner(\n",
    "        assets=np.array([1.2, 0.8]),\n",
    "        rebalancer=PlainRebalancer(weights=weights),\n",
    "        cash=0.5\n",
    "    )\n",
    "\n",
    "    runner.run(\n",
    "        market=validation\n",
    "    )\n",
    "    report = runner.report()\n",
    "    print(weights)\n",
    "    print(yearly_total_return(report))\n",
    "    print(max_drawdown(report))\n",
    "    print(max_drawdown_span(report))"
   ]
  },
  {
   "cell_type": "code",
   "execution_count": 6,
   "id": "awful-arbitration",
   "metadata": {
    "execution": {
     "iopub.execute_input": "2021-03-20T23:37:23.696027Z",
     "iopub.status.busy": "2021-03-20T23:37:23.693910Z",
     "iopub.status.idle": "2021-03-20T23:37:27.207384Z",
     "shell.execute_reply": "2021-03-20T23:37:27.209026Z"
    }
   },
   "outputs": [
    {
     "name": "stdout",
     "output_type": "stream",
     "text": [
      "[0.7338018 0.2661982]\n",
      "121\n",
      "1.215784750224874\n",
      "0.9341732373136284\n",
      "37\n",
      "[0.54377823 0.45622177]\n",
      "121\n",
      "1.2116015046370872\n",
      "0.9771204842360242\n",
      "28\n",
      "[0.59901408 0.40098592]\n",
      "121\n",
      "1.1344316771083123\n",
      "0.9773122428480986\n",
      "43\n",
      "[0.66814927 0.33185073]\n",
      "121\n",
      "1.1974966965483913\n",
      "0.9784540406855252\n",
      "15\n",
      "[0.70727854 0.29272146]\n",
      "121\n",
      "1.109400403949262\n",
      "0.9607126597548891\n",
      "44\n",
      "[0.78350636 0.21649364]\n",
      "121\n",
      "1.1807849962333725\n",
      "0.9735082372940715\n",
      "17\n",
      "[0.67542298 0.32457702]\n",
      "121\n",
      "1.1883265550427218\n",
      "0.9776357629833206\n",
      "26\n",
      "[0.5865816 0.4134184]\n",
      "121\n",
      "1.0632044057197017\n",
      "0.9534597212012399\n",
      "34\n",
      "[0.71348278 0.28651722]\n",
      "121\n",
      "1.0715843469610835\n",
      "0.9356002055777801\n",
      "47\n",
      "[0.63999502 0.36000498]\n",
      "121\n",
      "1.1139728101812756\n",
      "0.9663283207916513\n",
      "36\n",
      "[0.49491931 0.50508069]\n",
      "121\n",
      "1.1291845364318784\n",
      "0.9624026076988789\n",
      "59\n",
      "[0.54131904 0.45868096]\n",
      "121\n",
      "1.088095548493653\n",
      "0.9575806257083342\n",
      "48\n",
      "[0.88358447 0.11641553]\n",
      "121\n",
      "1.1830367083693518\n",
      "0.9867774744482186\n",
      "17\n",
      "[0.753531 0.246469]\n",
      "121\n",
      "1.0642263405477588\n",
      "0.9286888272686805\n",
      "49\n",
      "[0.45899677 0.54100323]\n",
      "121\n",
      "1.0780074186358255\n",
      "0.9703678653358795\n",
      "28\n",
      "[0.43452301 0.56547699]\n",
      "121\n",
      "1.1643927665728555\n",
      "0.9618727594745125\n",
      "62\n",
      "[0.34836551 0.65163449]\n",
      "121\n",
      "1.3012197719676772\n",
      "0.9541687833559854\n",
      "19\n",
      "[0.44494929 0.55505071]\n",
      "121\n",
      "1.064550561457434\n",
      "0.9123592390331065\n",
      "35\n",
      "[0.3090024 0.6909976]\n",
      "121\n",
      "1.4852521811503705\n",
      "0.9628967577895524\n",
      "47\n",
      "[0.27176023 0.72823977]\n",
      "121\n",
      "0.8977854056140712\n",
      "0.9133067117271674\n",
      "43\n"
     ]
    }
   ],
   "source": [
    "for train, validation in zip(trains, validations):\n",
    "    optimizer = MinimumVarianceOptimizer(train, covariance_model=semi_covariance)\n",
    "    weights = optimizer.optimize_weight()\n",
    "    \n",
    "    runner = mypo.Runner(\n",
    "        assets=np.array([1.2, 0.8]),\n",
    "        rebalancer=PlainRebalancer(weights=weights),\n",
    "        cash=0.5\n",
    "    )\n",
    "\n",
    "    runner.run(\n",
    "        market=validation\n",
    "    )\n",
    "    report = runner.report()\n",
    "    print(weights)\n",
    "    print(yearly_total_return(report))\n",
    "    print(max_drawdown(report))\n",
    "    print(max_drawdown_span(report))"
   ]
  },
  {
   "cell_type": "code",
   "execution_count": 7,
   "id": "running-modeling",
   "metadata": {
    "execution": {
     "iopub.execute_input": "2021-03-20T23:37:27.227972Z",
     "iopub.status.busy": "2021-03-20T23:37:27.222135Z",
     "iopub.status.idle": "2021-03-20T23:37:30.837920Z",
     "shell.execute_reply": "2021-03-20T23:37:30.835954Z"
    },
    "pycharm": {
     "name": "#%%\n"
    }
   },
   "outputs": [
    {
     "name": "stdout",
     "output_type": "stream",
     "text": [
      "[0.78193637 0.21806363]\n",
      "121\n",
      "1.1645264856434017\n",
      "0.9218752706714018\n",
      "52\n",
      "[0.53075475 0.46924525]\n",
      "121\n",
      "1.2106315199699202\n",
      "0.9757912536324969\n",
      "28\n",
      "[0.60269073 0.39730927]\n",
      "121\n",
      "1.1347347369675067\n",
      "0.977341067154578\n",
      "43\n",
      "[0.60400934 0.39599066]\n",
      "121\n",
      "1.173668789872131\n",
      "0.9756759029198983\n",
      "23\n",
      "[0.73051888 0.26948112]\n",
      "121\n",
      "1.1196733867576465\n",
      "0.9608139428030237\n",
      "40\n",
      "[0.89848954 0.10151046]\n",
      "121\n",
      "1.1500445280171678\n",
      "0.9651562102451123\n",
      "20\n",
      "[0.66579034 0.33420966]\n",
      "121\n",
      "1.1891704541060544\n",
      "0.9777035465501043\n",
      "26\n",
      "[0.61171418 0.38828582]\n",
      "121\n",
      "1.0640195191566801\n",
      "0.9561114753583249\n",
      "34\n",
      "[0.66812235 0.33187765]\n",
      "121\n",
      "1.0773267345507354\n",
      "0.939477310906374\n",
      "47\n",
      "[1. 0.]\n",
      "121\n",
      "1.013032239802114\n",
      "0.9048071531102287\n",
      "80\n",
      "[0.4134406 0.5865594]\n",
      "121\n",
      "1.1308997226408444\n",
      "0.9563548203772879\n",
      "74\n",
      "[0.5762219 0.4237781]\n",
      "121\n",
      "1.0971084694009459\n",
      "0.9622267295872157\n",
      "46\n",
      "[1.00000000e+00 7.16982029e-13]\n",
      "121\n",
      "1.1929410029670806\n",
      "0.9832025408904446\n",
      "18\n",
      "[0.7373504 0.2626496]\n",
      "121\n",
      "1.0632351395665687\n",
      "0.929380388236722\n",
      "49\n",
      "[0.80893999 0.19106001]\n",
      "121\n",
      "1.1734135232708545\n",
      "0.9768016722693053\n",
      "19\n",
      "[0.94246911 0.05753089]\n",
      "121\n",
      "0.9938061667536999\n",
      "0.862340828279062\n",
      "120\n",
      "[0.34537161 0.65462839]\n",
      "121\n",
      "1.3020859373594105\n",
      "0.9538691374913112\n",
      "19\n",
      "[0.45832717 0.54167283]\n",
      "121\n",
      "1.0589522862154024\n",
      "0.9114366639627757\n",
      "35\n",
      "[0.34948518 0.65051482]\n",
      "121\n",
      "1.5096960860762432\n",
      "0.9688144617596107\n",
      "42\n",
      "[0.37679504 0.62320496]\n",
      "121\n",
      "0.9484298101302526\n",
      "0.9265790789700551\n",
      "43\n"
     ]
    }
   ],
   "source": [
    "for train, validation in zip(trains, validations):\n",
    "    optimizer = SharpRatioOptimizer(train)\n",
    "    weights = optimizer.optimize_weight()\n",
    "\n",
    "    runner = mypo.Runner(\n",
    "        assets=np.array([1.2, 0.8]),\n",
    "        rebalancer=PlainRebalancer(weights=weights),\n",
    "        cash=0.5\n",
    "    )\n",
    "\n",
    "    runner.run(\n",
    "        market=validation\n",
    "    )\n",
    "    report = runner.report()\n",
    "    print(weights)\n",
    "    print(yearly_total_return(report))\n",
    "    print(max_drawdown(report))\n",
    "    print(max_drawdown_span(report))\n",
    "\n"
   ]
  }
 ],
 "metadata": {
  "kernelspec": {
   "display_name": "Python 3",
   "language": "python",
   "name": "python3"
  },
  "language_info": {
   "codemirror_mode": {
    "name": "ipython",
    "version": 3
   },
   "file_extension": ".py",
   "mimetype": "text/x-python",
   "name": "python",
   "nbconvert_exporter": "python",
   "pygments_lexer": "ipython3",
   "version": "3.9.2"
  },
  "pycharm": {
   "stem_cell": {
    "cell_type": "raw",
    "metadata": {
     "collapsed": false
    },
    "source": [
     "\n"
    ]
   }
  }
 },
 "nbformat": 4,
 "nbformat_minor": 5
}
