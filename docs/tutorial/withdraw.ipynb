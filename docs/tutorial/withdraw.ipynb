{
 "cells": [
  {
   "cell_type": "markdown",
   "metadata": {
    "pycharm": {
     "name": "#%% md\n"
    }
   },
   "source": [
    "Withdraw rate\n",
    "====="
   ]
  },
  {
   "cell_type": "code",
   "execution_count": 1,
   "metadata": {
    "execution": {
     "iopub.execute_input": "2021-03-21T04:32:23.617586Z",
     "iopub.status.busy": "2021-03-21T04:32:23.606129Z",
     "iopub.status.idle": "2021-03-21T04:32:25.309128Z",
     "shell.execute_reply": "2021-03-21T04:32:25.310868Z"
    }
   },
   "outputs": [],
   "source": [
    "from mypo import Runner, Market"
   ]
  },
  {
   "cell_type": "code",
   "execution_count": null,
   "metadata": {
    "pycharm": {
     "name": "#%%\n"
    }
   },
   "outputs": [],
   "source": []
  },
  {
   "cell_type": "code",
   "execution_count": 2,
   "metadata": {
    "execution": {
     "iopub.execute_input": "2021-03-21T04:32:25.331137Z",
     "iopub.status.busy": "2021-03-21T04:32:25.325172Z",
     "iopub.status.idle": "2021-03-21T04:35:23.836208Z",
     "shell.execute_reply": "2021-03-21T04:35:23.837833Z"
    },
    "pycharm": {
     "name": "#%%\n"
    }
   },
   "outputs": [],
   "source": [
    "withdraw = 0.06\n",
    "market = Market.create(\n",
    "    start_date=\"2021-01-01\",\n",
    "    end_date=\"2071-01-01\",\n",
    "    yearly_gain=0.00\n",
    ")\n",
    "\n",
    "runner = Runner(\n",
    "    cash=0.5,\n",
    "    withdraw=withdraw\n",
    ")\n",
    "\n",
    "runner.run(market=market)\n",
    "report = runner.report()"
   ]
  },
  {
   "cell_type": "code",
   "execution_count": 3,
   "metadata": {
    "execution": {
     "iopub.execute_input": "2021-03-21T04:35:23.875933Z",
     "iopub.status.busy": "2021-03-21T04:35:23.851604Z",
     "iopub.status.idle": "2021-03-21T04:35:23.895227Z",
     "shell.execute_reply": "2021-03-21T04:35:23.893482Z"
    }
   },
   "outputs": [
    {
     "name": "stdout",
     "output_type": "stream",
     "text": [
      "            total_assets  capital_gain  income_gain   cash  deal  fee  \\\n",
      "2021-01-01         0.495           0.0          0.0  0.495   0.0 -0.0   \n",
      "2021-01-02         0.495           0.0          0.0  0.495   0.0 -0.0   \n",
      "2021-01-03         0.495           0.0          0.0  0.495   0.0 -0.0   \n",
      "2021-01-04         0.495           0.0          0.0  0.495   0.0 -0.0   \n",
      "2021-01-05         0.495           0.0          0.0  0.495   0.0 -0.0   \n",
      "...                  ...           ...          ...    ...   ...  ...   \n",
      "2070-12-27        -2.500           0.0          0.0 -2.500   0.0 -0.0   \n",
      "2070-12-28        -2.500           0.0          0.0 -2.500   0.0 -0.0   \n",
      "2070-12-29        -2.500           0.0          0.0 -2.500   0.0 -0.0   \n",
      "2070-12-30        -2.500           0.0          0.0 -2.500   0.0 -0.0   \n",
      "2070-12-31        -2.500           0.0          0.0 -2.500   0.0 -0.0   \n",
      "\n",
      "            capital_gain_tax  income_gain_tax  \n",
      "2021-01-01               0.0             -0.0  \n",
      "2021-01-02               0.0             -0.0  \n",
      "2021-01-03               0.0             -0.0  \n",
      "2021-01-04               0.0             -0.0  \n",
      "2021-01-05               0.0             -0.0  \n",
      "...                      ...              ...  \n",
      "2070-12-27               0.0             -0.0  \n",
      "2070-12-28               0.0             -0.0  \n",
      "2070-12-29               0.0             -0.0  \n",
      "2070-12-30               0.0             -0.0  \n",
      "2070-12-31               0.0             -0.0  \n",
      "\n",
      "[18262 rows x 8 columns]\n"
     ]
    }
   ],
   "source": [
    "print(report)"
   ]
  },
  {
   "cell_type": "code",
   "execution_count": 4,
   "metadata": {
    "execution": {
     "iopub.execute_input": "2021-03-21T04:35:23.907561Z",
     "iopub.status.busy": "2021-03-21T04:35:23.905288Z",
     "iopub.status.idle": "2021-03-21T04:35:28.486128Z",
     "shell.execute_reply": "2021-03-21T04:35:28.487765Z"
    },
    "pycharm": {
     "name": "#%%\n"
    },
    "scrolled": true
   },
   "outputs": [
    {
     "data": {
      "text/plain": [
       "<AxesSubplot:>"
      ]
     },
     "execution_count": 1,
     "metadata": {},
     "output_type": "execute_result"
    },
    {
     "data": {
      "image/png": "[encoded data removed]",
      "text/plain": [
       "<Figure size 432x288 with 1 Axes>"
      ]
     },
     "metadata": {
      "needs_background": "light"
     },
     "output_type": "display_data"
    }
   ],
   "source": [
    "report.plot()"
   ]
  },
  {
   "cell_type": "code",
   "execution_count": null,
   "metadata": {},
   "outputs": [],
   "source": []
  },
  {
   "cell_type": "code",
   "execution_count": 5,
   "metadata": {
    "collapsed": false,
    "execution": {
     "iopub.execute_input": "2021-03-21T04:35:28.504058Z",
     "iopub.status.busy": "2021-03-21T04:35:28.501794Z",
     "iopub.status.idle": "2021-03-21T04:38:25.740983Z",
     "shell.execute_reply": "2021-03-21T04:38:25.742663Z"
    },
    "pycharm": {
     "name": "#%%\n"
    }
   },
   "outputs": [],
   "source": [
    "withdraw = 0.06\n",
    "market = Market.create(\n",
    "    start_date=\"2021-01-01\",\n",
    "    end_date=\"2071-01-01\",\n",
    "    yearly_gain=0.04\n",
    ")\n",
    "\n",
    "runner = Runner(\n",
    "    assets=[1.0],\n",
    "    cash=0.5,\n",
    "    withdraw=withdraw\n",
    ")\n",
    "\n",
    "runner.run(market=market)\n",
    "report = runner.report()"
   ]
  },
  {
   "cell_type": "code",
   "execution_count": 6,
   "metadata": {
    "collapsed": false,
    "execution": {
     "iopub.execute_input": "2021-03-21T04:38:25.770450Z",
     "iopub.status.busy": "2021-03-21T04:38:25.764583Z",
     "iopub.status.idle": "2021-03-21T04:38:25.788052Z",
     "shell.execute_reply": "2021-03-21T04:38:25.786087Z"
    },
    "pycharm": {
     "name": "#%%\n"
    }
   },
   "outputs": [
    {
     "name": "stdout",
     "output_type": "stream",
     "text": [
      "            total_assets  capital_gain  income_gain      cash  deal  fee  \\\n",
      "2021-01-01      1.495107      0.000107          0.0  0.495000   0.0 -0.0   \n",
      "2021-01-02      1.495215      0.000107          0.0  0.495000   0.0 -0.0   \n",
      "2021-01-03      1.495322      0.000107          0.0  0.495000   0.0 -0.0   \n",
      "2021-01-04      1.495430      0.000107          0.0  0.495000   0.0 -0.0   \n",
      "2021-01-05      1.495537      0.000108          0.0  0.495000   0.0 -0.0   \n",
      "...                  ...           ...          ...       ...   ...  ...   \n",
      "2070-12-27      0.821408      0.000088          0.0  0.000025   0.0 -0.0   \n",
      "2070-12-28      0.821496      0.000088          0.0  0.000025   0.0 -0.0   \n",
      "2070-12-29      0.821584      0.000088          0.0  0.000025   0.0 -0.0   \n",
      "2070-12-30      0.821673      0.000088          0.0  0.000025   0.0 -0.0   \n",
      "2070-12-31      0.821761      0.000088          0.0  0.000025   0.0 -0.0   \n",
      "\n",
      "            capital_gain_tax  income_gain_tax  \n",
      "2021-01-01               0.0             -0.0  \n",
      "2021-01-02               0.0             -0.0  \n",
      "2021-01-03               0.0             -0.0  \n",
      "2021-01-04               0.0             -0.0  \n",
      "2021-01-05               0.0             -0.0  \n",
      "...                      ...              ...  \n",
      "2070-12-27               0.0             -0.0  \n",
      "2070-12-28               0.0             -0.0  \n",
      "2070-12-29               0.0             -0.0  \n",
      "2070-12-30               0.0             -0.0  \n",
      "2070-12-31               0.0             -0.0  \n",
      "\n",
      "[18262 rows x 8 columns]\n"
     ]
    }
   ],
   "source": [
    "print(report)"
   ]
  },
  {
   "cell_type": "code",
   "execution_count": 7,
   "metadata": {
    "collapsed": false,
    "execution": {
     "iopub.execute_input": "2021-03-21T04:38:25.799592Z",
     "iopub.status.busy": "2021-03-21T04:38:25.797482Z",
     "iopub.status.idle": "2021-03-21T04:38:32.262107Z",
     "shell.execute_reply": "2021-03-21T04:38:32.263736Z"
    },
    "pycharm": {
     "name": "#%%\n"
    }
   },
   "outputs": [
    {
     "data": {
      "text/plain": [
       "<AxesSubplot:>"
      ]
     },
     "execution_count": 1,
     "metadata": {},
     "output_type": "execute_result"
    },
    {
     "data": {
      "image/png": "[encoded data removed]",
      "text/plain": [
       "<Figure size 432x288 with 1 Axes>"
      ]
     },
     "metadata": {
      "needs_background": "light"
     },
     "output_type": "display_data"
    }
   ],
   "source": [
    "report.plot()"
   ]
  },
  {
   "cell_type": "code",
   "execution_count": null,
   "metadata": {
    "collapsed": false,
    "pycharm": {
     "name": "#%%\n"
    }
   },
   "outputs": [],
   "source": []
  }
 ],
 "metadata": {
  "kernelspec": {
   "display_name": "Python 3",
   "language": "python",
   "name": "python3"
  },
  "language_info": {
   "codemirror_mode": {
    "name": "ipython",
    "version": 3
   },
   "file_extension": ".py",
   "mimetype": "text/x-python",
   "name": "python",
   "nbconvert_exporter": "python",
   "pygments_lexer": "ipython3",
   "version": "3.9.2"
  }
 },
 "nbformat": 4,
 "nbformat_minor": 1
}