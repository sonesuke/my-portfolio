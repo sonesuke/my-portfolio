{
 "cells": [
  {
   "cell_type": "markdown",
   "metadata": {
    "pycharm": {
     "name": "#%% md\n"
    }
   },
   "source": [
    "Withdraw rate\n",
    "====="
   ]
  },
  {
   "cell_type": "code",
   "execution_count": 1,
   "metadata": {
    "execution": {
     "iopub.execute_input": "2021-03-20T10:46:54.585854Z",
     "iopub.status.busy": "2021-03-20T10:46:54.567359Z",
     "iopub.status.idle": "2021-03-20T10:46:55.958146Z",
     "shell.execute_reply": "2021-03-20T10:46:55.959839Z"
    }
   },
   "outputs": [],
   "source": [
    "from mypo import Runner, Market"
   ]
  },
  {
   "cell_type": "code",
   "execution_count": null,
   "metadata": {
    "pycharm": {
     "name": "#%%\n"
    }
   },
   "outputs": [],
   "source": []
  },
  {
   "cell_type": "code",
   "execution_count": 2,
   "metadata": {
    "execution": {
     "iopub.execute_input": "2021-03-20T10:46:55.981109Z",
     "iopub.status.busy": "2021-03-20T10:46:55.973634Z",
     "iopub.status.idle": "2021-03-20T10:47:13.961958Z",
     "shell.execute_reply": "2021-03-20T10:47:13.959776Z"
    },
    "pycharm": {
     "name": "#%%\n"
    }
   },
   "outputs": [],
   "source": [
    "withdraw = 0.06\n",
    "market = Market.create(\n",
    "    start_date=\"2021-01-01\",\n",
    "    end_date=\"2071-01-01\",\n",
    "    yearly_gain=0.00\n",
    ")\n",
    "\n",
    "runner = Runner(\n",
    "    cash=0.5,\n",
    "    withdraw=withdraw\n",
    ")\n",
    "\n",
    "runner.run(market=market)\n",
    "report = runner.report()"
   ]
  },
  {
   "cell_type": "code",
   "execution_count": 3,
   "metadata": {
    "execution": {
     "iopub.execute_input": "2021-03-20T10:47:13.997091Z",
     "iopub.status.busy": "2021-03-20T10:47:13.978836Z",
     "iopub.status.idle": "2021-03-20T10:47:14.030288Z",
     "shell.execute_reply": "2021-03-20T10:47:14.032041Z"
    }
   },
   "outputs": [
    {
     "name": "stdout",
     "output_type": "stream",
     "text": [
      "            total_assets capital_gain  income_gain   cash  deal  fee  \\\n",
      "2021-01-01         0.495          0.0          0.0  0.495   0.0 -0.0   \n",
      "2021-01-02         0.495          0.0          0.0  0.495   0.0 -0.0   \n",
      "2021-01-03         0.495          0.0          0.0  0.495   0.0 -0.0   \n",
      "2021-01-04         0.495          0.0          0.0  0.495   0.0 -0.0   \n",
      "2021-01-05         0.495          0.0          0.0  0.495   0.0 -0.0   \n",
      "...                  ...          ...          ...    ...   ...  ...   \n",
      "2070-12-27        -2.500          0.0          0.0 -2.500   0.0 -0.0   \n",
      "2070-12-28        -2.500          0.0          0.0 -2.500   0.0 -0.0   \n",
      "2070-12-29        -2.500          0.0          0.0 -2.500   0.0 -0.0   \n",
      "2070-12-30        -2.500          0.0          0.0 -2.500   0.0 -0.0   \n",
      "2070-12-31        -2.500          0.0          0.0 -2.500   0.0 -0.0   \n",
      "\n",
      "            capital_gain_tax  income_gain_tax  \n",
      "2021-01-01               0.0             -0.0  \n",
      "2021-01-02               0.0             -0.0  \n",
      "2021-01-03               0.0             -0.0  \n",
      "2021-01-04               0.0             -0.0  \n",
      "2021-01-05               0.0             -0.0  \n",
      "...                      ...              ...  \n",
      "2070-12-27               0.0             -0.0  \n",
      "2070-12-28               0.0             -0.0  \n",
      "2070-12-29               0.0             -0.0  \n",
      "2070-12-30               0.0             -0.0  \n",
      "2070-12-31               0.0             -0.0  \n",
      "\n",
      "[18262 rows x 8 columns]\n"
     ]
    }
   ],
   "source": [
    "print(report)"
   ]
  },
  {
   "cell_type": "code",
   "execution_count": 4,
   "metadata": {
    "execution": {
     "iopub.execute_input": "2021-03-20T10:47:14.046698Z",
     "iopub.status.busy": "2021-03-20T10:47:14.044076Z",
     "iopub.status.idle": "2021-03-20T10:47:18.938150Z",
     "shell.execute_reply": "2021-03-20T10:47:18.936262Z"
    },
    "pycharm": {
     "name": "#%%\n"
    },
    "scrolled": true
   },
   "outputs": [
    {
     "data": {
      "text/plain": [
       "<AxesSubplot:>"
      ]
     },
     "execution_count": 1,
     "metadata": {},
     "output_type": "execute_result"
    },
    {
     "data": {
      "image/png": "[encoded data removed]",
      "text/plain": [
       "<Figure size 432x288 with 1 Axes>"
      ]
     },
     "metadata": {
      "needs_background": "light"
     },
     "output_type": "display_data"
    }
   ],
   "source": [
    "report.plot()"
   ]
  },
  {
   "cell_type": "code",
   "execution_count": null,
   "metadata": {},
   "outputs": [],
   "source": []
  },
  {
   "cell_type": "code",
   "execution_count": 5,
   "metadata": {
    "collapsed": false,
    "execution": {
     "iopub.execute_input": "2021-03-20T10:47:18.955149Z",
     "iopub.status.busy": "2021-03-20T10:47:18.952832Z",
     "iopub.status.idle": "2021-03-20T10:47:36.867460Z",
     "shell.execute_reply": "2021-03-20T10:47:36.869688Z"
    },
    "pycharm": {
     "name": "#%%\n"
    }
   },
   "outputs": [],
   "source": [
    "withdraw = 0.06\n",
    "market = Market.create(\n",
    "    start_date=\"2021-01-01\",\n",
    "    end_date=\"2071-01-01\",\n",
    "    yearly_gain=0.04\n",
    ")\n",
    "\n",
    "runner = Runner(\n",
    "    assets=[1.0],\n",
    "    cash=0.5,\n",
    "    withdraw=withdraw\n",
    ")\n",
    "\n",
    "runner.run(market=market)\n",
    "report = runner.report()"
   ]
  },
  {
   "cell_type": "code",
   "execution_count": 6,
   "metadata": {
    "collapsed": false,
    "execution": {
     "iopub.execute_input": "2021-03-20T10:47:36.909012Z",
     "iopub.status.busy": "2021-03-20T10:47:36.904770Z",
     "iopub.status.idle": "2021-03-20T10:47:36.934651Z",
     "shell.execute_reply": "2021-03-20T10:47:36.932510Z"
    },
    "pycharm": {
     "name": "#%%\n"
    }
   },
   "outputs": [
    {
     "name": "stdout",
     "output_type": "stream",
     "text": [
      "            total_assets        capital_gain  income_gain   cash  deal  fee  \\\n",
      "2021-01-01      1.495107  1.0001074597820279          0.0  0.495   0.0 -0.0   \n",
      "2021-01-02      1.495215  1.0001074597820279          0.0  0.495   0.0 -0.0   \n",
      "2021-01-03      1.495322   1.000107459782028          0.0  0.495   0.0 -0.0   \n",
      "2021-01-04      1.495430  1.0001074597820279          0.0  0.495   0.0 -0.0   \n",
      "2021-01-05      1.495537  1.0001074597820279          0.0  0.495   0.0 -0.0   \n",
      "...                  ...                 ...          ...    ...   ...  ...   \n",
      "2070-12-27      4.612795  1.0001074597820279          0.0 -2.500   0.0 -0.0   \n",
      "2070-12-28      4.613559  1.0001074597820279          0.0 -2.500   0.0 -0.0   \n",
      "2070-12-29      4.614324  1.0001074597820279          0.0 -2.500   0.0 -0.0   \n",
      "2070-12-30      4.615088  1.0001074597820279          0.0 -2.500   0.0 -0.0   \n",
      "2070-12-31      4.615853  1.0001074597820279          0.0 -2.500   0.0 -0.0   \n",
      "\n",
      "            capital_gain_tax  income_gain_tax  \n",
      "2021-01-01               0.0             -0.0  \n",
      "2021-01-02               0.0             -0.0  \n",
      "2021-01-03               0.0             -0.0  \n",
      "2021-01-04               0.0             -0.0  \n",
      "2021-01-05               0.0             -0.0  \n",
      "...                      ...              ...  \n",
      "2070-12-27               0.0             -0.0  \n",
      "2070-12-28               0.0             -0.0  \n",
      "2070-12-29               0.0             -0.0  \n",
      "2070-12-30               0.0             -0.0  \n",
      "2070-12-31               0.0             -0.0  \n",
      "\n",
      "[18262 rows x 8 columns]\n"
     ]
    }
   ],
   "source": [
    "print(report)"
   ]
  },
  {
   "cell_type": "code",
   "execution_count": 7,
   "metadata": {
    "collapsed": false,
    "execution": {
     "iopub.execute_input": "2021-03-20T10:47:36.948908Z",
     "iopub.status.busy": "2021-03-20T10:47:36.946245Z",
     "iopub.status.idle": "2021-03-20T10:47:42.871811Z",
     "shell.execute_reply": "2021-03-20T10:47:42.874286Z"
    },
    "pycharm": {
     "name": "#%%\n"
    }
   },
   "outputs": [
    {
     "data": {
      "text/plain": [
       "<AxesSubplot:>"
      ]
     },
     "execution_count": 1,
     "metadata": {},
     "output_type": "execute_result"
    },
    {
     "data": {
      "image/png": "[encoded data removed]",
      "text/plain": [
       "<Figure size 432x288 with 1 Axes>"
      ]
     },
     "metadata": {
      "needs_background": "light"
     },
     "output_type": "display_data"
    }
   ],
   "source": [
    "report.plot()"
   ]
  },
  {
   "cell_type": "code",
   "execution_count": null,
   "metadata": {
    "collapsed": false,
    "pycharm": {
     "name": "#%%\n"
    }
   },
   "outputs": [],
   "source": []
  }
 ],
 "metadata": {
  "kernelspec": {
   "display_name": "Python 3",
   "language": "python",
   "name": "python3"
  },
  "language_info": {
   "codemirror_mode": {
    "name": "ipython",
    "version": 3
   },
   "file_extension": ".py",
   "mimetype": "text/x-python",
   "name": "python",
   "nbconvert_exporter": "python",
   "pygments_lexer": "ipython3",
   "version": "3.9.2"
  }
 },
 "nbformat": 4,
 "nbformat_minor": 1
}