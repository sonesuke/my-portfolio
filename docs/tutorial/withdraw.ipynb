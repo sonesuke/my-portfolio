{
 "cells": [
  {
   "cell_type": "markdown",
   "metadata": {
    "pycharm": {
     "name": "#%% md\n"
    }
   },
   "source": [
    "Withdraw rate\n",
    "====="
   ]
  },
  {
   "cell_type": "code",
   "execution_count": 1,
   "metadata": {
    "execution": {
     "iopub.execute_input": "2021-03-20T22:25:19.516325Z",
     "iopub.status.busy": "2021-03-20T22:25:19.503782Z",
     "iopub.status.idle": "2021-03-20T22:25:20.890086Z",
     "shell.execute_reply": "2021-03-20T22:25:20.888210Z"
    }
   },
   "outputs": [],
   "source": [
    "from mypo import Runner, Market"
   ]
  },
  {
   "cell_type": "code",
   "execution_count": null,
   "metadata": {
    "pycharm": {
     "name": "#%%\n"
    }
   },
   "outputs": [],
   "source": []
  },
  {
   "cell_type": "code",
   "execution_count": 2,
   "metadata": {
    "execution": {
     "iopub.execute_input": "2021-03-20T22:25:20.905391Z",
     "iopub.status.busy": "2021-03-20T22:25:20.903269Z",
     "iopub.status.idle": "2021-03-20T22:25:40.032666Z",
     "shell.execute_reply": "2021-03-20T22:25:40.030663Z"
    },
    "pycharm": {
     "name": "#%%\n"
    }
   },
   "outputs": [],
   "source": [
    "withdraw = 0.06\n",
    "market = Market.create(\n",
    "    start_date=\"2021-01-01\",\n",
    "    end_date=\"2071-01-01\",\n",
    "    yearly_gain=0.00\n",
    ")\n",
    "\n",
    "runner = Runner(\n",
    "    cash=0.5,\n",
    "    withdraw=withdraw\n",
    ")\n",
    "\n",
    "runner.run(market=market)\n",
    "report = runner.report()"
   ]
  },
  {
   "cell_type": "code",
   "execution_count": 3,
   "metadata": {
    "execution": {
     "iopub.execute_input": "2021-03-20T22:25:40.048282Z",
     "iopub.status.busy": "2021-03-20T22:25:40.046136Z",
     "iopub.status.idle": "2021-03-20T22:25:40.090412Z",
     "shell.execute_reply": "2021-03-20T22:25:40.088303Z"
    }
   },
   "outputs": [
    {
     "name": "stdout",
     "output_type": "stream",
     "text": [
      "            total_assets  capital_gain  income_gain      cash  deal  fee  \\\n",
      "2021-01-01      0.495000           0.0          0.0  0.495000   0.0 -0.0   \n",
      "2021-01-02      0.495000           0.0          0.0  0.495000   0.0 -0.0   \n",
      "2021-01-03      0.495000           0.0          0.0  0.495000   0.0 -0.0   \n",
      "2021-01-04      0.495000           0.0          0.0  0.495000   0.0 -0.0   \n",
      "2021-01-05      0.495000           0.0          0.0  0.495000   0.0 -0.0   \n",
      "...                  ...           ...          ...       ...   ...  ...   \n",
      "2070-12-27     -2.487562           0.0          0.0  0.000025   0.0 -0.0   \n",
      "2070-12-28     -2.487562           0.0          0.0  0.000025   0.0 -0.0   \n",
      "2070-12-29     -2.487562           0.0          0.0  0.000025   0.0 -0.0   \n",
      "2070-12-30     -2.487562           0.0          0.0  0.000025   0.0 -0.0   \n",
      "2070-12-31     -2.487562           0.0          0.0  0.000025   0.0 -0.0   \n",
      "\n",
      "            capital_gain_tax  income_gain_tax  \n",
      "2021-01-01               0.0             -0.0  \n",
      "2021-01-02               0.0             -0.0  \n",
      "2021-01-03               0.0             -0.0  \n",
      "2021-01-04               0.0             -0.0  \n",
      "2021-01-05               0.0             -0.0  \n",
      "...                      ...              ...  \n",
      "2070-12-27               0.0             -0.0  \n",
      "2070-12-28               0.0             -0.0  \n",
      "2070-12-29               0.0             -0.0  \n",
      "2070-12-30               0.0             -0.0  \n",
      "2070-12-31               0.0             -0.0  \n",
      "\n",
      "[18262 rows x 8 columns]\n"
     ]
    }
   ],
   "source": [
    "print(report)"
   ]
  },
  {
   "cell_type": "code",
   "execution_count": 4,
   "metadata": {
    "execution": {
     "iopub.execute_input": "2021-03-20T22:25:40.103576Z",
     "iopub.status.busy": "2021-03-20T22:25:40.101244Z",
     "iopub.status.idle": "2021-03-20T22:25:44.849798Z",
     "shell.execute_reply": "2021-03-20T22:25:44.848033Z"
    },
    "pycharm": {
     "name": "#%%\n"
    },
    "scrolled": true
   },
   "outputs": [
    {
     "data": {
      "text/plain": [
       "<AxesSubplot:>"
      ]
     },
     "execution_count": 1,
     "metadata": {},
     "output_type": "execute_result"
    },
    {
     "data": {
      "image/png": "[encoded data removed]",
      "text/plain": [
       "<Figure size 432x288 with 1 Axes>"
      ]
     },
     "metadata": {
      "needs_background": "light"
     },
     "output_type": "display_data"
    }
   ],
   "source": [
    "report.plot()"
   ]
  },
  {
   "cell_type": "code",
   "execution_count": null,
   "metadata": {},
   "outputs": [],
   "source": []
  },
  {
   "cell_type": "code",
   "execution_count": 5,
   "metadata": {
    "collapsed": false,
    "execution": {
     "iopub.execute_input": "2021-03-20T22:25:44.865637Z",
     "iopub.status.busy": "2021-03-20T22:25:44.863536Z",
     "iopub.status.idle": "2021-03-20T22:26:03.906997Z",
     "shell.execute_reply": "2021-03-20T22:26:03.904956Z"
    },
    "pycharm": {
     "name": "#%%\n"
    }
   },
   "outputs": [],
   "source": [
    "withdraw = 0.06\n",
    "market = Market.create(\n",
    "    start_date=\"2021-01-01\",\n",
    "    end_date=\"2071-01-01\",\n",
    "    yearly_gain=0.04\n",
    ")\n",
    "\n",
    "runner = Runner(\n",
    "    assets=[1.0],\n",
    "    cash=0.5,\n",
    "    withdraw=withdraw\n",
    ")\n",
    "\n",
    "runner.run(market=market)\n",
    "report = runner.report()"
   ]
  },
  {
   "cell_type": "code",
   "execution_count": 6,
   "metadata": {
    "collapsed": false,
    "execution": {
     "iopub.execute_input": "2021-03-20T22:26:03.939851Z",
     "iopub.status.busy": "2021-03-20T22:26:03.927304Z",
     "iopub.status.idle": "2021-03-20T22:26:03.951330Z",
     "shell.execute_reply": "2021-03-20T22:26:03.952937Z"
    },
    "pycharm": {
     "name": "#%%\n"
    }
   },
   "outputs": [
    {
     "name": "stdout",
     "output_type": "stream",
     "text": [
      "            total_assets  capital_gain  income_gain      cash  deal  fee  \\\n",
      "2021-01-01      1.495107      0.000107          0.0  0.495000   0.0 -0.0   \n",
      "2021-01-02      1.495215      0.000107          0.0  0.495000   0.0 -0.0   \n",
      "2021-01-03      1.495322      0.000107          0.0  0.495000   0.0 -0.0   \n",
      "2021-01-04      1.495430      0.000107          0.0  0.495000   0.0 -0.0   \n",
      "2021-01-05      1.495537      0.000107          0.0  0.495000   0.0 -0.0   \n",
      "...                  ...           ...          ...       ...   ...  ...   \n",
      "2070-12-27      1.902027      0.000107          0.0  0.001315   0.0 -0.0   \n",
      "2070-12-28      1.902231      0.000107          0.0  0.001315   0.0 -0.0   \n",
      "2070-12-29      1.902435      0.000107          0.0  0.001315   0.0 -0.0   \n",
      "2070-12-30      1.902639      0.000107          0.0  0.001315   0.0 -0.0   \n",
      "2070-12-31      1.902844      0.000107          0.0  0.001315   0.0 -0.0   \n",
      "\n",
      "            capital_gain_tax  income_gain_tax  \n",
      "2021-01-01               0.0             -0.0  \n",
      "2021-01-02               0.0             -0.0  \n",
      "2021-01-03               0.0             -0.0  \n",
      "2021-01-04               0.0             -0.0  \n",
      "2021-01-05               0.0             -0.0  \n",
      "...                      ...              ...  \n",
      "2070-12-27               0.0             -0.0  \n",
      "2070-12-28               0.0             -0.0  \n",
      "2070-12-29               0.0             -0.0  \n",
      "2070-12-30               0.0             -0.0  \n",
      "2070-12-31               0.0             -0.0  \n",
      "\n",
      "[18262 rows x 8 columns]\n"
     ]
    }
   ],
   "source": [
    "print(report)"
   ]
  },
  {
   "cell_type": "code",
   "execution_count": 7,
   "metadata": {
    "collapsed": false,
    "execution": {
     "iopub.execute_input": "2021-03-20T22:26:03.965004Z",
     "iopub.status.busy": "2021-03-20T22:26:03.962768Z",
     "iopub.status.idle": "2021-03-20T22:26:10.826731Z",
     "shell.execute_reply": "2021-03-20T22:26:10.828483Z"
    },
    "pycharm": {
     "name": "#%%\n"
    }
   },
   "outputs": [
    {
     "data": {
      "text/plain": [
       "<AxesSubplot:>"
      ]
     },
     "execution_count": 1,
     "metadata": {},
     "output_type": "execute_result"
    },
    {
     "data": {
      "image/png": "[encoded data removed]",
      "text/plain": [
       "<Figure size 432x288 with 1 Axes>"
      ]
     },
     "metadata": {
      "needs_background": "light"
     },
     "output_type": "display_data"
    }
   ],
   "source": [
    "report.plot()"
   ]
  },
  {
   "cell_type": "code",
   "execution_count": null,
   "metadata": {
    "collapsed": false,
    "pycharm": {
     "name": "#%%\n"
    }
   },
   "outputs": [],
   "source": []
  }
 ],
 "metadata": {
  "kernelspec": {
   "display_name": "Python 3",
   "language": "python",
   "name": "python3"
  },
  "language_info": {
   "codemirror_mode": {
    "name": "ipython",
    "version": 3
   },
   "file_extension": ".py",
   "mimetype": "text/x-python",
   "name": "python",
   "nbconvert_exporter": "python",
   "pygments_lexer": "ipython3",
   "version": "3.9.2"
  }
 },
 "nbformat": 4,
 "nbformat_minor": 1
}