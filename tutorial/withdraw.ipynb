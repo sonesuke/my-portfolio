{
 "cells": [
  {
   "cell_type": "markdown",
   "metadata": {
    "pycharm": {
     "name": "#%% md\n"
    }
   },
   "source": [
    "Withdraw rate\n"
   ]
  },
  {
   "cell_type": "code",
   "execution_count": 1,
   "metadata": {
    "execution": {
     "iopub.execute_input": "2021-03-20T08:38:01.078050Z",
     "iopub.status.busy": "2021-03-20T08:38:01.059039Z",
     "iopub.status.idle": "2021-03-20T08:38:02.368779Z",
     "shell.execute_reply": "2021-03-20T08:38:02.366779Z"
    }
   },
   "outputs": [],
   "source": [
    "from mypo import Runner, Market"
   ]
  },
  {
   "cell_type": "code",
   "execution_count": null,
   "metadata": {
    "pycharm": {
     "name": "#%%\n"
    }
   },
   "outputs": [],
   "source": []
  },
  {
   "cell_type": "code",
   "execution_count": 2,
   "metadata": {
    "execution": {
     "iopub.execute_input": "2021-03-20T08:38:02.390282Z",
     "iopub.status.busy": "2021-03-20T08:38:02.382315Z",
     "iopub.status.idle": "2021-03-20T08:38:17.119848Z",
     "shell.execute_reply": "2021-03-20T08:38:17.117576Z"
    },
    "pycharm": {
     "name": "#%%\n"
    }
   },
   "outputs": [],
   "source": [
    "withdraw = 0.06\n",
    "\n",
    "market = Market.create(\n",
    "    start_date=\"2021-01-01\",\n",
    "    end_date=\"2071-01-01\",\n",
    "    yearly_gain=0.00\n",
    ")\n",
    "\n",
    "runner = Runner(\n",
    "    cash=0.5,\n",
    "    withdraw=withdraw\n",
    ")\n",
    "\n",
    "runner.run(\n",
    "    market=market\n",
    ")\n",
    "\n",
    "report = runner.report()\n",
    "\n",
    "\n"
   ]
  },
  {
   "cell_type": "code",
   "execution_count": 3,
   "metadata": {
    "execution": {
     "iopub.execute_input": "2021-03-20T08:38:17.140709Z",
     "iopub.status.busy": "2021-03-20T08:38:17.134657Z",
     "iopub.status.idle": "2021-03-20T08:38:17.254951Z",
     "shell.execute_reply": "2021-03-20T08:38:17.253233Z"
    }
   },
   "outputs": [
    {
     "data": {
      "text/html": [
       "<div>\n",
       "<style scoped>\n",
       "    .dataframe tbody tr th:only-of-type {\n",
       "        vertical-align: middle;\n",
       "    }\n",
       "\n",
       "    .dataframe tbody tr th {\n",
       "        vertical-align: top;\n",
       "    }\n",
       "\n",
       "    .dataframe thead th {\n",
       "        text-align: right;\n",
       "    }\n",
       "</style>\n",
       "<table border=\"1\" class=\"dataframe\">\n",
       "  <thead>\n",
       "    <tr style=\"text-align: right;\">\n",
       "      <th></th>\n",
       "      <th>total_assets</th>\n",
       "      <th>capital_gain</th>\n",
       "      <th>income_gain</th>\n",
       "      <th>cash</th>\n",
       "      <th>deal</th>\n",
       "      <th>fee</th>\n",
       "      <th>capital_gain_tax</th>\n",
       "      <th>income_gain_tax</th>\n",
       "    </tr>\n",
       "  </thead>\n",
       "  <tbody>\n",
       "    <tr>\n",
       "      <th>NaT</th>\n",
       "      <td>0.500</td>\n",
       "      <td>1.0</td>\n",
       "      <td>0.0</td>\n",
       "      <td>0.500</td>\n",
       "      <td>0.0</td>\n",
       "      <td>0.0</td>\n",
       "      <td>0.0</td>\n",
       "      <td>0.0</td>\n",
       "    </tr>\n",
       "    <tr>\n",
       "      <th>2021-01-01</th>\n",
       "      <td>0.495</td>\n",
       "      <td>NaN</td>\n",
       "      <td>0.0</td>\n",
       "      <td>0.495</td>\n",
       "      <td>[0.0]</td>\n",
       "      <td>-0.0</td>\n",
       "      <td>0.0</td>\n",
       "      <td>-0.0</td>\n",
       "    </tr>\n",
       "    <tr>\n",
       "      <th>2021-01-02</th>\n",
       "      <td>0.495</td>\n",
       "      <td>NaN</td>\n",
       "      <td>0.0</td>\n",
       "      <td>0.495</td>\n",
       "      <td>[0.0]</td>\n",
       "      <td>-0.0</td>\n",
       "      <td>0.0</td>\n",
       "      <td>-0.0</td>\n",
       "    </tr>\n",
       "    <tr>\n",
       "      <th>2021-01-03</th>\n",
       "      <td>0.495</td>\n",
       "      <td>NaN</td>\n",
       "      <td>0.0</td>\n",
       "      <td>0.495</td>\n",
       "      <td>[0.0]</td>\n",
       "      <td>-0.0</td>\n",
       "      <td>0.0</td>\n",
       "      <td>-0.0</td>\n",
       "    </tr>\n",
       "    <tr>\n",
       "      <th>2021-01-04</th>\n",
       "      <td>0.495</td>\n",
       "      <td>NaN</td>\n",
       "      <td>0.0</td>\n",
       "      <td>0.495</td>\n",
       "      <td>[0.0]</td>\n",
       "      <td>-0.0</td>\n",
       "      <td>0.0</td>\n",
       "      <td>-0.0</td>\n",
       "    </tr>\n",
       "    <tr>\n",
       "      <th>...</th>\n",
       "      <td>...</td>\n",
       "      <td>...</td>\n",
       "      <td>...</td>\n",
       "      <td>...</td>\n",
       "      <td>...</td>\n",
       "      <td>...</td>\n",
       "      <td>...</td>\n",
       "      <td>...</td>\n",
       "    </tr>\n",
       "    <tr>\n",
       "      <th>2070-12-27</th>\n",
       "      <td>-2.500</td>\n",
       "      <td>NaN</td>\n",
       "      <td>0.0</td>\n",
       "      <td>-2.500</td>\n",
       "      <td>[0.0]</td>\n",
       "      <td>-0.0</td>\n",
       "      <td>0.0</td>\n",
       "      <td>-0.0</td>\n",
       "    </tr>\n",
       "    <tr>\n",
       "      <th>2070-12-28</th>\n",
       "      <td>-2.500</td>\n",
       "      <td>NaN</td>\n",
       "      <td>0.0</td>\n",
       "      <td>-2.500</td>\n",
       "      <td>[0.0]</td>\n",
       "      <td>-0.0</td>\n",
       "      <td>0.0</td>\n",
       "      <td>-0.0</td>\n",
       "    </tr>\n",
       "    <tr>\n",
       "      <th>2070-12-29</th>\n",
       "      <td>-2.500</td>\n",
       "      <td>NaN</td>\n",
       "      <td>0.0</td>\n",
       "      <td>-2.500</td>\n",
       "      <td>[0.0]</td>\n",
       "      <td>-0.0</td>\n",
       "      <td>0.0</td>\n",
       "      <td>-0.0</td>\n",
       "    </tr>\n",
       "    <tr>\n",
       "      <th>2070-12-30</th>\n",
       "      <td>-2.500</td>\n",
       "      <td>NaN</td>\n",
       "      <td>0.0</td>\n",
       "      <td>-2.500</td>\n",
       "      <td>[0.0]</td>\n",
       "      <td>-0.0</td>\n",
       "      <td>0.0</td>\n",
       "      <td>-0.0</td>\n",
       "    </tr>\n",
       "    <tr>\n",
       "      <th>2070-12-31</th>\n",
       "      <td>-2.500</td>\n",
       "      <td>NaN</td>\n",
       "      <td>0.0</td>\n",
       "      <td>-2.500</td>\n",
       "      <td>[0.0]</td>\n",
       "      <td>-0.0</td>\n",
       "      <td>0.0</td>\n",
       "      <td>-0.0</td>\n",
       "    </tr>\n",
       "  </tbody>\n",
       "</table>\n",
       "<p>18263 rows × 8 columns</p>\n",
       "</div>"
      ],
      "text/plain": [
       "            total_assets  capital_gain  income_gain   cash   deal  fee  \\\n",
       "NaT                0.500           1.0          0.0  0.500    0.0  0.0   \n",
       "2021-01-01         0.495           NaN          0.0  0.495  [0.0] -0.0   \n",
       "2021-01-02         0.495           NaN          0.0  0.495  [0.0] -0.0   \n",
       "2021-01-03         0.495           NaN          0.0  0.495  [0.0] -0.0   \n",
       "2021-01-04         0.495           NaN          0.0  0.495  [0.0] -0.0   \n",
       "...                  ...           ...          ...    ...    ...  ...   \n",
       "2070-12-27        -2.500           NaN          0.0 -2.500  [0.0] -0.0   \n",
       "2070-12-28        -2.500           NaN          0.0 -2.500  [0.0] -0.0   \n",
       "2070-12-29        -2.500           NaN          0.0 -2.500  [0.0] -0.0   \n",
       "2070-12-30        -2.500           NaN          0.0 -2.500  [0.0] -0.0   \n",
       "2070-12-31        -2.500           NaN          0.0 -2.500  [0.0] -0.0   \n",
       "\n",
       "            capital_gain_tax  income_gain_tax  \n",
       "NaT                      0.0              0.0  \n",
       "2021-01-01               0.0             -0.0  \n",
       "2021-01-02               0.0             -0.0  \n",
       "2021-01-03               0.0             -0.0  \n",
       "2021-01-04               0.0             -0.0  \n",
       "...                      ...              ...  \n",
       "2070-12-27               0.0             -0.0  \n",
       "2070-12-28               0.0             -0.0  \n",
       "2070-12-29               0.0             -0.0  \n",
       "2070-12-30               0.0             -0.0  \n",
       "2070-12-31               0.0             -0.0  \n",
       "\n",
       "[18263 rows x 8 columns]"
      ]
     },
     "metadata": {},
     "output_type": "display_data"
    }
   ],
   "source": [
    "display(report)"
   ]
  },
  {
   "cell_type": "code",
   "execution_count": 4,
   "metadata": {
    "execution": {
     "iopub.execute_input": "2021-03-20T08:38:17.267269Z",
     "iopub.status.busy": "2021-03-20T08:38:17.264869Z",
     "iopub.status.idle": "2021-03-20T08:38:20.206521Z",
     "shell.execute_reply": "2021-03-20T08:38:20.204487Z"
    },
    "pycharm": {
     "name": "#%%\n"
    },
    "scrolled": true
   },
   "outputs": [
    {
     "data": {
      "text/plain": [
       "<AxesSubplot:>"
      ]
     },
     "execution_count": 1,
     "metadata": {},
     "output_type": "execute_result"
    },
    {
     "data": {
      "image/png": "[encoded data removed]",
      "text/plain": [
       "<Figure size 432x288 with 1 Axes>"
      ]
     },
     "metadata": {
      "needs_background": "light"
     },
     "output_type": "display_data"
    }
   ],
   "source": [
    "report.plot()"
   ]
  },
  {
   "cell_type": "code",
   "execution_count": null,
   "metadata": {},
   "outputs": [],
   "source": []
  }
 ],
 "metadata": {
  "kernelspec": {
   "display_name": "Python 3",
   "language": "python",
   "name": "python3"
  },
  "language_info": {
   "codemirror_mode": {
    "name": "ipython",
    "version": 3
   },
   "file_extension": ".py",
   "mimetype": "text/x-python",
   "name": "python",
   "nbconvert_exporter": "python",
   "pygments_lexer": "ipython3",
   "version": "3.9.2"
  }
 },
 "nbformat": 4,
 "nbformat_minor": 1
}
