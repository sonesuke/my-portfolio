{
 "cells": [
  {
   "cell_type": "code",
   "execution_count": 10,
   "id": "painted-recipe",
   "metadata": {
    "pycharm": {
     "is_executing": true
    }
   },
   "outputs": [
    {
     "ename": "ImportError",
     "evalue": "cannot import name 'PlainRebalancer' from 'mypo' (/app/mypo/__init__.py)",
     "output_type": "error",
     "traceback": [
      "\u001b[0;31m---------------------------------------------------------------------------\u001b[0m",
      "\u001b[0;31mImportError\u001b[0m                               Traceback (most recent call last)",
      "\u001b[0;32m<ipython-input-10-5cbbacd0f9c9>\u001b[0m in \u001b[0;36m<module>\u001b[0;34m\u001b[0m\n\u001b[1;32m      1\u001b[0m \u001b[0;32mimport\u001b[0m \u001b[0mmypo\u001b[0m\u001b[0;34m\u001b[0m\u001b[0;34m\u001b[0m\u001b[0m\n\u001b[0;32m----> 2\u001b[0;31m \u001b[0;32mfrom\u001b[0m \u001b[0mmypo\u001b[0m \u001b[0;32mimport\u001b[0m \u001b[0msplit_n_periods\u001b[0m\u001b[0;34m,\u001b[0m \u001b[0mRunner\u001b[0m\u001b[0;34m,\u001b[0m \u001b[0mSettings\u001b[0m\u001b[0;34m,\u001b[0m \u001b[0mPlainRebalancer\u001b[0m\u001b[0;34m\u001b[0m\u001b[0;34m\u001b[0m\u001b[0m\n\u001b[0m\u001b[1;32m      3\u001b[0m \u001b[0;32mfrom\u001b[0m \u001b[0mmypo\u001b[0m\u001b[0;34m.\u001b[0m\u001b[0moptimizer\u001b[0m \u001b[0;32mimport\u001b[0m \u001b[0mMinimumVarianceOptimizer\u001b[0m\u001b[0;34m\u001b[0m\u001b[0;34m\u001b[0m\u001b[0m\n\u001b[1;32m      4\u001b[0m \u001b[0;32mfrom\u001b[0m \u001b[0mmypo\u001b[0m\u001b[0;34m.\u001b[0m\u001b[0mloss_function\u001b[0m \u001b[0;32mimport\u001b[0m \u001b[0mtotal_return\u001b[0m\u001b[0;34m,\u001b[0m \u001b[0mmax_drawdown\u001b[0m\u001b[0;34m,\u001b[0m \u001b[0mmax_drawdown_span\u001b[0m\u001b[0;34m\u001b[0m\u001b[0;34m\u001b[0m\u001b[0m\n\u001b[1;32m      5\u001b[0m \u001b[0;32mimport\u001b[0m \u001b[0mnumpy\u001b[0m \u001b[0;32mas\u001b[0m \u001b[0mnp\u001b[0m\u001b[0;34m\u001b[0m\u001b[0;34m\u001b[0m\u001b[0m\n",
      "\u001b[0;31mImportError\u001b[0m: cannot import name 'PlainRebalancer' from 'mypo' (/app/mypo/__init__.py)"
     ]
    }
   ],
   "source": [
    "import mypo\n",
    "from mypo import split_n_periods, Runner, Settings, PlainRebalancer\n",
    "from mypo.optimizer import MinimumVarianceOptimizer\n",
    "from mypo.loss_function import total_return, max_drawdown, max_drawdown_span\n",
    "import numpy as np\n",
    "print(mypo.__version__)"
   ]
  },
  {
   "cell_type": "code",
   "execution_count": 6,
   "id": "attached-berkeley",
   "metadata": {
    "pycharm": {
     "name": "#%%\n"
    }
   },
   "outputs": [],
   "source": [
    "loader = mypo.Loader()"
   ]
  },
  {
   "cell_type": "code",
   "execution_count": 7,
   "id": "secure-packet",
   "metadata": {
    "pycharm": {
     "name": "#%%\n"
    }
   },
   "outputs": [],
   "source": [
    "loader.get('VOO', 0.0003)\n",
    "loader.get('IEF', 0.0015)"
   ]
  },
  {
   "cell_type": "code",
   "execution_count": 8,
   "id": "floppy-communications",
   "metadata": {
    "pycharm": {
     "name": "#%%\n"
    }
   },
   "outputs": [],
   "source": [
    "market = loader.get_market()\n",
    "trains, evals = split_n_periods(market, n = 20, train_span=200)"
   ]
  },
  {
   "cell_type": "code",
   "execution_count": 9,
   "id": "thirty-purple",
   "metadata": {
    "pycharm": {
     "name": "#%%\n"
    }
   },
   "outputs": [
    {
     "ename": "AttributeError",
     "evalue": "module 'mypo' has no attribute 'PlainRebalancer'",
     "output_type": "error",
     "traceback": [
      "\u001b[0;31m---------------------------------------------------------------------------\u001b[0m",
      "\u001b[0;31mAttributeError\u001b[0m                            Traceback (most recent call last)",
      "\u001b[0;32m<ipython-input-9-30eb12ec70bb>\u001b[0m in \u001b[0;36m<module>\u001b[0;34m\u001b[0m\n\u001b[1;32m      7\u001b[0m     runner = mypo.Runner(\n\u001b[1;32m      8\u001b[0m         \u001b[0massets\u001b[0m\u001b[0;34m=\u001b[0m\u001b[0mnp\u001b[0m\u001b[0;34m.\u001b[0m\u001b[0marray\u001b[0m\u001b[0;34m(\u001b[0m\u001b[0;34m[\u001b[0m\u001b[0;36m1.2\u001b[0m\u001b[0;34m,\u001b[0m \u001b[0;36m0.8\u001b[0m\u001b[0;34m]\u001b[0m\u001b[0;34m)\u001b[0m\u001b[0;34m,\u001b[0m\u001b[0;34m\u001b[0m\u001b[0;34m\u001b[0m\u001b[0m\n\u001b[0;32m----> 9\u001b[0;31m         \u001b[0mrebalancer\u001b[0m\u001b[0;34m=\u001b[0m\u001b[0mmypo\u001b[0m\u001b[0;34m.\u001b[0m\u001b[0mPlainRebalancer\u001b[0m\u001b[0;34m(\u001b[0m\u001b[0mweights\u001b[0m\u001b[0;34m=\u001b[0m\u001b[0mweights\u001b[0m\u001b[0;34m)\u001b[0m\u001b[0;34m,\u001b[0m\u001b[0;34m\u001b[0m\u001b[0;34m\u001b[0m\u001b[0m\n\u001b[0m\u001b[1;32m     10\u001b[0m         \u001b[0mcash\u001b[0m\u001b[0;34m=\u001b[0m\u001b[0;36m0.5\u001b[0m\u001b[0;34m,\u001b[0m\u001b[0;34m\u001b[0m\u001b[0;34m\u001b[0m\u001b[0m\n\u001b[1;32m     11\u001b[0m         \u001b[0msettings\u001b[0m\u001b[0;34m=\u001b[0m\u001b[0msettings\u001b[0m\u001b[0;34m\u001b[0m\u001b[0;34m\u001b[0m\u001b[0m\n",
      "\u001b[0;31mAttributeError\u001b[0m: module 'mypo' has no attribute 'PlainRebalancer'"
     ]
    }
   ],
   "source": [
    "for train, eval in zip(trains, evals):\n",
    "    optimizer = MinimumVarianceOptimizer(train)\n",
    "    weights = optimizer.optimize_weight()\n",
    "    \n",
    "    settings = Settings(tax_rate=0.20, fee_rate=0.005, spending=0.06)\n",
    "    \n",
    "    runner = mypo.Runner(\n",
    "        assets=np.array([1.2, 0.8]),\n",
    "        rebalancer=mypo.PlainRebalancer(weights=weights),\n",
    "        cash=0.5,\n",
    "        settings=settings\n",
    "    )\n",
    "\n",
    "    runner.run(\n",
    "        market=eval\n",
    "    )\n",
    "    report = runner.report()\n",
    "    print(weights)\n",
    "    print(total_return(report))\n",
    "    print(max_drawdown(report))\n",
    "    print(max_drawdown_span(report))"
   ]
  },
  {
   "cell_type": "code",
   "execution_count": null,
   "id": "running-modeling",
   "metadata": {
    "pycharm": {
     "name": "#%%\n"
    }
   },
   "outputs": [],
   "source": []
  }
 ],
 "metadata": {
  "kernelspec": {
   "display_name": "Python 3",
   "language": "python",
   "name": "python3"
  },
  "language_info": {
   "codemirror_mode": {
    "name": "ipython",
    "version": 3
   },
   "file_extension": ".py",
   "mimetype": "text/x-python",
   "name": "python",
   "nbconvert_exporter": "python",
   "pygments_lexer": "ipython3",
   "version": "3.9.1"
  },
  "pycharm": {
   "stem_cell": {
    "cell_type": "raw",
    "metadata": {
     "collapsed": false
    },
    "source": [
     "\n"
    ]
   }
  }
 },
 "nbformat": 4,
 "nbformat_minor": 5
}
