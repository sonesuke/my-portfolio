{
 "cells": [
  {
   "cell_type": "code",
   "execution_count": 6,
   "id": "painted-recipe",
   "metadata": {},
   "outputs": [
    {
     "name": "stdout",
     "output_type": "stream",
     "text": [
      "0.0.1\n"
     ]
    }
   ],
   "source": [
    "import mypo\n",
    "import numpy as np\n",
    "print(mypo.__version__)"
   ]
  },
  {
   "cell_type": "code",
   "execution_count": 7,
   "outputs": [],
   "source": [
    "loader = mypo.Loader()"
   ],
   "metadata": {
    "collapsed": false,
    "pycharm": {
     "name": "#%%\n"
    }
   }
  },
  {
   "cell_type": "code",
   "execution_count": 8,
   "outputs": [],
   "source": [
    "loader.get('VOO')\n",
    "loader.get('IEF')"
   ],
   "metadata": {
    "collapsed": false,
    "pycharm": {
     "name": "#%%\n"
    }
   }
  },
  {
   "cell_type": "code",
   "execution_count": 9,
   "outputs": [],
   "source": [
    "runner = mypo.Runner(\n",
    "    assets=np.array([1.2, 0.8]),\n",
    "    rebalancer=mypo.PlainRebalancer(np.array([0.8, 0.2])),\n",
    "    cash=0.5,\n",
    "    spending=0.06\n",
    ")"
   ],
   "metadata": {
    "collapsed": false,
    "pycharm": {
     "name": "#%%\n"
    }
   }
  },
  {
   "cell_type": "code",
   "execution_count": 10,
   "outputs": [
    {
     "data": {
      "text/plain": "2.203322040826678"
     },
     "execution_count": 10,
     "metadata": {},
     "output_type": "execute_result"
    }
   ],
   "source": [
    "market = loader.get_market()\n",
    "runner.run(\n",
    "    market=market,\n",
    "    expense_ratio=np.array([0.0007, 0.0007])\n",
    ")\n",
    "runner.total_assets()"
   ],
   "metadata": {
    "collapsed": false,
    "pycharm": {
     "name": "#%%\n"
    }
   }
  },
  {
   "cell_type": "code",
   "execution_count": 11,
   "outputs": [
    {
     "name": "stdout",
     "output_type": "stream",
     "text": [
      "            capital_gain  income_gain      cash  \\\n",
      "2010-09-10      0.001738          0.0  0.503971   \n",
      "2010-09-13      0.020626          0.0  0.504207   \n",
      "2010-09-14      0.000307          0.0  0.504224   \n",
      "2010-09-15      0.001257          0.0  0.504407   \n",
      "2010-09-16     -0.003455          0.0  0.504501   \n",
      "...                  ...          ...       ...   \n",
      "2021-02-22     -0.008403          0.0  1.082643   \n",
      "2021-02-23      0.000531          0.0  1.082644   \n",
      "2021-02-24      0.008979          0.0  1.082667   \n",
      "2021-02-25     -0.025929          0.0  1.082686   \n",
      "2021-02-26     -0.003705          0.0  1.082712   \n",
      "\n",
      "                                                      deal           fee  \\\n",
      "2010-09-10      [0.39706417263271665, 0.39706417263271665] -3.970642e-03   \n",
      "2010-09-13  [0.0025054883944242157, 0.0025054883944244377] -2.505488e-05   \n",
      "2010-09-14  [0.0016931031559825893, 0.0016931031559826448] -1.693103e-05   \n",
      "2010-09-15  [0.0019423643909795008, 0.0019423643909795563] -1.942364e-05   \n",
      "2010-09-16  [0.0010050033011927972, 0.0010050033011930193] -1.005003e-05   \n",
      "...                                                    ...           ...   \n",
      "2021-02-22   [0.001146156290710798, 0.0011461562907107148] -1.146156e-05   \n",
      "2021-02-23  [8.967697475403824e-05, 8.967697475403824e-05] -8.967697e-07   \n",
      "2021-02-24  [0.0022706076232539285, 0.0022706076232539563] -2.270608e-05   \n",
      "2021-02-25   [0.001961767403714898, 0.0019617674037147315] -1.961767e-05   \n",
      "2021-02-26   [0.002602654392937276, 0.0026026543929371926] -2.602654e-05   \n",
      "\n",
      "            capital_gain_tax  income_gain_tax  \n",
      "2010-09-10          0.000000             -0.0  \n",
      "2010-09-13         -0.000211             -0.0  \n",
      "2010-09-14          0.000000             -0.0  \n",
      "2010-09-15         -0.000164             -0.0  \n",
      "2010-09-16         -0.000084             -0.0  \n",
      "...                      ...              ...  \n",
      "2021-02-22          0.000000             -0.0  \n",
      "2021-02-23          0.000000             -0.0  \n",
      "2021-02-24          0.000000             -0.0  \n",
      "2021-02-25          0.000000             -0.0  \n",
      "2021-02-26          0.000000             -0.0  \n",
      "\n",
      "[2634 rows x 7 columns]\n"
     ]
    }
   ],
   "source": [
    "report = runner.report()\n",
    "print(report)\n",
    "\n"
   ],
   "metadata": {
    "collapsed": false,
    "pycharm": {
     "name": "#%%\n"
    }
   }
  }
 ],
 "metadata": {
  "kernelspec": {
   "display_name": "Python 3",
   "language": "python",
   "name": "python3"
  },
  "language_info": {
   "codemirror_mode": {
    "name": "ipython",
    "version": 3
   },
   "file_extension": ".py",
   "mimetype": "text/x-python",
   "name": "python",
   "nbconvert_exporter": "python",
   "pygments_lexer": "ipython3",
   "version": "3.9.1"
  },
  "pycharm": {
   "stem_cell": {
    "cell_type": "raw",
    "source": [
     "\n"
    ],
    "metadata": {
     "collapsed": false
    }
   }
  }
 },
 "nbformat": 4,
 "nbformat_minor": 5
}