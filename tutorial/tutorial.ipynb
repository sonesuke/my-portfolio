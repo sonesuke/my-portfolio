{
 "cells": [
  {
   "cell_type": "code",
   "execution_count": 7,
   "id": "painted-recipe",
   "metadata": {},
   "outputs": [
    {
     "name": "stdout",
     "output_type": "stream",
     "text": [
      "0.0.31\n"
     ]
    }
   ],
   "source": [
    "import mypo\n",
    "from mypo import split_n_periods, Runner, Settings\n",
    "from mypo.rebalancer import PlainRebalancer\n",
    "from mypo.optimizer import MinimumVarianceOptimizer, SharpRatioOptimizer\n",
    "from mypo.loss_function import total_return, max_drawdown, max_drawdown_span\n",
    "import numpy as np\n",
    "print(mypo.__version__)"
   ]
  },
  {
   "cell_type": "code",
   "execution_count": 8,
   "id": "attached-berkeley",
   "metadata": {
    "pycharm": {
     "name": "#%%\n"
    }
   },
   "outputs": [],
   "source": [
    "loader = mypo.Loader()"
   ]
  },
  {
   "cell_type": "code",
   "execution_count": 9,
   "id": "secure-packet",
   "metadata": {
    "pycharm": {
     "name": "#%%\n"
    }
   },
   "outputs": [],
   "source": [
    "loader.get('VOO', 0.0003)\n",
    "loader.get('IEF', 0.0015)"
   ]
  },
  {
   "cell_type": "code",
   "execution_count": 10,
   "id": "floppy-communications",
   "metadata": {
    "pycharm": {
     "name": "#%%\n"
    }
   },
   "outputs": [],
   "source": [
    "market = loader.get_market()\n",
    "trains, evals = split_n_periods(market, n = 20, train_span=200)"
   ]
  },
  {
   "cell_type": "code",
   "execution_count": 11,
   "id": "thirty-purple",
   "metadata": {
    "pycharm": {
     "name": "#%%\n"
    }
   },
   "outputs": [
    {
     "name": "stdout",
     "output_type": "stream",
     "text": [
      "[0.34469253 0.65530747]\n",
      "1.043372312060282\n",
      "0.9797568490253495\n",
      "38\n",
      "[0.21730122 0.78269878]\n",
      "1.0287601043397612\n",
      "0.9911116300733043\n",
      "35\n",
      "[0.2340641 0.7659359]\n",
      "1.0280418849499935\n",
      "0.9905182310083666\n",
      "30\n",
      "[0.25763427 0.74236573]\n",
      "1.0241188786825037\n",
      "0.9915505378563656\n",
      "19\n",
      "[0.24866755 0.75133245]\n",
      "1.0234265632699384\n",
      "0.9821803141412107\n",
      "48\n",
      "[0.27718987 0.72281013]\n",
      "1.0277907362077388\n",
      "0.9906500245657137\n",
      "25\n",
      "[0.2536363 0.7463637]\n",
      "1.0273888630850136\n",
      "0.9896536836091101\n",
      "25\n",
      "[0.23231418 0.76768582]\n",
      "1.0276014275149954\n",
      "0.9870561669610171\n",
      "35\n",
      "[0.25493454 0.74506546]\n",
      "1.023994513931209\n",
      "0.9906459625213963\n",
      "25\n",
      "[0.25174495 0.74825505]\n",
      "1.0270963573796699\n",
      "0.9860219958731187\n",
      "39\n",
      "[0.18749064 0.81250936]\n",
      "1.0259268192611803\n",
      "0.9900977793400523\n",
      "23\n",
      "[0.20285738 0.79714262]\n",
      "1.025297849782452\n",
      "0.9894641999843474\n",
      "24\n",
      "[0.26902283 0.73097717]\n",
      "1.0254780834168364\n",
      "0.9937005396643729\n",
      "35\n",
      "[0.33619565 0.66380435]\n",
      "1.0239542590112058\n",
      "0.9882436375162573\n",
      "20\n",
      "[0.16236602 0.83763398]\n",
      "1.028817565313823\n",
      "0.9929513387932722\n",
      "26\n",
      "[0.1594099 0.8405901]\n",
      "1.0375398364686705\n",
      "0.9937087065379107\n",
      "19\n",
      "[0.14380304 0.85619696]\n",
      "1.0374240896926252\n",
      "0.9899437129276789\n",
      "35\n",
      "[0.19152976 0.80847024]\n",
      "1.0351569670874687\n",
      "0.9847618691918616\n",
      "38\n",
      "[0.15013334 0.84986666]\n",
      "1.032048971935432\n",
      "0.9895984804090541\n",
      "32\n",
      "[0.11991002 0.88008998]\n",
      "1.025028668692889\n",
      "0.9836921623377788\n",
      "76\n"
     ]
    }
   ],
   "source": [
    "for train, eval in zip(trains, evals):\n",
    "    optimizer = MinimumVarianceOptimizer(train)\n",
    "    weights = optimizer.optimize_weight()\n",
    "    \n",
    "    settings = Settings(tax_rate=0.20, fee_rate=0.005, spending=0.06)\n",
    "    \n",
    "    runner = mypo.Runner(\n",
    "        assets=np.array([1.2, 0.8]),\n",
    "        rebalancer=PlainRebalancer(weights=weights),\n",
    "        cash=0.5,\n",
    "        settings=settings\n",
    "    )\n",
    "\n",
    "    runner.run(\n",
    "        market=eval\n",
    "    )\n",
    "    report = runner.report()\n",
    "    print(weights)\n",
    "    print(total_return(report))\n",
    "    print(max_drawdown(report))\n",
    "    print(max_drawdown_span(report))"
   ]
  },
  {
   "cell_type": "code",
   "execution_count": 13,
   "id": "running-modeling",
   "metadata": {
    "pycharm": {
     "name": "#%%\n"
    }
   },
   "outputs": [
    {
     "name": "stdout",
     "output_type": "stream",
     "text": [
      "[0.3440195 0.6559805]\n",
      "1.0433871407637034\n",
      "0.9797988008848209\n",
      "38\n",
      "[0.21742824 0.78257176]\n",
      "1.0287600054689576\n",
      "0.9911134239732007\n",
      "35\n",
      "[0.23384719 0.76615281]\n",
      "1.0280496160589585\n",
      "0.9905181833672503\n",
      "30\n",
      "[0.25761444 0.74238556]\n",
      "1.0241193838408629\n",
      "0.9915505620417032\n",
      "19\n",
      "[0.24837979 0.75162021]\n",
      "1.023436614292534\n",
      "0.982181850669234\n",
      "48\n",
      "[0.27681069 0.72318931]\n",
      "1.0278033894431682\n",
      "0.9906503831486014\n",
      "25\n",
      "[0.25370791 0.74629209]\n",
      "1.0273861170242065\n",
      "0.9896518841983583\n",
      "25\n",
      "[0.23328126 0.76671874]\n",
      "1.027565214786204\n",
      "0.9870528878185915\n",
      "35\n",
      "[0.25503494 0.74496506]\n",
      "1.023991996671534\n",
      "0.9906422964949282\n",
      "25\n",
      "[0.25129629 0.74870371]\n",
      "1.0271075549926125\n",
      "0.9860250171675116\n",
      "39\n",
      "[0.18736731 0.81263269]\n",
      "1.025928835279197\n",
      "0.9900995244707699\n",
      "23\n",
      "[0.20275458 0.79724542]\n",
      "1.0253007608901874\n",
      "0.9894649585175446\n",
      "24\n",
      "[0.26863304 0.73136696]\n",
      "1.0254903224819922\n",
      "0.9936991967075149\n",
      "35\n",
      "[0.33672371 0.66327629]\n",
      "1.0239398773892925\n",
      "0.9882184364152576\n",
      "20\n",
      "[0.16241943 0.83758057]\n",
      "1.028816292354031\n",
      "0.9929509696960416\n",
      "26\n",
      "[0.15936493 0.84063507]\n",
      "1.0375407214923602\n",
      "0.9937090682876055\n",
      "19\n",
      "[0.1438985 0.8561015]\n",
      "1.0374189753367447\n",
      "0.9899464025825485\n",
      "35\n",
      "[0.19141305 0.80858695]\n",
      "1.0351426038636387\n",
      "0.9847723463056662\n",
      "38\n",
      "[0.15058547 0.84941453]\n",
      "1.0320625875344358\n",
      "0.9896118492754231\n",
      "32\n",
      "[0.1199797 0.8800203]\n",
      "1.0250286364002779\n",
      "0.9836915365538196\n",
      "76\n"
     ]
    }
   ],
   "source": [
    "for train, eval in zip(trains, evals):\n",
    "    optimizer = SharpRatioOptimizer(train)\n",
    "    weights = optimizer.optimize_weight()\n",
    "\n",
    "    settings = Settings(tax_rate=0.20, fee_rate=0.005, spending=0.06)\n",
    "\n",
    "    runner = mypo.Runner(\n",
    "        assets=np.array([1.2, 0.8]),\n",
    "        rebalancer=PlainRebalancer(weights=weights),\n",
    "        cash=0.5,\n",
    "        settings=settings\n",
    "    )\n",
    "\n",
    "    runner.run(\n",
    "        market=eval\n",
    "    )\n",
    "    report = runner.report()\n",
    "    print(weights)\n",
    "    print(total_return(report))\n",
    "    print(max_drawdown(report))\n",
    "    print(max_drawdown_span(report))\n"
   ]
  }
 ],
 "metadata": {
  "kernelspec": {
   "display_name": "Python 3",
   "language": "python",
   "name": "python3"
  },
  "language_info": {
   "codemirror_mode": {
    "name": "ipython",
    "version": 3
   },
   "file_extension": ".py",
   "mimetype": "text/x-python",
   "name": "python",
   "nbconvert_exporter": "python",
   "pygments_lexer": "ipython3",
   "version": "3.9.1"
  },
  "pycharm": {
   "stem_cell": {
    "cell_type": "raw",
    "source": [
     "\n"
    ],
    "metadata": {
     "collapsed": false
    }
   }
  }
 },
 "nbformat": 4,
 "nbformat_minor": 5
}