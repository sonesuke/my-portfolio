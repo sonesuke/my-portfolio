{
 "cells": [
  {
   "cell_type": "markdown",
   "id": "close-aging",
   "metadata": {
    "collapsed": false
   },
   "source": [
    "titled\n",
    "=====\n",
    "\n"
   ]
  },
  {
   "cell_type": "code",
   "execution_count": 1,
   "id": "painted-recipe",
   "metadata": {
    "execution": {
     "iopub.execute_input": "2021-03-18T13:57:12.780182Z",
     "iopub.status.busy": "2021-03-18T13:57:12.766085Z",
     "iopub.status.idle": "2021-03-18T13:57:14.532264Z",
     "shell.execute_reply": "2021-03-18T13:57:14.530349Z"
    },
    "pycharm": {
     "is_executing": true
    }
   },
   "outputs": [
    {
     "name": "stdout",
     "output_type": "stream",
     "text": [
      "0.0.0\n"
     ]
    }
   ],
   "source": [
    "import mypo\n",
    "from mypo import split_n_periods, Runner, Settings\n",
    "from mypo.rebalancer import PlainRebalancer\n",
    "from mypo.optimizer import MinimumVarianceOptimizer, SharpRatioOptimizer, semi_covariance\n",
    "from mypo.indicator import yearly_total_return, max_drawdown, max_drawdown_span\n",
    "import numpy as np\n",
    "print(mypo.__version__)"
   ]
  },
  {
   "cell_type": "code",
   "execution_count": 2,
   "id": "attached-berkeley",
   "metadata": {
    "execution": {
     "iopub.execute_input": "2021-03-18T13:57:14.545796Z",
     "iopub.status.busy": "2021-03-18T13:57:14.543560Z",
     "iopub.status.idle": "2021-03-18T13:57:14.548361Z",
     "shell.execute_reply": "2021-03-18T13:57:14.550010Z"
    },
    "pycharm": {
     "name": "#%%\n"
    }
   },
   "outputs": [],
   "source": [
    "loader = mypo.Loader()"
   ]
  },
  {
   "cell_type": "code",
   "execution_count": 3,
   "id": "secure-packet",
   "metadata": {
    "execution": {
     "iopub.execute_input": "2021-03-18T13:57:14.582266Z",
     "iopub.status.busy": "2021-03-18T13:57:14.565704Z",
     "iopub.status.idle": "2021-03-18T13:57:16.105220Z",
     "shell.execute_reply": "2021-03-18T13:57:16.106876Z"
    },
    "pycharm": {
     "name": "#%%\n"
    }
   },
   "outputs": [],
   "source": [
    "loader.get('VOO', 0.0003)\n",
    "loader.get('IEF', 0.0015)"
   ]
  },
  {
   "cell_type": "code",
   "execution_count": 4,
   "id": "floppy-communications",
   "metadata": {
    "execution": {
     "iopub.execute_input": "2021-03-18T13:57:16.124909Z",
     "iopub.status.busy": "2021-03-18T13:57:16.121253Z",
     "iopub.status.idle": "2021-03-18T13:57:16.214545Z",
     "shell.execute_reply": "2021-03-18T13:57:16.212528Z"
    },
    "pycharm": {
     "name": "#%%\n"
    }
   },
   "outputs": [],
   "source": [
    "market = loader.get_market()\n",
    "trains, evals = split_n_periods(market, n = 20, train_span=200)"
   ]
  },
  {
   "cell_type": "code",
   "execution_count": 5,
   "id": "thirty-purple",
   "metadata": {
    "execution": {
     "iopub.execute_input": "2021-03-18T13:57:16.248083Z",
     "iopub.status.busy": "2021-03-18T13:57:16.235113Z",
     "iopub.status.idle": "2021-03-18T13:57:19.706276Z",
     "shell.execute_reply": "2021-03-18T13:57:19.704263Z"
    },
    "pycharm": {
     "name": "#%%\n"
    }
   },
   "outputs": [
    {
     "name": "stdout",
     "output_type": "stream",
     "text": [
      "[0.33139919 0.66860081]\n",
      "122\n",
      "1.1627086486042428\n",
      "0.9796472721789398\n",
      "19\n",
      "[0.22107913 0.77892087]\n",
      "122\n",
      "1.1245855742874666\n",
      "0.9865525830443621\n",
      "27\n",
      "[0.23743096 0.76256904]\n",
      "122\n",
      "1.1209838339251308\n",
      "0.9856610877253217\n",
      "37\n",
      "[0.2483981 0.7516019]\n",
      "122\n",
      "1.0854460512026762\n",
      "0.9843400539942805\n",
      "22\n",
      "[0.25621736 0.74378264]\n",
      "122\n",
      "1.0720919933124724\n",
      "0.9723036218682535\n",
      "83\n",
      "[0.26044584 0.73955416]\n",
      "122\n",
      "1.1169264321811978\n",
      "0.991798243632087\n",
      "28\n",
      "[0.24797608 0.75202392]\n",
      "122\n",
      "1.1262741043530844\n",
      "0.9886348591371406\n",
      "26\n",
      "[0.23756622 0.76243378]\n",
      "122\n",
      "1.0887964957893075\n",
      "0.9827477571993122\n",
      "30\n",
      "[0.25480991 0.74519009]\n",
      "122\n",
      "1.0890225823477846\n",
      "0.980865713253007\n",
      "44\n",
      "[0.22467473 0.77532527]\n",
      "122\n",
      "1.109697181840246\n",
      "0.9887404818218538\n",
      "39\n",
      "[0.17323664 0.82676336]\n",
      "122\n",
      "1.081853536842775\n",
      "0.9867328991796572\n",
      "74\n",
      "[0.20869994 0.79130006]\n",
      "122\n",
      "1.053352907468192\n",
      "0.9730849235756872\n",
      "82\n",
      "[0.30388888 0.69611112]\n",
      "122\n",
      "1.097879458182179\n",
      "0.9892644104619236\n",
      "23\n",
      "[0.34404181 0.65595819]\n",
      "122\n",
      "1.038256813109431\n",
      "0.967422864800311\n",
      "49\n",
      "[0.14880802 0.85119198]\n",
      "122\n",
      "1.0674017844154224\n",
      "0.9876398870145746\n",
      "28\n",
      "[0.1422653 0.8577347]\n",
      "122\n",
      "1.1676863707692944\n",
      "0.993017243035748\n",
      "30\n",
      "[0.13654982 0.86345018]\n",
      "122\n",
      "1.1914830146670476\n",
      "0.9801572813591536\n",
      "19\n",
      "[0.19124237 0.80875763]\n",
      "122\n",
      "1.0828989921985737\n",
      "0.9636897442906137\n",
      "32\n",
      "[0.16191208 0.83808792]\n",
      "122\n",
      "1.251898403726868\n",
      "0.9896154131480168\n",
      "17\n",
      "[0.12398284 0.87601716]\n",
      "122\n",
      "0.995724739580368\n",
      "0.9721009402107658\n",
      "50\n"
     ]
    }
   ],
   "source": [
    "for train, eval in zip(trains, evals):\n",
    "    optimizer = MinimumVarianceOptimizer(train)\n",
    "    weights = optimizer.optimize_weight()\n",
    "    \n",
    "    settings = Settings(tax_rate=0.20, fee_rate=0.005, spending=0.06)\n",
    "    \n",
    "    runner = mypo.Runner(\n",
    "        assets=np.array([1.2, 0.8]),\n",
    "        rebalancer=PlainRebalancer(weights=weights),\n",
    "        cash=0.5,\n",
    "        settings=settings\n",
    "    )\n",
    "\n",
    "    runner.run(\n",
    "        market=eval\n",
    "    )\n",
    "    report = runner.report()\n",
    "    print(weights)\n",
    "    print(yearly_total_return(report))\n",
    "    print(max_drawdown(report))\n",
    "    print(max_drawdown_span(report))"
   ]
  },
  {
   "cell_type": "code",
   "execution_count": 6,
   "id": "awful-arbitration",
   "metadata": {
    "execution": {
     "iopub.execute_input": "2021-03-18T13:57:19.733974Z",
     "iopub.status.busy": "2021-03-18T13:57:19.731839Z",
     "iopub.status.idle": "2021-03-18T13:57:23.167969Z",
     "shell.execute_reply": "2021-03-18T13:57:23.169670Z"
    }
   },
   "outputs": [
    {
     "name": "stdout",
     "output_type": "stream",
     "text": [
      "[0.32432593 0.67567407]\n",
      "122\n",
      "1.1648914345780546\n",
      "0.9808328623271731\n",
      "19\n",
      "[0.13172534 0.86827466]\n",
      "122\n",
      "1.1166103640779037\n",
      "0.9827329099896529\n",
      "27\n",
      "[0.17425283 0.82574717]\n",
      "122\n",
      "1.1191010087068174\n",
      "0.9860649947055996\n",
      "36\n",
      "[0.21398585 0.78601415]\n",
      "122\n",
      "1.0768229870193529\n",
      "0.9827991099400409\n",
      "22\n",
      "[0.23792008 0.76207992]\n",
      "122\n",
      "1.0687265485786626\n",
      "0.9715097107451159\n",
      "91\n",
      "[0.28226434 0.71773566]\n",
      "122\n",
      "1.1164186606153388\n",
      "0.9916588512838246\n",
      "25\n",
      "[0.22393655 0.77606345]\n",
      "122\n",
      "1.1259759259021491\n",
      "0.9884731962854769\n",
      "26\n",
      "[0.17061115 0.82938885]\n",
      "122\n",
      "1.0924037671303906\n",
      "0.9793026151419248\n",
      "34\n",
      "[0.21935952 0.78064048]\n",
      "122\n",
      "1.0919471039184672\n",
      "0.983407375360742\n",
      "44\n",
      "[0.18828015 0.81171985]\n",
      "122\n",
      "1.1150763001711388\n",
      "0.9891377916795772\n",
      "36\n",
      "[0.12539474 0.87460526]\n",
      "122\n",
      "1.081958219358049\n",
      "0.9857925058452571\n",
      "74\n",
      "[0.1326722 0.8673278]\n",
      "122\n",
      "1.0430727753827047\n",
      "0.9663662353547018\n",
      "115\n",
      "[0.34798732 0.65201268]\n",
      "122\n",
      "1.1014958208867913\n",
      "0.989374586115702\n",
      "17\n",
      "[0.26908074 0.73091926]\n",
      "122\n",
      "1.0361071801353567\n",
      "0.9729962252340061\n",
      "49\n",
      "[0.0729948 0.9270052]\n",
      "122\n",
      "1.057215291025007\n",
      "0.9871141820457734\n",
      "32\n",
      "[0.07673781 0.92326219]\n",
      "122\n",
      "1.1841451372451128\n",
      "0.9927322401339228\n",
      "18\n",
      "[0.08131734 0.91868266]\n",
      "122\n",
      "1.1978371721454162\n",
      "0.977715647997269\n",
      "19\n",
      "[0.12150637 0.87849363]\n",
      "122\n",
      "1.1065894027244128\n",
      "0.9715212697820953\n",
      "61\n",
      "[0.05939607 0.94060393]\n",
      "122\n",
      "1.1922846160176475\n",
      "0.9906546115494554\n",
      "25\n",
      "[0.03731212 0.96268788]\n",
      "122\n",
      "0.9716117103792975\n",
      "0.9627335431262221\n",
      "108\n"
     ]
    }
   ],
   "source": [
    "for train, eval in zip(trains, evals):\n",
    "    optimizer = MinimumVarianceOptimizer(train, covariance_model=semi_covariance)\n",
    "    weights = optimizer.optimize_weight()\n",
    "    \n",
    "    settings = Settings(tax_rate=0.20, fee_rate=0.005, spending=0.06)\n",
    "    \n",
    "    runner = mypo.Runner(\n",
    "        assets=np.array([1.2, 0.8]),\n",
    "        rebalancer=PlainRebalancer(weights=weights),\n",
    "        cash=0.5,\n",
    "        settings=settings\n",
    "    )\n",
    "\n",
    "    runner.run(\n",
    "        market=eval\n",
    "    )\n",
    "    report = runner.report()\n",
    "    print(weights)\n",
    "    print(yearly_total_return(report))\n",
    "    print(max_drawdown(report))\n",
    "    print(max_drawdown_span(report))"
   ]
  },
  {
   "cell_type": "code",
   "execution_count": 7,
   "id": "running-modeling",
   "metadata": {
    "execution": {
     "iopub.execute_input": "2021-03-18T13:57:23.187865Z",
     "iopub.status.busy": "2021-03-18T13:57:23.182544Z",
     "iopub.status.idle": "2021-03-18T13:57:26.690412Z",
     "shell.execute_reply": "2021-03-18T13:57:26.688655Z"
    },
    "pycharm": {
     "name": "#%%\n"
    }
   },
   "outputs": [
    {
     "name": "stdout",
     "output_type": "stream",
     "text": [
      "[0.43047419 0.56952581]\n",
      "122\n",
      "1.1313959337897423\n",
      "0.9623998179484686\n",
      "31\n",
      "[0.19756335 0.80243665]\n",
      "122\n",
      "1.1225209877348594\n",
      "0.9855554481254232\n",
      "27\n",
      "[0.25225496 0.74774504]\n",
      "122\n",
      "1.1213980607950946\n",
      "0.9855640783376598\n",
      "40\n",
      "[0.25443883 0.74556117]\n",
      "122\n",
      "1.0869646427799307\n",
      "0.9846110384745386\n",
      "22\n",
      "[0.38019006 0.61980994]\n",
      "122\n",
      "1.0950496590853396\n",
      "0.9705383540870922\n",
      "40\n",
      "[0.59678831 0.40321169]\n",
      "122\n",
      "1.1067739430534276\n",
      "0.9803264888801708\n",
      "18\n",
      "[0.36772275 0.63227725]\n",
      "122\n",
      "1.1274458199770663\n",
      "0.988107692229984\n",
      "26\n",
      "[0.29877121 0.70122879]\n",
      "122\n",
      "1.0852900647251154\n",
      "0.9838704678497845\n",
      "14\n",
      "[0.30950942 0.69049058]\n",
      "122\n",
      "1.0843167991080038\n",
      "0.9760763141732788\n",
      "43\n",
      "[0.60757766 0.39242234]\n",
      "122\n",
      "1.0493671169689998\n",
      "0.95474363059916\n",
      "71\n",
      "[0.14117791 0.85882209]\n",
      "122\n",
      "1.0819269258245254\n",
      "0.9861033876170618\n",
      "74\n",
      "[0.25610966 0.74389034]\n",
      "122\n",
      "1.059787191841317\n",
      "0.9764172520935556\n",
      "78\n",
      "[0.74060832 0.25939168]\n",
      "122\n",
      "1.1479512849716604\n",
      "0.9887920124873364\n",
      "17\n",
      "[0.42035834 0.57964166]\n",
      "122\n",
      "1.0401722490671506\n",
      "0.9616962104561605\n",
      "49\n",
      "[0.68228593 0.31771407]\n",
      "122\n",
      "1.1485764057516412\n",
      "0.9822587670417074\n",
      "16\n",
      "[0.59961032 0.40038968]\n",
      "122\n",
      "1.0479853248919502\n",
      "0.9199977989439677\n",
      "92\n",
      "[0.12661123 0.87338877]\n",
      "122\n",
      "1.1926389823698778\n",
      "0.9797171618855305\n",
      "19\n",
      "[0.19479317 0.80520683]\n",
      "122\n",
      "1.0816789338901653\n",
      "0.9632897873289569\n",
      "32\n",
      "[0.13751262 0.86248738]\n",
      "122\n",
      "1.2376038956138862\n",
      "0.9909430986932063\n",
      "19\n",
      "[0.13053986 0.86946014]\n",
      "122\n",
      "0.9975685469530167\n",
      "0.9723633515602157\n",
      "50\n"
     ]
    }
   ],
   "source": [
    "for train, eval in zip(trains, evals):\n",
    "    optimizer = SharpRatioOptimizer(train)\n",
    "    weights = optimizer.optimize_weight()\n",
    "\n",
    "    settings = Settings(tax_rate=0.20, fee_rate=0.005, spending=0.06)\n",
    "\n",
    "    runner = mypo.Runner(\n",
    "        assets=np.array([1.2, 0.8]),\n",
    "        rebalancer=PlainRebalancer(weights=weights),\n",
    "        cash=0.5,\n",
    "        settings=settings\n",
    "    )\n",
    "\n",
    "    runner.run(\n",
    "        market=eval\n",
    "    )\n",
    "    report = runner.report()\n",
    "    print(weights)\n",
    "    print(yearly_total_return(report))\n",
    "    print(max_drawdown(report))\n",
    "    print(max_drawdown_span(report))\n",
    "\n"
   ]
  }
 ],
 "metadata": {
  "kernelspec": {
   "display_name": "Python 3",
   "language": "python",
   "name": "python3"
  },
  "language_info": {
   "codemirror_mode": {
    "name": "ipython",
    "version": 3
   },
   "file_extension": ".py",
   "mimetype": "text/x-python",
   "name": "python",
   "nbconvert_exporter": "python",
   "pygments_lexer": "ipython3",
   "version": "3.9.2"
  },
  "pycharm": {
   "stem_cell": {
    "cell_type": "raw",
    "metadata": {
     "collapsed": false
    },
    "source": [
     "\n"
    ]
   }
  }
 },
 "nbformat": 4,
 "nbformat_minor": 5
}
