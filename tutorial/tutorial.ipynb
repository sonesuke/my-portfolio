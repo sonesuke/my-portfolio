{
 "cells": [
  {
   "cell_type": "code",
   "execution_count": 1,
   "id": "painted-recipe",
   "metadata": {
    "pycharm": {
     "is_executing": true
    }
   },
   "outputs": [
    {
     "name": "stdout",
     "output_type": "stream",
     "text": [
      "0.0.21\n"
     ]
    }
   ],
   "source": [
    "import mypo\n",
    "from mypo import split_n_periods, Runner, Settings\n",
    "from mypo import MinimumVarianceOptimizer\n",
    "from mypo.loss_function import negative_total_return, max_drawdown, max_drawdown_span\n",
    "import numpy as np\n",
    "print(mypo.__version__)"
   ]
  },
  {
   "cell_type": "code",
   "execution_count": 2,
   "id": "attached-berkeley",
   "metadata": {
    "pycharm": {
     "name": "#%%\n"
    }
   },
   "outputs": [],
   "source": [
    "loader = mypo.Loader()"
   ]
  },
  {
   "cell_type": "code",
   "execution_count": 3,
   "id": "secure-packet",
   "metadata": {
    "pycharm": {
     "name": "#%%\n"
    }
   },
   "outputs": [],
   "source": [
    "loader.get('VOO', 0.0003)\n",
    "loader.get('IEF', 0.0015)"
   ]
  },
  {
   "cell_type": "code",
   "execution_count": 4,
   "id": "floppy-communications",
   "metadata": {
    "pycharm": {
     "name": "#%%\n"
    }
   },
   "outputs": [],
   "source": [
    "market = loader.get_market()\n",
    "trains, evals = split_n_periods(market, n = 20, train_span=200)"
   ]
  },
  {
   "cell_type": "code",
   "execution_count": 5,
   "id": "thirty-purple",
   "metadata": {
    "pycharm": {
     "name": "#%%\n"
    }
   },
   "outputs": [
    {
     "name": "stdout",
     "output_type": "stream",
     "text": [
      "[0.34469253 0.65530747]\n",
      "-1.0417769724939407\n",
      "0.9797568490253495\n",
      "38\n",
      "[0.21758581 0.78241419]\n",
      "-1.028999066765018\n",
      "0.9911223134459268\n",
      "35\n",
      "[0.23421282 0.76578718]\n",
      "-1.0279611239721866\n",
      "0.9905149113804205\n",
      "30\n",
      "[0.25882323 0.74117677]\n",
      "-1.0255869453339268\n",
      "0.9915498223528354\n",
      "19\n",
      "[0.25662254 0.74337746]\n",
      "-1.032544902848682\n",
      "0.9821259434499968\n",
      "47\n",
      "[0.27654477 0.72345523]\n",
      "-1.032526354787289\n",
      "0.9906432490737398\n",
      "25\n",
      "[0.27002762 0.72997238]\n",
      "-1.0266781751332097\n",
      "0.9892370643003424\n",
      "25\n",
      "[0.22175022 0.77824978]\n",
      "-1.0252749862889607\n",
      "0.9870906684976527\n",
      "30\n",
      "[0.25828644 0.74171356]\n",
      "-1.030103156219446\n",
      "0.988410997408223\n",
      "25\n",
      "[0.25875539 0.74124461]\n",
      "-1.0317180652266\n",
      "0.9859913624092992\n",
      "39\n",
      "[0.18915483 0.81084517]\n",
      "-1.0271724324177827\n",
      "0.9900669050234505\n",
      "23\n",
      "[0.20422716 0.79577284]\n",
      "-1.0272591037364918\n",
      "0.9894542232332681\n",
      "20\n",
      "[0.25858976 0.74141024]\n",
      "-1.0263897362970185\n",
      "0.9936717936659438\n",
      "35\n",
      "[0.32951922 0.67048078]\n",
      "-1.0181666776550728\n",
      "0.9885674237277076\n",
      "26\n",
      "[0.19379611 0.80620389]\n",
      "-1.030360239658692\n",
      "0.9927520455594522\n",
      "24\n",
      "[0.15805633 0.84194367]\n",
      "-1.0335220312355546\n",
      "0.9935349725832354\n",
      "19\n",
      "[0.14901198 0.85098802]\n",
      "-1.0317828855704132\n",
      "0.9920645941256022\n",
      "20\n",
      "[0.16988377 0.83011623]\n",
      "-1.0287332239505296\n",
      "0.9913670464251029\n",
      "33\n",
      "[0.25407912 0.74592088]\n",
      "-1.059087778621396\n",
      "0.97769518532499\n",
      "57\n",
      "[0.12199548 0.87800452]\n",
      "-1.0262811767500555\n",
      "0.9883030843016827\n",
      "62\n"
     ]
    }
   ],
   "source": [
    "for train, eval in zip(trains, evals):\n",
    "    optimizer = MinimumVarianceOptimizer(train)\n",
    "    weights = optimizer.optimize_weight()\n",
    "    \n",
    "    settings = Settings(tax_rate=0.20, fee_rate=0.005, spending=0.06)\n",
    "    \n",
    "    runner = mypo.Runner(\n",
    "        assets=np.array([1.2, 0.8]),\n",
    "        rebalancer=mypo.PlainRebalancer(weights=weights),\n",
    "        cash=0.5,\n",
    "        settings=settings\n",
    "    )\n",
    "\n",
    "    runner.run(\n",
    "        market=eval\n",
    "    )\n",
    "    report = runner.report()\n",
    "    print(weights)\n",
    "    print(negative_total_return(report))\n",
    "    print(max_drawdown(report))\n",
    "    print(max_drawdown_span(report))"
   ]
  },
  {
   "cell_type": "code",
   "execution_count": null,
   "id": "running-modeling",
   "metadata": {
    "pycharm": {
     "name": "#%%\n"
    }
   },
   "outputs": [],
   "source": []
  }
 ],
 "metadata": {
  "kernelspec": {
   "display_name": "Python 3",
   "language": "python",
   "name": "python3"
  },
  "language_info": {
   "codemirror_mode": {
    "name": "ipython",
    "version": 3
   },
   "file_extension": ".py",
   "mimetype": "text/x-python",
   "name": "python",
   "nbconvert_exporter": "python",
   "pygments_lexer": "ipython3",
   "version": "3.9.1"
  },
  "pycharm": {
   "stem_cell": {
    "cell_type": "raw",
    "metadata": {
     "collapsed": false
    },
    "source": [
     "\n"
    ]
   }
  }
 },
 "nbformat": 4,
 "nbformat_minor": 5
}
