{
 "cells": [
  {
   "cell_type": "markdown",
   "id": "radio-vinyl",
   "metadata": {
    "collapsed": false
   },
   "source": [
    "titled\n",
    "=====\n",
    "\n"
   ]
  },
  {
   "cell_type": "code",
   "execution_count": 8,
   "id": "painted-recipe",
   "metadata": {
    "execution": {
     "iopub.execute_input": "2021-03-18T13:57:12.780182Z",
     "iopub.status.busy": "2021-03-18T13:57:12.766085Z",
     "iopub.status.idle": "2021-03-18T13:57:14.532264Z",
     "shell.execute_reply": "2021-03-18T13:57:14.530349Z"
    }
   },
   "outputs": [
    {
     "name": "stdout",
     "output_type": "stream",
     "text": [
      "0.0.0\n"
     ]
    }
   ],
   "source": [
    "import mypo\n",
    "from mypo import split_n_periods, Runner, Settings\n",
    "from mypo.rebalancer import PlainRebalancer\n",
    "from mypo.optimizer import MinimumVarianceOptimizer, SharpRatioOptimizer, semi_covariance\n",
    "from mypo.indicator import yearly_total_return, max_drawdown, max_drawdown_span\n",
    "import numpy as np\n",
    "print(mypo.__version__)"
   ]
  },
  {
   "cell_type": "code",
   "execution_count": 9,
   "id": "attached-berkeley",
   "metadata": {
    "execution": {
     "iopub.execute_input": "2021-03-18T13:57:14.545796Z",
     "iopub.status.busy": "2021-03-18T13:57:14.543560Z",
     "iopub.status.idle": "2021-03-18T13:57:14.548361Z",
     "shell.execute_reply": "2021-03-18T13:57:14.550010Z"
    },
    "pycharm": {
     "name": "#%%\n"
    }
   },
   "outputs": [],
   "source": [
    "loader = mypo.Loader()"
   ]
  },
  {
   "cell_type": "code",
   "execution_count": 10,
   "id": "secure-packet",
   "metadata": {
    "execution": {
     "iopub.execute_input": "2021-03-18T13:57:14.582266Z",
     "iopub.status.busy": "2021-03-18T13:57:14.565704Z",
     "iopub.status.idle": "2021-03-18T13:57:16.105220Z",
     "shell.execute_reply": "2021-03-18T13:57:16.106876Z"
    },
    "pycharm": {
     "name": "#%%\n"
    }
   },
   "outputs": [],
   "source": [
    "loader.get('VOO', 0.0003)\n",
    "loader.get('EDV', 0.0007)"
   ]
  },
  {
   "cell_type": "code",
   "execution_count": 11,
   "id": "floppy-communications",
   "metadata": {
    "execution": {
     "iopub.execute_input": "2021-03-18T13:57:16.124909Z",
     "iopub.status.busy": "2021-03-18T13:57:16.121253Z",
     "iopub.status.idle": "2021-03-18T13:57:16.214545Z",
     "shell.execute_reply": "2021-03-18T13:57:16.212528Z"
    },
    "pycharm": {
     "name": "#%%\n"
    }
   },
   "outputs": [],
   "source": [
    "market = loader.get_market()\n",
    "trains, evals = split_n_periods(market, n = 20, train_span=200)"
   ]
  },
  {
   "cell_type": "code",
   "execution_count": 12,
   "id": "thirty-purple",
   "metadata": {
    "execution": {
     "iopub.execute_input": "2021-03-18T13:57:16.248083Z",
     "iopub.status.busy": "2021-03-18T13:57:16.235113Z",
     "iopub.status.idle": "2021-03-18T13:57:19.706276Z",
     "shell.execute_reply": "2021-03-18T13:57:19.704263Z"
    },
    "pycharm": {
     "name": "#%%\n"
    }
   },
   "outputs": [
    {
     "name": "stdout",
     "output_type": "stream",
     "text": [
      "[0.69541797 0.30458203]\n",
      "122\n",
      "1.2626334823130851\n",
      "0.9440673589164427\n",
      "26\n",
      "[0.58617852 0.41382148]\n",
      "122\n",
      "1.2143281888173985\n",
      "0.9809440018114376\n",
      "20\n",
      "[0.61337769 0.38662231]\n",
      "122\n",
      "1.1458109425091259\n",
      "0.9774277128892593\n",
      "43\n",
      "[0.62894399 0.37105601]\n",
      "122\n",
      "1.1872115652890518\n",
      "0.9778429950381414\n",
      "23\n",
      "[0.65184213 0.34815787]\n",
      "122\n",
      "1.0946823151604996\n",
      "0.9590274581908151\n",
      "44\n",
      "[0.72087905 0.27912095]\n",
      "122\n",
      "1.1958155770507468\n",
      "0.9771632449600743\n",
      "17\n",
      "[0.65773989 0.34226011]\n",
      "122\n",
      "1.2034236274051424\n",
      "0.9773269154356351\n",
      "26\n",
      "[0.62127724 0.37872276]\n",
      "122\n",
      "1.0611201296635666\n",
      "0.957123681859432\n",
      "34\n",
      "[0.6730811 0.3269189]\n",
      "122\n",
      "1.0904861770060015\n",
      "0.9390528327991673\n",
      "47\n",
      "[0.63378326 0.36621674]\n",
      "122\n",
      "1.1101395551449011\n",
      "0.9669379411627814\n",
      "36\n",
      "[0.5115294 0.4884706]\n",
      "122\n",
      "1.1362842584959139\n",
      "0.9635337655063908\n",
      "59\n",
      "[0.57867566 0.42132434]\n",
      "122\n",
      "1.0969991660619935\n",
      "0.9625777108268551\n",
      "46\n",
      "[0.78567299 0.21432701]\n",
      "122\n",
      "1.1720605861285047\n",
      "0.9860180353408964\n",
      "16\n",
      "[0.72783614 0.27216386]\n",
      "122\n",
      "1.0731320677987979\n",
      "0.9297861851453331\n",
      "49\n",
      "[0.52950546 0.47049454]\n",
      "122\n",
      "1.0992204782732449\n",
      "0.9717282135850308\n",
      "28\n",
      "[0.4851337 0.5148663]\n",
      "122\n",
      "1.1381155408304429\n",
      "0.9575808620856734\n",
      "76\n",
      "[0.40277746 0.59722254]\n",
      "122\n",
      "1.3010825935845574\n",
      "0.9598602411362911\n",
      "19\n",
      "[0.49311775 0.50688225]\n",
      "122\n",
      "1.054134209306001\n",
      "0.9092695762529311\n",
      "32\n",
      "[0.43846946 0.56153054]\n",
      "122\n",
      "1.5713099489498805\n",
      "0.9702714196840624\n",
      "28\n",
      "[0.39614044 0.60385956]\n",
      "122\n",
      "0.9771456832779993\n",
      "0.9293529451889766\n",
      "43\n"
     ]
    }
   ],
   "source": [
    "for train, eval in zip(trains, evals):\n",
    "    optimizer = MinimumVarianceOptimizer(train)\n",
    "    weights = optimizer.optimize_weight()\n",
    "    \n",
    "    settings = Settings(tax_rate=0.20, fee_rate=0.005, spending=0.06)\n",
    "    \n",
    "    runner = mypo.Runner(\n",
    "        assets=np.array([1.2, 0.8]),\n",
    "        rebalancer=PlainRebalancer(weights=weights),\n",
    "        cash=0.5,\n",
    "        settings=settings\n",
    "    )\n",
    "\n",
    "    runner.run(\n",
    "        market=eval\n",
    "    )\n",
    "    report = runner.report()\n",
    "    print(weights)\n",
    "    print(yearly_total_return(report))\n",
    "    print(max_drawdown(report))\n",
    "    print(max_drawdown_span(report))"
   ]
  },
  {
   "cell_type": "code",
   "execution_count": 13,
   "id": "awful-arbitration",
   "metadata": {
    "execution": {
     "iopub.execute_input": "2021-03-18T13:57:19.733974Z",
     "iopub.status.busy": "2021-03-18T13:57:19.731839Z",
     "iopub.status.idle": "2021-03-18T13:57:23.167969Z",
     "shell.execute_reply": "2021-03-18T13:57:23.169670Z"
    }
   },
   "outputs": [
    {
     "name": "stdout",
     "output_type": "stream",
     "text": [
      "[0.7338018 0.2661982]\n",
      "122\n",
      "1.2209998617013256\n",
      "0.9341732373136284\n",
      "37\n",
      "[0.54377823 0.45622177]\n",
      "122\n",
      "1.2151749173755906\n",
      "0.9771526894260425\n",
      "28\n",
      "[0.59901408 0.40098592]\n",
      "122\n",
      "1.1448474924411844\n",
      "0.9773151874765038\n",
      "43\n",
      "[0.66814927 0.33185073]\n",
      "122\n",
      "1.202512771423915\n",
      "0.9784540406855252\n",
      "15\n",
      "[0.70727854 0.29272146]\n",
      "122\n",
      "1.1200126495007672\n",
      "0.9607126597548891\n",
      "44\n",
      "[0.78350636 0.21649364]\n",
      "122\n",
      "1.1806933569412505\n",
      "0.9735082372940715\n",
      "17\n",
      "[0.67542298 0.32457702]\n",
      "122\n",
      "1.202227667762399\n",
      "0.9776357629833206\n",
      "26\n",
      "[0.5865816 0.4134184]\n",
      "122\n",
      "1.060951499619489\n",
      "0.9534801560975941\n",
      "34\n",
      "[0.71348278 0.28651722]\n",
      "122\n",
      "1.086058407659681\n",
      "0.9356002055777801\n",
      "47\n",
      "[0.63999502 0.36000498]\n",
      "122\n",
      "1.1085922650937146\n",
      "0.9663283207916513\n",
      "36\n",
      "[0.49491931 0.50508069]\n",
      "122\n",
      "1.1381305296553792\n",
      "0.9625062517384088\n",
      "59\n",
      "[0.54131904 0.45868096]\n",
      "122\n",
      "1.0906494309099128\n",
      "0.957657185794555\n",
      "48\n",
      "[0.88358447 0.11641553]\n",
      "122\n",
      "1.1830553564700943\n",
      "0.9867794034408593\n",
      "17\n",
      "[0.753531 0.246469]\n",
      "122\n",
      "1.0751760867240996\n",
      "0.9286888272686805\n",
      "49\n",
      "[0.45899677 0.54100323]\n",
      "122\n",
      "1.0861998066207672\n",
      "0.9704934822537856\n",
      "28\n",
      "[0.43452301 0.56547699]\n",
      "122\n",
      "1.1591939896586478\n",
      "0.9609514163749632\n",
      "63\n",
      "[0.34836551 0.65163449]\n",
      "122\n",
      "1.3224936108533452\n",
      "0.9545160512509742\n",
      "19\n",
      "[0.44494929 0.55505071]\n",
      "122\n",
      "1.0783981660124555\n",
      "0.9127116979082514\n",
      "35\n",
      "[0.3090024 0.6909976]\n",
      "122\n",
      "1.508169762306904\n",
      "0.963190293885612\n",
      "47\n",
      "[0.27176023 0.72823977]\n",
      "122\n",
      "0.9263881022044631\n",
      "0.9141805535592625\n",
      "43\n"
     ]
    }
   ],
   "source": [
    "for train, eval in zip(trains, evals):\n",
    "    optimizer = MinimumVarianceOptimizer(train, covariance_model=semi_covariance)\n",
    "    weights = optimizer.optimize_weight()\n",
    "    \n",
    "    settings = Settings(tax_rate=0.20, fee_rate=0.005, spending=0.06)\n",
    "    \n",
    "    runner = mypo.Runner(\n",
    "        assets=np.array([1.2, 0.8]),\n",
    "        rebalancer=PlainRebalancer(weights=weights),\n",
    "        cash=0.5,\n",
    "        settings=settings\n",
    "    )\n",
    "\n",
    "    runner.run(\n",
    "        market=eval\n",
    "    )\n",
    "    report = runner.report()\n",
    "    print(weights)\n",
    "    print(yearly_total_return(report))\n",
    "    print(max_drawdown(report))\n",
    "    print(max_drawdown_span(report))"
   ]
  },
  {
   "cell_type": "code",
   "execution_count": 14,
   "id": "running-modeling",
   "metadata": {
    "execution": {
     "iopub.execute_input": "2021-03-18T13:57:23.187865Z",
     "iopub.status.busy": "2021-03-18T13:57:23.182544Z",
     "iopub.status.idle": "2021-03-18T13:57:26.690412Z",
     "shell.execute_reply": "2021-03-18T13:57:26.688655Z"
    },
    "pycharm": {
     "name": "#%%\n"
    }
   },
   "outputs": [
    {
     "name": "stdout",
     "output_type": "stream",
     "text": [
      "[0.78193637 0.21806363]\n",
      "122\n",
      "1.1698497776405505\n",
      "0.9218780456901512\n",
      "52\n",
      "[0.53075475 0.46924525]\n",
      "122\n",
      "1.2153662298289192\n",
      "0.9758342916698888\n",
      "28\n",
      "[0.60269073 0.39730927]\n",
      "122\n",
      "1.1448015634334325\n",
      "0.9773413303978159\n",
      "43\n",
      "[0.60400934 0.39599066]\n",
      "122\n",
      "1.1775300235765067\n",
      "0.9756759029198983\n",
      "23\n",
      "[0.73051888 0.26948112]\n",
      "122\n",
      "1.1307327734573251\n",
      "0.9608139428030237\n",
      "40\n",
      "[0.89848954 0.10151046]\n",
      "122\n",
      "1.152433450874723\n",
      "0.965156914261741\n",
      "20\n",
      "[0.66579034 0.33420966]\n",
      "122\n",
      "1.2028827610605837\n",
      "0.9777035465501043\n",
      "26\n",
      "[0.61171418 0.38828582]\n",
      "122\n",
      "1.0606735048494322\n",
      "0.9561114753583249\n",
      "34\n",
      "[0.66812235 0.33187765]\n",
      "122\n",
      "1.091011697317338\n",
      "0.939477310906374\n",
      "47\n",
      "[1. 0.]\n",
      "122\n",
      "1.0149313837781173\n",
      "0.9048071531102287\n",
      "80\n",
      "[0.4134406 0.5865594]\n",
      "122\n",
      "1.146851399152708\n",
      "0.9565717356456411\n",
      "74\n",
      "[0.5762219 0.4237781]\n",
      "122\n",
      "1.0965837101655613\n",
      "0.9622535722927816\n",
      "46\n",
      "[1.00000000e+00 7.16982029e-13]\n",
      "122\n",
      "1.1948187788528641\n",
      "0.9832025408904471\n",
      "18\n",
      "[0.7373504 0.2626496]\n",
      "122\n",
      "1.0738957291190514\n",
      "0.929380388236722\n",
      "49\n",
      "[0.80893999 0.19106001]\n",
      "122\n",
      "1.1729958968819214\n",
      "0.976802989542213\n",
      "19\n",
      "[0.94246911 0.05753089]\n",
      "122\n",
      "0.982961662759814\n",
      "0.8577557462264169\n",
      "121\n",
      "[0.34537161 0.65462839]\n",
      "122\n",
      "1.3236689669308739\n",
      "0.9542224992016215\n",
      "19\n",
      "[0.45832717 0.54167283]\n",
      "122\n",
      "1.0716901823715315\n",
      "0.9117617802598079\n",
      "35\n",
      "[0.34948518 0.65051482]\n",
      "122\n",
      "1.5282361536008675\n",
      "0.9690272685442597\n",
      "42\n",
      "[0.37679504 0.62320496]\n",
      "122\n",
      "0.9690727498822508\n",
      "0.9270783267842009\n",
      "43\n"
     ]
    }
   ],
   "source": [
    "for train, eval in zip(trains, evals):\n",
    "    optimizer = SharpRatioOptimizer(train)\n",
    "    weights = optimizer.optimize_weight()\n",
    "\n",
    "    settings = Settings(tax_rate=0.20, fee_rate=0.005, spending=0.06)\n",
    "\n",
    "    runner = mypo.Runner(\n",
    "        assets=np.array([1.2, 0.8]),\n",
    "        rebalancer=PlainRebalancer(weights=weights),\n",
    "        cash=0.5,\n",
    "        settings=settings\n",
    "    )\n",
    "\n",
    "    runner.run(\n",
    "        market=eval\n",
    "    )\n",
    "    report = runner.report()\n",
    "    print(weights)\n",
    "    print(yearly_total_return(report))\n",
    "    print(max_drawdown(report))\n",
    "    print(max_drawdown_span(report))\n",
    "\n"
   ]
  }
 ],
 "metadata": {
  "kernelspec": {
   "display_name": "Python 3",
   "language": "python",
   "name": "python3"
  },
  "language_info": {
   "codemirror_mode": {
    "name": "ipython",
    "version": 3
   },
   "file_extension": ".py",
   "mimetype": "text/x-python",
   "name": "python",
   "nbconvert_exporter": "python",
   "pygments_lexer": "ipython3",
   "version": "3.9.2"
  },
  "pycharm": {
   "stem_cell": {
    "cell_type": "raw",
    "metadata": {
     "collapsed": false
    },
    "source": [
     "\n"
    ]
   }
  }
 },
 "nbformat": 4,
 "nbformat_minor": 5
}
