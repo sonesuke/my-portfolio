{
 "cells": [
  {
   "cell_type": "code",
   "execution_count": 6,
   "id": "painted-recipe",
   "metadata": {
    "pycharm": {
     "is_executing": true
    }
   },
   "outputs": [
    {
     "name": "stdout",
     "output_type": "stream",
     "text": [
      "0.0.20\n"
     ]
    }
   ],
   "source": [
    "import mypo\n",
    "from mypo import split_n_periods, Runner, Settings\n",
    "from mypo import MinimumVarianceOptimizer\n",
    "from mypo.loss_function import negative_total_return, max_drawdown, max_drawdown_span\n",
    "import numpy as np\n",
    "print(mypo.__version__)"
   ]
  },
  {
   "cell_type": "code",
   "execution_count": 2,
   "id": "attached-berkeley",
   "metadata": {
    "pycharm": {
     "name": "#%%\n"
    }
   },
   "outputs": [],
   "source": [
    "loader = mypo.Loader()"
   ]
  },
  {
   "cell_type": "code",
   "execution_count": 3,
   "id": "secure-packet",
   "metadata": {
    "pycharm": {
     "name": "#%%\n"
    }
   },
   "outputs": [],
   "source": [
    "loader.get('VOO', 0.0003)\n",
    "loader.get('IEF', 0.0015)"
   ]
  },
  {
   "cell_type": "code",
   "execution_count": 4,
   "id": "floppy-communications",
   "metadata": {
    "pycharm": {
     "name": "#%%\n"
    }
   },
   "outputs": [],
   "source": [
    "market = loader.get_market()\n",
    "trains, evals = split_n_periods(market, n = 20, train_span=200)"
   ]
  },
  {
   "cell_type": "code",
   "execution_count": 7,
   "id": "thirty-purple",
   "metadata": {
    "pycharm": {
     "name": "#%%\n"
    }
   },
   "outputs": [
    {
     "name": "stdout",
     "output_type": "stream",
     "text": [
      "[0.33053306 0.66946694]\n",
      "-1.0739149730356803\n",
      "0.9797640669342422\n",
      "19\n",
      "[0.22167714 0.77832286]\n",
      "-1.0671925807706575\n",
      "0.9865654702249606\n",
      "27\n",
      "[0.23625323 0.76374677]\n",
      "-1.0569749537260382\n",
      "0.9856633757837843\n",
      "37\n",
      "[0.24971148 0.75028852]\n",
      "-1.0458424058745777\n",
      "0.9869966552912679\n",
      "19\n",
      "[0.26382975 0.73617025]\n",
      "-1.0223668844666165\n",
      "0.9729207593854726\n",
      "73\n",
      "[0.26128032 0.73871968]\n",
      "-1.055627536111556\n",
      "0.9910395749293144\n",
      "29\n",
      "[0.25718133 0.74281867]\n",
      "-1.0598836544107724\n",
      "0.9886853227271704\n",
      "26\n",
      "[0.23185816 0.76814184]\n",
      "-1.0544174468802068\n",
      "0.981124231471282\n",
      "32\n",
      "[0.25872755 0.74127245]\n",
      "-1.0356989778834487\n",
      "0.9805653723477933\n",
      "44\n",
      "[0.22833322 0.77166678]\n",
      "-1.0585817216421665\n",
      "0.9859461774257144\n",
      "39\n",
      "[0.17701026 0.82298974]\n",
      "-1.041143360080139\n",
      "0.9876310652001781\n",
      "64\n",
      "[0.20674903 0.79325097]\n",
      "-1.0232803294526787\n",
      "0.9720584998034718\n",
      "86\n",
      "[0.28176179 0.71823821]\n",
      "-1.0497137902567084\n",
      "0.9891937062552179\n",
      "15\n",
      "[0.34636108 0.65363892]\n",
      "-1.0249748007779835\n",
      "0.96726131732752\n",
      "36\n",
      "[0.16575565 0.83424435]\n",
      "-1.0420904704463425\n",
      "0.9875190679370259\n",
      "28\n",
      "[0.14311033 0.85688967]\n",
      "-1.0558274567329657\n",
      "0.9877821160210912\n",
      "53\n",
      "[0.14371581 0.85628419]\n",
      "-1.1046723628304438\n",
      "0.9918395131989421\n",
      "19\n",
      "[0.16655476 0.83344524]\n",
      "-1.061005263741078\n",
      "0.9815958419316014\n",
      "36\n",
      "[0.2608654 0.7391346]\n",
      "-1.0648817253134375\n",
      "0.9431345652026041\n",
      "23\n",
      "[0.12793739 0.87206261]\n",
      "-1.0216399945263792\n",
      "0.9825875447907442\n",
      "107\n"
     ]
    }
   ],
   "source": [
    "for train, eval in zip(trains, evals):\n",
    "    optimizer = MinimumVarianceOptimizer(train)\n",
    "    weights = optimizer.optimize_weight()\n",
    "    \n",
    "    settings = Settings(tax_rate=0.20, fee_rate=0.005, spending=0.06)\n",
    "    \n",
    "    runner = mypo.Runner(\n",
    "        assets=np.array([1.2, 0.8]),\n",
    "        rebalancer=mypo.PlainRebalancer(weights=weights),\n",
    "        cash=0.5,\n",
    "        settings=settings\n",
    "    )\n",
    "\n",
    "    runner.run(\n",
    "        market=eval\n",
    "    )\n",
    "    report = runner.report()\n",
    "    print(weights)\n",
    "    print(negative_total_return(report))\n",
    "    print(max_drawdown(report))\n",
    "    print(max_drawdown_span(report))"
   ]
  },
  {
   "cell_type": "code",
   "execution_count": null,
   "id": "running-modeling",
   "metadata": {
    "pycharm": {
     "name": "#%%\n"
    }
   },
   "outputs": [],
   "source": []
  }
 ],
 "metadata": {
  "kernelspec": {
   "display_name": "Python 3",
   "language": "python",
   "name": "python3"
  },
  "language_info": {
   "codemirror_mode": {
    "name": "ipython",
    "version": 3
   },
   "file_extension": ".py",
   "mimetype": "text/x-python",
   "name": "python",
   "nbconvert_exporter": "python",
   "pygments_lexer": "ipython3",
   "version": "3.9.1"
  },
  "pycharm": {
   "stem_cell": {
    "cell_type": "raw",
    "metadata": {
     "collapsed": false
    },
    "source": [
     "\n"
    ]
   }
  }
 },
 "nbformat": 4,
 "nbformat_minor": 5
}