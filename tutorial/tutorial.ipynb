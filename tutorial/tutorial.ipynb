{
 "cells": [
  {
   "cell_type": "code",
   "execution_count": 1,
   "id": "painted-recipe",
   "metadata": {
    "pycharm": {
     "is_executing": true
    }
   },
   "outputs": [
    {
     "name": "stdout",
     "output_type": "stream",
     "text": [
      "0.0.0\n"
     ]
    }
   ],
   "source": [
    "import mypo\n",
    "from mypo import split_n_periods, Runner, Settings\n",
    "from mypo.rebalancer import PlainRebalancer\n",
    "from mypo.optimizer import MinimumVarianceOptimizer, SharpRatioOptimizer\n",
    "from mypo.loss_function import yearly_total_return, max_drawdown, max_drawdown_span\n",
    "import numpy as np\n",
    "print(mypo.__version__)"
   ]
  },
  {
   "cell_type": "code",
   "execution_count": 2,
   "id": "attached-berkeley",
   "metadata": {
    "pycharm": {
     "name": "#%%\n"
    }
   },
   "outputs": [],
   "source": [
    "loader = mypo.Loader()"
   ]
  },
  {
   "cell_type": "code",
   "execution_count": 3,
   "id": "secure-packet",
   "metadata": {
    "pycharm": {
     "name": "#%%\n"
    }
   },
   "outputs": [],
   "source": [
    "loader.get('VOO', 0.0003)\n",
    "loader.get('IEF', 0.0015)"
   ]
  },
  {
   "cell_type": "code",
   "execution_count": 4,
   "id": "floppy-communications",
   "metadata": {
    "pycharm": {
     "name": "#%%\n"
    }
   },
   "outputs": [],
   "source": [
    "market = loader.get_market()\n",
    "trains, evals = split_n_periods(market, n = 20, train_span=200)"
   ]
  },
  {
   "cell_type": "code",
   "execution_count": 5,
   "id": "thirty-purple",
   "metadata": {
    "pycharm": {
     "name": "#%%\n"
    }
   },
   "outputs": [
    {
     "name": "stdout",
     "output_type": "stream",
     "text": [
      "[0.33139919 0.66860081]\n",
      "122\n",
      "1.1627086485905924\n",
      "0.979647272171233\n",
      "19\n",
      "[0.22107913 0.77892087]\n",
      "122\n",
      "1.1245855742277786\n",
      "0.9865525830153227\n",
      "27\n",
      "[0.23743096 0.76256904]\n",
      "122\n",
      "1.1209838339407585\n",
      "0.9856610877217241\n",
      "37\n",
      "[0.2483981 0.7516019]\n",
      "122\n",
      "1.0854460511594994\n",
      "0.9843400539865741\n",
      "22\n",
      "[0.25621736 0.74378264]\n",
      "122\n",
      "1.0720919931046062\n",
      "0.9723036218841689\n",
      "83\n",
      "[0.26044584 0.73955416]\n",
      "122\n",
      "1.11692643213563\n",
      "0.9917982436193453\n",
      "28\n",
      "[0.24797608 0.75202392]\n",
      "122\n",
      "1.126274104362885\n",
      "0.9886348591426479\n",
      "26\n",
      "[0.23756622 0.76243378]\n",
      "122\n",
      "1.0887964958086698\n",
      "0.9827477571813876\n",
      "30\n",
      "[0.25480991 0.74519009]\n",
      "122\n",
      "1.0890225823477846\n",
      "0.980865713253007\n",
      "44\n",
      "[0.22467473 0.77532527]\n",
      "122\n",
      "1.1096971819008847\n",
      "0.9887404818263074\n",
      "39\n",
      "[0.17323664 0.82676336]\n",
      "122\n",
      "1.0818535368430833\n",
      "0.9867328991774709\n",
      "74\n",
      "[0.20869994 0.79130006]\n",
      "122\n",
      "1.0533529074345571\n",
      "0.9730849235536352\n",
      "82\n",
      "[0.30388888 0.69611112]\n",
      "122\n",
      "1.097879458128277\n",
      "0.989264410460276\n",
      "23\n",
      "[0.34404181 0.65595819]\n",
      "122\n",
      "1.0382568131100876\n",
      "0.9674228647984879\n",
      "49\n",
      "[0.14880802 0.85119198]\n",
      "122\n",
      "1.0674017843974228\n",
      "0.987639887015684\n",
      "28\n",
      "[0.1422653 0.8577347]\n",
      "122\n",
      "1.167686370590039\n",
      "0.9930172430042826\n",
      "30\n",
      "[0.13654982 0.86345018]\n",
      "122\n",
      "1.1914830147264162\n",
      "0.9801572813365947\n",
      "19\n",
      "[0.19124237 0.80875763]\n",
      "122\n",
      "1.0828989923162582\n",
      "0.9636897443292074\n",
      "32\n",
      "[0.16191208 0.83808792]\n",
      "122\n",
      "1.2518984038709784\n",
      "0.9896154131346176\n",
      "17\n",
      "[0.12398284 0.87601716]\n",
      "122\n",
      "0.9957247396274692\n",
      "0.9721009402174746\n",
      "50\n"
     ]
    }
   ],
   "source": [
    "for train, eval in zip(trains, evals):\n",
    "    optimizer = MinimumVarianceOptimizer(train)\n",
    "    weights = optimizer.optimize_weight()\n",
    "    \n",
    "    settings = Settings(tax_rate=0.20, fee_rate=0.005, spending=0.06)\n",
    "    \n",
    "    runner = mypo.Runner(\n",
    "        assets=np.array([1.2, 0.8]),\n",
    "        rebalancer=PlainRebalancer(weights=weights),\n",
    "        cash=0.5,\n",
    "        settings=settings\n",
    "    )\n",
    "\n",
    "    runner.run(\n",
    "        market=eval\n",
    "    )\n",
    "    report = runner.report()\n",
    "    print(weights)\n",
    "    print(yearly_total_return(report))\n",
    "    print(max_drawdown(report))\n",
    "    print(max_drawdown_span(report))"
   ]
  },
  {
   "cell_type": "code",
   "execution_count": 6,
   "id": "running-modeling",
   "metadata": {
    "pycharm": {
     "name": "#%%\n"
    }
   },
   "outputs": [
    {
     "name": "stdout",
     "output_type": "stream",
     "text": [
      "[1.00000000e+00 4.61852778e-14]\n",
      "122\n",
      "0.9706946442955147\n",
      "0.8569655545219397\n",
      "113\n",
      "[1. 0.]\n",
      "122\n",
      "1.218896716035122\n",
      "0.9214778968034507\n",
      "49\n",
      "[1. 0.]\n",
      "122\n",
      "1.172390837356311\n",
      "0.9415256320458447\n",
      "33\n",
      "[1. 0.]\n",
      "122\n",
      "1.3309456768848675\n",
      "0.9727734740181057\n",
      "11\n",
      "[1. 0.]\n",
      "122\n",
      "1.2592441564857968\n",
      "0.9619172854286633\n",
      "30\n",
      "[1.00000000e+00 3.49720253e-15]\n",
      "122\n",
      "1.1302111219060038\n",
      "0.954828057204661\n",
      "26\n",
      "[1. 0.]\n",
      "122\n",
      "1.1683106533165672\n",
      "0.9464671413407237\n",
      "26\n",
      "[1. 0.]\n",
      "122\n",
      "1.072081756564367\n",
      "0.9610699972922694\n",
      "30\n",
      "[1. 0.]\n",
      "122\n",
      "1.0479656932585126\n",
      "0.9044947600344782\n",
      "73\n",
      "[1. 0.]\n",
      "122\n",
      "1.0179329156702426\n",
      "0.904774334184169\n",
      "80\n",
      "[1. 0.]\n",
      "122\n",
      "1.106121483023307\n",
      "0.957370906862677\n",
      "26\n",
      "[1.00000000e+00 4.11726209e-13]\n",
      "122\n",
      "1.2053572957972465\n",
      "0.9787983776183704\n",
      "34\n",
      "[1. 0.]\n",
      "122\n",
      "1.1960450055330865\n",
      "0.9832006617508539\n",
      "18\n",
      "[1.00000000e+00 9.01501096e-14]\n",
      "122\n",
      "1.0863865441823017\n",
      "0.9179715328486932\n",
      "49\n",
      "[1.0000000e+00 3.1874503e-13]\n",
      "122\n",
      "1.2262705939107938\n",
      "0.9754647818113806\n",
      "17\n",
      "[1.0000000e+00 6.5913941e-13]\n",
      "122\n",
      "0.9772234747067312\n",
      "0.8502257682089817\n",
      "120\n",
      "[1. 0.]\n",
      "122\n",
      "1.1155444412968472\n",
      "0.9466912049624994\n",
      "39\n",
      "[1.00000000e+00 2.82329715e-13]\n",
      "122\n",
      "0.8178702459639036\n",
      "0.7652003291717987\n",
      "19\n",
      "[1. 0.]\n",
      "122\n",
      "1.8615951358418872\n",
      "0.9409389435725322\n",
      "25\n",
      "[1. 0.]\n",
      "122\n",
      "1.3094328745512605\n",
      "0.940663893022722\n",
      "19\n"
     ]
    }
   ],
   "source": [
    "for train, eval in zip(trains, evals):\n",
    "    optimizer = SharpRatioOptimizer(train)\n",
    "    weights = optimizer.optimize_weight()\n",
    "\n",
    "    settings = Settings(tax_rate=0.20, fee_rate=0.005, spending=0.06)\n",
    "\n",
    "    runner = mypo.Runner(\n",
    "        assets=np.array([1.2, 0.8]),\n",
    "        rebalancer=PlainRebalancer(weights=weights),\n",
    "        cash=0.5,\n",
    "        settings=settings\n",
    "    )\n",
    "\n",
    "    runner.run(\n",
    "        market=eval\n",
    "    )\n",
    "    report = runner.report()\n",
    "    print(weights)\n",
    "    print(yearly_total_return(report))\n",
    "    print(max_drawdown(report))\n",
    "    print(max_drawdown_span(report))\n"
   ]
  }
 ],
 "metadata": {
  "kernelspec": {
   "display_name": "Python 3",
   "language": "python",
   "name": "python3"
  },
  "language_info": {
   "codemirror_mode": {
    "name": "ipython",
    "version": 3
   },
   "file_extension": ".py",
   "mimetype": "text/x-python",
   "name": "python",
   "nbconvert_exporter": "python",
   "pygments_lexer": "ipython3",
   "version": "3.9.2"
  },
  "pycharm": {
   "stem_cell": {
    "cell_type": "raw",
    "metadata": {
     "collapsed": false
    },
    "source": [
     "\n"
    ]
   }
  }
 },
 "nbformat": 4,
 "nbformat_minor": 5
}
