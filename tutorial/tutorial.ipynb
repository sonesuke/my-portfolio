{
 "cells": [
  {
   "cell_type": "code",
   "execution_count": 16,
   "id": "painted-recipe",
   "metadata": {},
   "outputs": [
    {
     "name": "stdout",
     "output_type": "stream",
     "text": [
      "0.0.1\n"
     ]
    }
   ],
   "source": [
    "import mypo\n",
    "import numpy as np\n",
    "print(mypo.__version__)"
   ]
  },
  {
   "cell_type": "code",
   "execution_count": 17,
   "outputs": [],
   "source": [
    "loader = mypo.Loader()"
   ],
   "metadata": {
    "collapsed": false,
    "pycharm": {
     "name": "#%%\n"
    }
   }
  },
  {
   "cell_type": "code",
   "execution_count": 18,
   "outputs": [],
   "source": [
    "loader.get('VOO')\n",
    "loader.get('IEF')"
   ],
   "metadata": {
    "collapsed": false,
    "pycharm": {
     "name": "#%%\n"
    }
   }
  },
  {
   "cell_type": "code",
   "execution_count": 20,
   "outputs": [
    {
     "ename": "AttributeError",
     "evalue": "module 'mypo' has no attribute 'split_n_periods'",
     "output_type": "error",
     "traceback": [
      "\u001B[0;31m---------------------------------------------------------------------------\u001B[0m",
      "\u001B[0;31mAttributeError\u001B[0m                            Traceback (most recent call last)",
      "\u001B[0;32m<ipython-input-20-5710504df4b0>\u001B[0m in \u001B[0;36m<module>\u001B[0;34m\u001B[0m\n\u001B[0;32m----> 1\u001B[0;31m \u001B[0mtrains\u001B[0m\u001B[0;34m,\u001B[0m \u001B[0mevals\u001B[0m \u001B[0;34m=\u001B[0m \u001B[0mmypo\u001B[0m\u001B[0;34m.\u001B[0m\u001B[0msplit_n_periods\u001B[0m\u001B[0;34m(\u001B[0m\u001B[0mmarket\u001B[0m\u001B[0;34m=\u001B[0m\u001B[0mmarket\u001B[0m\u001B[0;34m,\u001B[0m \u001B[0mn\u001B[0m\u001B[0;34m=\u001B[0m\u001B[0;36m10\u001B[0m\u001B[0;34m)\u001B[0m\u001B[0;34m\u001B[0m\u001B[0;34m\u001B[0m\u001B[0m\n\u001B[0m\u001B[1;32m      2\u001B[0m \u001B[0;34m\u001B[0m\u001B[0m\n\u001B[1;32m      3\u001B[0m \u001B[0;34m\u001B[0m\u001B[0m\n\u001B[1;32m      4\u001B[0m \u001B[0;34m\u001B[0m\u001B[0m\n",
      "\u001B[0;31mAttributeError\u001B[0m: module 'mypo' has no attribute 'split_n_periods'"
     ]
    }
   ],
   "source": [
    "trains, evals = mypo.split_n_periods(market=market, n=10)\n",
    "\n"
   ],
   "metadata": {
    "collapsed": false,
    "pycharm": {
     "name": "#%%\n"
    }
   }
  },
  {
   "cell_type": "code",
   "execution_count": null,
   "outputs": [],
   "source": [
    "\n",
    "\n",
    "for train, eval in zip(trains, evals):\n",
    "    optimizer=mypo.MinimumVarianceOptimizer(train.get_prices())\n",
    "    weights = optimizer.optimize_weight()\n",
    "    print(weights)\n",
    "    runner = mypo.Runner(\n",
    "        assets=[1.2, 0.8], rebalancer=mypo.ThresholdRebalancer(weights=weights, threshold=0.05), cash=0.5, spending=0.06)\n",
    "    runner.run(market=eval)\n",
    "    report = runner.report()\n",
    "    print(mypo.negative_total_return(report))\n",
    "\n",
    "\n",
    "\n"
   ],
   "metadata": {
    "collapsed": false,
    "pycharm": {
     "name": "#%%\n"
    }
   }
  }
 ],
 "metadata": {
  "kernelspec": {
   "display_name": "Python 3",
   "language": "python",
   "name": "python3"
  },
  "language_info": {
   "codemirror_mode": {
    "name": "ipython",
    "version": 3
   },
   "file_extension": ".py",
   "mimetype": "text/x-python",
   "name": "python",
   "nbconvert_exporter": "python",
   "pygments_lexer": "ipython3",
   "version": "3.9.1"
  },
  "pycharm": {
   "stem_cell": {
    "cell_type": "raw",
    "source": [
     "\n"
    ],
    "metadata": {
     "collapsed": false
    }
   }
  }
 },
 "nbformat": 4,
 "nbformat_minor": 5
}