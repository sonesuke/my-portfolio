{
 "cells": [
  {
   "cell_type": "code",
   "execution_count": null,
   "id": "painted-recipe",
   "metadata": {
    "pycharm": {
     "is_executing": true
    }
   },
   "outputs": [],
   "source": [
    "import mypo\n",
    "from mypo import split_n_periods\n",
    "from mypo import MinimumVarianceOptimizer\n",
    "from mypo import negative_total_return\n",
    "import numpy as np\n",
    "print(mypo.__version__)"
   ]
  },
  {
   "cell_type": "code",
   "execution_count": null,
   "id": "attached-berkeley",
   "metadata": {
    "pycharm": {
     "name": "#%%\n"
    }
   },
   "outputs": [],
   "source": [
    "loader = mypo.Loader()"
   ]
  },
  {
   "cell_type": "code",
   "execution_count": 5,
   "id": "secure-packet",
   "metadata": {
    "pycharm": {
     "name": "#%%\n"
    }
   },
   "outputs": [],
   "source": [
    "loader.get('VOO', 0.0003)\n",
    "loader.get('IEF', 0.0015)"
   ]
  },
  {
   "cell_type": "code",
   "execution_count": 13,
   "id": "floppy-communications",
   "metadata": {
    "pycharm": {
     "name": "#%%\n"
    }
   },
   "outputs": [],
   "source": [
    "market = loader.get_market()\n",
    "trains, evals = split_n_periods(market, n = 20, train_span=200)"
   ]
  },
  {
   "cell_type": "code",
   "execution_count": 1,
   "id": "thirty-purple",
   "metadata": {
    "pycharm": {
     "name": "#%%\n"
    }
   },
   "outputs": [
    {
     "ename": "NameError",
     "evalue": "name 'trains' is not defined",
     "output_type": "error",
     "traceback": [
      "\u001B[0;31m---------------------------------------------------------------------------\u001B[0m",
      "\u001B[0;31mNameError\u001B[0m                                 Traceback (most recent call last)",
      "\u001B[0;32m<ipython-input-1-4f28dee34fb9>\u001B[0m in \u001B[0;36m<module>\u001B[0;34m\u001B[0m\n\u001B[0;32m----> 1\u001B[0;31m \u001B[0;32mfor\u001B[0m \u001B[0mtrain\u001B[0m\u001B[0;34m,\u001B[0m \u001B[0meval\u001B[0m \u001B[0;32min\u001B[0m \u001B[0mzip\u001B[0m\u001B[0;34m(\u001B[0m\u001B[0mtrains\u001B[0m\u001B[0;34m,\u001B[0m \u001B[0mevals\u001B[0m\u001B[0;34m)\u001B[0m\u001B[0;34m:\u001B[0m\u001B[0;34m\u001B[0m\u001B[0;34m\u001B[0m\u001B[0m\n\u001B[0m\u001B[1;32m      2\u001B[0m     \u001B[0moptimizer\u001B[0m \u001B[0;34m=\u001B[0m \u001B[0mMinimumVarianceOptimizer\u001B[0m\u001B[0;34m(\u001B[0m\u001B[0mtrain\u001B[0m\u001B[0;34m)\u001B[0m\u001B[0;34m\u001B[0m\u001B[0;34m\u001B[0m\u001B[0m\n\u001B[1;32m      3\u001B[0m     \u001B[0mweights\u001B[0m \u001B[0;34m=\u001B[0m \u001B[0moptimizer\u001B[0m\u001B[0;34m.\u001B[0m\u001B[0moptimize_weight\u001B[0m\u001B[0;34m(\u001B[0m\u001B[0;34m)\u001B[0m\u001B[0;34m\u001B[0m\u001B[0;34m\u001B[0m\u001B[0m\n\u001B[1;32m      4\u001B[0m \u001B[0;34m\u001B[0m\u001B[0m\n\u001B[1;32m      5\u001B[0m     runner = mypo.Runner(\n",
      "\u001B[0;31mNameError\u001B[0m: name 'trains' is not defined"
     ]
    }
   ],
   "source": [
    "for train, eval in zip(trains, evals):\n",
    "    optimizer = MinimumVarianceOptimizer(train)\n",
    "    weights = optimizer.optimize_weight()\n",
    "    \n",
    "    runner = mypo.Runner(\n",
    "        assets=np.array([1.2, 0.8]),\n",
    "        rebalancer=mypo.PlainRebalancer(weights=weights),\n",
    "        cash=0.5,\n",
    "        spending=0.06\n",
    "    )\n",
    "\n",
    "    runner.run(\n",
    "        market=eval\n",
    "    )\n",
    "    report = runner.report()\n",
    "    val = negative_total_return(report)\n",
    "    print(val)"
   ]
  },
  {
   "cell_type": "code",
   "execution_count": null,
   "id": "running-modeling",
   "metadata": {
    "pycharm": {
     "name": "#%%\n"
    }
   },
   "outputs": [],
   "source": []
  }
 ],
 "metadata": {
  "kernelspec": {
   "display_name": "Python 3",
   "language": "python",
   "name": "python3"
  },
  "language_info": {
   "codemirror_mode": {
    "name": "ipython",
    "version": 3
   },
   "file_extension": ".py",
   "mimetype": "text/x-python",
   "name": "python",
   "nbconvert_exporter": "python",
   "pygments_lexer": "ipython3",
   "version": "3.9.1"
  },
  "pycharm": {
   "stem_cell": {
    "cell_type": "raw",
    "metadata": {
     "collapsed": false
    },
    "source": [
     "\n"
    ]
   }
  }
 },
 "nbformat": 4,
 "nbformat_minor": 5
}