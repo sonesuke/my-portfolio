{
 "cells": [
  {
   "cell_type": "code",
   "execution_count": 9,
   "id": "painted-recipe",
   "metadata": {},
   "outputs": [
    {
     "name": "stdout",
     "output_type": "stream",
     "text": [
      "0.0.1\n"
     ]
    }
   ],
   "source": [
    "import mypo\n",
    "import numpy as np\n",
    "print(mypo.__version__)"
   ]
  },
  {
   "cell_type": "code",
   "execution_count": 5,
   "outputs": [],
   "source": [
    "loader = mypo.Loader()"
   ],
   "metadata": {
    "collapsed": false,
    "pycharm": {
     "name": "#%%\n"
    }
   }
  },
  {
   "cell_type": "code",
   "execution_count": 7,
   "outputs": [
    {
     "data": {
      "text/plain": "                  Open        High         Low       Close   Volume  \\\nDate                                                                  \n2002-07-31   47.044264   47.348144   47.044264   47.313740    32600   \n2002-08-01   47.325161   47.531571   47.313692   47.508636    71400   \n2002-08-02   47.600414   47.990300   47.531614   47.875629   120300   \n2002-08-05   47.978827   48.116432   47.892822   48.116432   159300   \n2002-08-06   47.881346   47.881346   47.606131   47.726536    90100   \n...                ...         ...         ...         ...      ...   \n2021-02-12  117.889999  118.019997  117.750000  117.790001  8802400   \n2021-02-16  117.269997  117.379997  116.860001  116.940002  8907000   \n2021-02-17  117.019997  117.169998  116.879997  117.019997  4789700   \n2021-02-18  116.830002  117.099998  116.739998  117.010002  4469900   \n2021-02-19  116.660004  116.769997  116.370003  116.540001  5851800   \n\n            Dividends  Stock Splits         r   ir  \nDate                                                \n2002-07-31        0.0             0  1.009172  0.0  \n2002-08-01        0.0             0  1.004119  0.0  \n2002-08-02        0.0             0  1.007725  0.0  \n2002-08-05        0.0             0  1.005030  0.0  \n2002-08-06        0.0             0  0.991897  0.0  \n...               ...           ...       ...  ...  \n2021-02-12        0.0             0  0.996700  0.0  \n2021-02-16        0.0             0  0.992784  0.0  \n2021-02-17        0.0             0  1.000684  0.0  \n2021-02-18        0.0             0  0.999915  0.0  \n2021-02-19        0.0             0  0.995983  0.0  \n\n[4672 rows x 9 columns]",
      "text/html": "<div>\n<style scoped>\n    .dataframe tbody tr th:only-of-type {\n        vertical-align: middle;\n    }\n\n    .dataframe tbody tr th {\n        vertical-align: top;\n    }\n\n    .dataframe thead th {\n        text-align: right;\n    }\n</style>\n<table border=\"1\" class=\"dataframe\">\n  <thead>\n    <tr style=\"text-align: right;\">\n      <th></th>\n      <th>Open</th>\n      <th>High</th>\n      <th>Low</th>\n      <th>Close</th>\n      <th>Volume</th>\n      <th>Dividends</th>\n      <th>Stock Splits</th>\n      <th>r</th>\n      <th>ir</th>\n    </tr>\n    <tr>\n      <th>Date</th>\n      <th></th>\n      <th></th>\n      <th></th>\n      <th></th>\n      <th></th>\n      <th></th>\n      <th></th>\n      <th></th>\n      <th></th>\n    </tr>\n  </thead>\n  <tbody>\n    <tr>\n      <th>2002-07-31</th>\n      <td>47.044264</td>\n      <td>47.348144</td>\n      <td>47.044264</td>\n      <td>47.313740</td>\n      <td>32600</td>\n      <td>0.0</td>\n      <td>0</td>\n      <td>1.009172</td>\n      <td>0.0</td>\n    </tr>\n    <tr>\n      <th>2002-08-01</th>\n      <td>47.325161</td>\n      <td>47.531571</td>\n      <td>47.313692</td>\n      <td>47.508636</td>\n      <td>71400</td>\n      <td>0.0</td>\n      <td>0</td>\n      <td>1.004119</td>\n      <td>0.0</td>\n    </tr>\n    <tr>\n      <th>2002-08-02</th>\n      <td>47.600414</td>\n      <td>47.990300</td>\n      <td>47.531614</td>\n      <td>47.875629</td>\n      <td>120300</td>\n      <td>0.0</td>\n      <td>0</td>\n      <td>1.007725</td>\n      <td>0.0</td>\n    </tr>\n    <tr>\n      <th>2002-08-05</th>\n      <td>47.978827</td>\n      <td>48.116432</td>\n      <td>47.892822</td>\n      <td>48.116432</td>\n      <td>159300</td>\n      <td>0.0</td>\n      <td>0</td>\n      <td>1.005030</td>\n      <td>0.0</td>\n    </tr>\n    <tr>\n      <th>2002-08-06</th>\n      <td>47.881346</td>\n      <td>47.881346</td>\n      <td>47.606131</td>\n      <td>47.726536</td>\n      <td>90100</td>\n      <td>0.0</td>\n      <td>0</td>\n      <td>0.991897</td>\n      <td>0.0</td>\n    </tr>\n    <tr>\n      <th>...</th>\n      <td>...</td>\n      <td>...</td>\n      <td>...</td>\n      <td>...</td>\n      <td>...</td>\n      <td>...</td>\n      <td>...</td>\n      <td>...</td>\n      <td>...</td>\n    </tr>\n    <tr>\n      <th>2021-02-12</th>\n      <td>117.889999</td>\n      <td>118.019997</td>\n      <td>117.750000</td>\n      <td>117.790001</td>\n      <td>8802400</td>\n      <td>0.0</td>\n      <td>0</td>\n      <td>0.996700</td>\n      <td>0.0</td>\n    </tr>\n    <tr>\n      <th>2021-02-16</th>\n      <td>117.269997</td>\n      <td>117.379997</td>\n      <td>116.860001</td>\n      <td>116.940002</td>\n      <td>8907000</td>\n      <td>0.0</td>\n      <td>0</td>\n      <td>0.992784</td>\n      <td>0.0</td>\n    </tr>\n    <tr>\n      <th>2021-02-17</th>\n      <td>117.019997</td>\n      <td>117.169998</td>\n      <td>116.879997</td>\n      <td>117.019997</td>\n      <td>4789700</td>\n      <td>0.0</td>\n      <td>0</td>\n      <td>1.000684</td>\n      <td>0.0</td>\n    </tr>\n    <tr>\n      <th>2021-02-18</th>\n      <td>116.830002</td>\n      <td>117.099998</td>\n      <td>116.739998</td>\n      <td>117.010002</td>\n      <td>4469900</td>\n      <td>0.0</td>\n      <td>0</td>\n      <td>0.999915</td>\n      <td>0.0</td>\n    </tr>\n    <tr>\n      <th>2021-02-19</th>\n      <td>116.660004</td>\n      <td>116.769997</td>\n      <td>116.370003</td>\n      <td>116.540001</td>\n      <td>5851800</td>\n      <td>0.0</td>\n      <td>0</td>\n      <td>0.995983</td>\n      <td>0.0</td>\n    </tr>\n  </tbody>\n</table>\n<p>4672 rows × 9 columns</p>\n</div>"
     },
     "execution_count": 7,
     "metadata": {},
     "output_type": "execute_result"
    }
   ],
   "source": [
    "loader.get('VOO')\n",
    "loader.get('IEF')"
   ],
   "metadata": {
    "collapsed": false,
    "pycharm": {
     "name": "#%%\n"
    }
   }
  },
  {
   "cell_type": "code",
   "execution_count": 10,
   "outputs": [],
   "source": [
    "runner = mypo.Runner(\n",
    "    assets=np.array([1.2, 0.8]),\n",
    "    rebalancer=mypo.PlainRebalancer(np.array([0.8, 0.2])),\n",
    "    cash=0.5,\n",
    "    spending=0.06\n",
    ")"
   ],
   "metadata": {
    "collapsed": false,
    "pycharm": {
     "name": "#%%\n"
    }
   }
  },
  {
   "cell_type": "code",
   "execution_count": 11,
   "outputs": [
    {
     "data": {
      "text/plain": "2.2317678679631823"
     },
     "execution_count": 11,
     "metadata": {},
     "output_type": "execute_result"
    }
   ],
   "source": [
    "runner.run(\n",
    "    market=loader.get_market(),\n",
    "    price_dividends_yield=loader.get_price_dividend_yield(),\n",
    "    expense_ratio=np.array([0.0007, 0.0007])\n",
    ")\n",
    "runner.total_assets()"
   ],
   "metadata": {
    "collapsed": false,
    "pycharm": {
     "name": "#%%\n"
    }
   }
  },
  {
   "cell_type": "code",
   "execution_count": null,
   "outputs": [],
   "source": [],
   "metadata": {
    "collapsed": false,
    "pycharm": {
     "name": "#%%\n"
    }
   }
  }
 ],
 "metadata": {
  "kernelspec": {
   "display_name": "Python 3",
   "language": "python",
   "name": "python3"
  },
  "language_info": {
   "codemirror_mode": {
    "name": "ipython",
    "version": 3
   },
   "file_extension": ".py",
   "mimetype": "text/x-python",
   "name": "python",
   "nbconvert_exporter": "python",
   "pygments_lexer": "ipython3",
   "version": "3.9.1"
  },
  "pycharm": {
   "stem_cell": {
    "cell_type": "raw",
    "source": [
     "\n"
    ],
    "metadata": {
     "collapsed": false
    }
   }
  }
 },
 "nbformat": 4,
 "nbformat_minor": 5
}