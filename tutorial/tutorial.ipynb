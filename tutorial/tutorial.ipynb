{
 "cells": [
  {
   "cell_type": "code",
   "execution_count": 1,
   "id": "painted-recipe",
   "metadata": {
    "pycharm": {
     "is_executing": true
    }
   },
   "outputs": [
    {
     "name": "stdout",
     "output_type": "stream",
     "text": [
      "0.0.31\n"
     ]
    }
   ],
   "source": [
    "import mypo\n",
    "from mypo import split_n_periods, Runner, Settings\n",
    "from mypo.rebalancer import PlainRebalancer\n",
    "from mypo.optimizer import MinimumVarianceOptimizer, SharpRatioOptimizer\n",
    "from mypo.loss_function import total_return, max_drawdown, max_drawdown_span\n",
    "import numpy as np\n",
    "print(mypo.__version__)"
   ]
  },
  {
   "cell_type": "code",
   "execution_count": 2,
   "id": "attached-berkeley",
   "metadata": {
    "pycharm": {
     "name": "#%%\n"
    }
   },
   "outputs": [],
   "source": [
    "loader = mypo.Loader()"
   ]
  },
  {
   "cell_type": "code",
   "execution_count": 3,
   "id": "secure-packet",
   "metadata": {
    "pycharm": {
     "name": "#%%\n"
    }
   },
   "outputs": [],
   "source": [
    "loader.get('VOO', 0.0003)\n",
    "loader.get('IEF', 0.0015)"
   ]
  },
  {
   "cell_type": "code",
   "execution_count": 4,
   "id": "floppy-communications",
   "metadata": {
    "pycharm": {
     "name": "#%%\n"
    }
   },
   "outputs": [],
   "source": [
    "market = loader.get_market()\n",
    "trains, evals = split_n_periods(market, n = 20, train_span=200)"
   ]
  },
  {
   "cell_type": "code",
   "execution_count": 5,
   "id": "thirty-purple",
   "metadata": {
    "pycharm": {
     "name": "#%%\n"
    }
   },
   "outputs": [
    {
     "name": "stdout",
     "output_type": "stream",
     "text": [
      "[0.34469253 0.65530747]\n",
      "1.043372312060282\n",
      "0.9797568490253495\n",
      "38\n",
      "[0.21730122 0.78269878]\n",
      "1.0287601043397612\n",
      "0.9911116300733043\n",
      "35\n",
      "[0.2340641 0.7659359]\n",
      "1.0280418849499935\n",
      "0.9905182310083666\n",
      "30\n",
      "[0.25763427 0.74236573]\n",
      "1.0241188786825037\n",
      "0.9915505378563656\n",
      "19\n",
      "[0.24866755 0.75133245]\n",
      "1.0234265632699384\n",
      "0.9821803141412107\n",
      "48\n",
      "[0.27718987 0.72281013]\n",
      "1.0277907362077388\n",
      "0.9906500245657137\n",
      "25\n",
      "[0.2536363 0.7463637]\n",
      "1.0273888630850136\n",
      "0.9896536836091101\n",
      "25\n",
      "[0.23231418 0.76768582]\n",
      "1.0276014275149954\n",
      "0.9870561669610171\n",
      "35\n",
      "[0.25493454 0.74506546]\n",
      "1.023994513931209\n",
      "0.9906459625213963\n",
      "25\n",
      "[0.25174495 0.74825505]\n",
      "1.0270963573796699\n",
      "0.9860219958731187\n",
      "39\n",
      "[0.18749064 0.81250936]\n",
      "1.0259268192611803\n",
      "0.9900977793400523\n",
      "23\n",
      "[0.20285738 0.79714262]\n",
      "1.025297849782452\n",
      "0.9894641999843474\n",
      "24\n",
      "[0.26902283 0.73097717]\n",
      "1.0254780834168364\n",
      "0.9937005396643729\n",
      "35\n",
      "[0.33619565 0.66380435]\n",
      "1.0239542590112058\n",
      "0.9882436375162573\n",
      "20\n",
      "[0.16236602 0.83763398]\n",
      "1.028817565313823\n",
      "0.9929513387932722\n",
      "26\n",
      "[0.1594099 0.8405901]\n",
      "1.0375398364686705\n",
      "0.9937087065379107\n",
      "19\n",
      "[0.14380304 0.85619696]\n",
      "1.0374240896926252\n",
      "0.9899437129276789\n",
      "35\n",
      "[0.19152976 0.80847024]\n",
      "1.0351569670874687\n",
      "0.9847618691918616\n",
      "38\n",
      "[0.15013334 0.84986666]\n",
      "1.032048971935432\n",
      "0.9895984804090541\n",
      "32\n",
      "[0.11991002 0.88008998]\n",
      "1.025028668692889\n",
      "0.9836921623377788\n",
      "76\n"
     ]
    }
   ],
   "source": [
    "for train, eval in zip(trains, evals):\n",
    "    optimizer = MinimumVarianceOptimizer(train)\n",
    "    weights = optimizer.optimize_weight()\n",
    "    \n",
    "    settings = Settings(tax_rate=0.20, fee_rate=0.005, spending=0.06)\n",
    "    \n",
    "    runner = mypo.Runner(\n",
    "        assets=np.array([1.2, 0.8]),\n",
    "        rebalancer=PlainRebalancer(weights=weights),\n",
    "        cash=0.5,\n",
    "        settings=settings\n",
    "    )\n",
    "\n",
    "    runner.run(\n",
    "        market=eval\n",
    "    )\n",
    "    report = runner.report()\n",
    "    print(weights)\n",
    "    print(total_return(report))\n",
    "    print(max_drawdown(report))\n",
    "    print(max_drawdown_span(report))"
   ]
  },
  {
   "cell_type": "code",
   "execution_count": 6,
   "id": "running-modeling",
   "metadata": {
    "pycharm": {
     "name": "#%%\n"
    }
   },
   "outputs": [
    {
     "name": "stdout",
     "output_type": "stream",
     "text": [
      "[1.00000000e+00 5.55111512e-17]\n",
      "1.0114728464336924\n",
      "0.9325829604039911\n",
      "78\n",
      "[1. 0.]\n",
      "1.0327732739078168\n",
      "0.9678093841554956\n",
      "79\n",
      "[1. 0.]\n",
      "1.0083521610046469\n",
      "0.9693041576953422\n",
      "96\n",
      "[1. 0.]\n",
      "1.0134627475247882\n",
      "0.9661919847306291\n",
      "105\n",
      "[1.00000000e+00 8.32667268e-17]\n",
      "1.0074409183846071\n",
      "0.9686527119103403\n",
      "56\n",
      "[1.00000000e+00 2.77555756e-17]\n",
      "1.0139952366163638\n",
      "0.974015209247009\n",
      "30\n",
      "[1. 0.]\n",
      "1.0090950022589513\n",
      "0.9706902326087972\n",
      "31\n",
      "[1.00000000e+00 2.77555756e-17]\n",
      "1.0058255235426925\n",
      "0.9703804090542271\n",
      "99\n",
      "[1. 0.]\n",
      "1.0078853305088629\n",
      "0.9460817277871878\n",
      "48\n",
      "[1.00000000e+00 1.38777878e-17]\n",
      "1.0115108652443678\n",
      "0.9657160798121642\n",
      "63\n",
      "[1.00000000e+00 2.77555756e-17]\n",
      "1.020169609524801\n",
      "0.961147935268843\n",
      "81\n",
      "[1. 0.]\n",
      "1.0149204605539355\n",
      "0.9762911263365177\n",
      "76\n",
      "[1. 0.]\n",
      "1.016645433333127\n",
      "0.9775059520249744\n",
      "45\n",
      "[1. 0.]\n",
      "1.0149646128432859\n",
      "0.9564786173566584\n",
      "32\n",
      "[1.00000000e+00 2.42861287e-17]\n",
      "1.0196224519127537\n",
      "0.978554146516877\n",
      "46\n",
      "[1.00000000e+00 1.11022302e-16]\n",
      "1.0164891079038902\n",
      "0.9432252161124131\n",
      "63\n",
      "[1. 0.]\n",
      "0.9948151282195434\n",
      "0.961312530264521\n",
      "45\n",
      "[1. 0.]\n",
      "1.0766732191465374\n",
      "0.8453089687942148\n",
      "60\n",
      "[1.00000000e+00 1.38777878e-17]\n",
      "1.0231910063171357\n",
      "0.8865875827294252\n",
      "117\n",
      "[1.00000000e+00 8.32667268e-17]\n",
      "1.025171141885883\n",
      "0.959332416253549\n",
      "77\n"
     ]
    }
   ],
   "source": [
    "for train, eval in zip(trains, evals):\n",
    "    optimizer = SharpRatioOptimizer(train)\n",
    "    weights = optimizer.optimize_weight()\n",
    "\n",
    "    settings = Settings(tax_rate=0.20, fee_rate=0.005, spending=0.06)\n",
    "\n",
    "    runner = mypo.Runner(\n",
    "        assets=np.array([1.2, 0.8]),\n",
    "        rebalancer=PlainRebalancer(weights=weights),\n",
    "        cash=0.5,\n",
    "        settings=settings\n",
    "    )\n",
    "\n",
    "    runner.run(\n",
    "        market=eval\n",
    "    )\n",
    "    report = runner.report()\n",
    "    print(weights)\n",
    "    print(total_return(report))\n",
    "    print(max_drawdown(report))\n",
    "    print(max_drawdown_span(report))\n"
   ]
  }
 ],
 "metadata": {
  "kernelspec": {
   "display_name": "Python 3",
   "language": "python",
   "name": "python3"
  },
  "language_info": {
   "codemirror_mode": {
    "name": "ipython",
    "version": 3
   },
   "file_extension": ".py",
   "mimetype": "text/x-python",
   "name": "python",
   "nbconvert_exporter": "python",
   "pygments_lexer": "ipython3",
   "version": "3.9.1"
  },
  "pycharm": {
   "stem_cell": {
    "cell_type": "raw",
    "metadata": {
     "collapsed": false
    },
    "source": [
     "\n"
    ]
   }
  }
 },
 "nbformat": 4,
 "nbformat_minor": 5
}