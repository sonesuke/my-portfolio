{
 "cells": [
  {
   "cell_type": "code",
   "execution_count": 1,
   "id": "painted-recipe",
   "metadata": {
    "pycharm": {
     "is_executing": true
    }
   },
   "outputs": [
    {
     "ename": "NameError",
     "evalue": "name 'Optional' is not defined",
     "output_type": "error",
     "traceback": [
      "\u001B[0;31m---------------------------------------------------------------------------\u001B[0m",
      "\u001B[0;31mNameError\u001B[0m                                 Traceback (most recent call last)",
      "\u001B[0;32m<ipython-input-1-d8868b632368>\u001B[0m in \u001B[0;36m<module>\u001B[0;34m\u001B[0m\n\u001B[1;32m      2\u001B[0m \u001B[0;32mfrom\u001B[0m \u001B[0mmypo\u001B[0m \u001B[0;32mimport\u001B[0m \u001B[0msplit_n_periods\u001B[0m\u001B[0;34m,\u001B[0m \u001B[0mRunner\u001B[0m\u001B[0;34m,\u001B[0m \u001B[0mSettings\u001B[0m\u001B[0;34m\u001B[0m\u001B[0;34m\u001B[0m\u001B[0m\n\u001B[1;32m      3\u001B[0m \u001B[0;32mfrom\u001B[0m \u001B[0mmypo\u001B[0m\u001B[0;34m.\u001B[0m\u001B[0mrebalancer\u001B[0m \u001B[0;32mimport\u001B[0m \u001B[0mPlainRebalancer\u001B[0m\u001B[0;34m\u001B[0m\u001B[0;34m\u001B[0m\u001B[0m\n\u001B[0;32m----> 4\u001B[0;31m \u001B[0;32mfrom\u001B[0m \u001B[0mmypo\u001B[0m\u001B[0;34m.\u001B[0m\u001B[0moptimizer\u001B[0m \u001B[0;32mimport\u001B[0m \u001B[0mMinimumVarianceOptimizer\u001B[0m\u001B[0;34m,\u001B[0m \u001B[0mSharpRatioOptimizer\u001B[0m\u001B[0;34m\u001B[0m\u001B[0;34m\u001B[0m\u001B[0m\n\u001B[0m\u001B[1;32m      5\u001B[0m \u001B[0;32mfrom\u001B[0m \u001B[0mmypo\u001B[0m\u001B[0;34m.\u001B[0m\u001B[0mloss_function\u001B[0m \u001B[0;32mimport\u001B[0m \u001B[0myearly_total_return\u001B[0m\u001B[0;34m,\u001B[0m \u001B[0mmax_drawdown\u001B[0m\u001B[0;34m,\u001B[0m \u001B[0mmax_drawdown_span\u001B[0m\u001B[0;34m\u001B[0m\u001B[0;34m\u001B[0m\u001B[0m\n\u001B[1;32m      6\u001B[0m \u001B[0;32mimport\u001B[0m \u001B[0mnumpy\u001B[0m \u001B[0;32mas\u001B[0m \u001B[0mnp\u001B[0m\u001B[0;34m\u001B[0m\u001B[0;34m\u001B[0m\u001B[0m\n",
      "\u001B[0;32m/app/mypo/optimizer/__init__.py\u001B[0m in \u001B[0;36m<module>\u001B[0;34m\u001B[0m\n\u001B[1;32m      1\u001B[0m \u001B[0;31m# flake8: noqa\u001B[0m\u001B[0;34m\u001B[0m\u001B[0;34m\u001B[0m\u001B[0;34m\u001B[0m\u001B[0m\n\u001B[1;32m      2\u001B[0m \u001B[0;34m\u001B[0m\u001B[0m\n\u001B[0;32m----> 3\u001B[0;31m \u001B[0;32mfrom\u001B[0m \u001B[0;34m.\u001B[0m\u001B[0moptimizer\u001B[0m \u001B[0;32mimport\u001B[0m \u001B[0mMinimumVarianceOptimizer\u001B[0m\u001B[0;34m,\u001B[0m \u001B[0mSharpRatioOptimizer\u001B[0m\u001B[0;34m\u001B[0m\u001B[0;34m\u001B[0m\u001B[0m\n\u001B[0m",
      "\u001B[0;32m/app/mypo/optimizer/optimizer.py\u001B[0m in \u001B[0;36m<module>\u001B[0;34m\u001B[0m\n\u001B[1;32m     77\u001B[0m \u001B[0;34m\u001B[0m\u001B[0m\n\u001B[1;32m     78\u001B[0m \u001B[0;34m\u001B[0m\u001B[0m\n\u001B[0;32m---> 79\u001B[0;31m \u001B[0;32mclass\u001B[0m \u001B[0mSharpRatioOptimizer\u001B[0m\u001B[0;34m(\u001B[0m\u001B[0mOptimizer\u001B[0m\u001B[0;34m)\u001B[0m\u001B[0;34m:\u001B[0m\u001B[0;34m\u001B[0m\u001B[0;34m\u001B[0m\u001B[0m\n\u001B[0m\u001B[1;32m     80\u001B[0m     \u001B[0;34m\"\"\"Minimum variance optimizer.\"\"\"\u001B[0m\u001B[0;34m\u001B[0m\u001B[0;34m\u001B[0m\u001B[0m\n\u001B[1;32m     81\u001B[0m \u001B[0;34m\u001B[0m\u001B[0m\n",
      "\u001B[0;32m/app/mypo/optimizer/optimizer.py\u001B[0m in \u001B[0;36mSharpRatioOptimizer\u001B[0;34m()\u001B[0m\n\u001B[1;32m     99\u001B[0m \u001B[0;34m\u001B[0m\u001B[0m\n\u001B[1;32m    100\u001B[0m     def optimize_weight(\n\u001B[0;32m--> 101\u001B[0;31m         \u001B[0mself\u001B[0m\u001B[0;34m,\u001B[0m \u001B[0mrisk_free_rate\u001B[0m\u001B[0;34m:\u001B[0m \u001B[0mOptional\u001B[0m\u001B[0;34m[\u001B[0m\u001B[0mnp\u001B[0m\u001B[0;34m.\u001B[0m\u001B[0mfloat64\u001B[0m\u001B[0;34m]\u001B[0m \u001B[0;34m=\u001B[0m \u001B[0mnp\u001B[0m\u001B[0;34m.\u001B[0m\u001B[0mfloat64\u001B[0m\u001B[0;34m(\u001B[0m\u001B[0;36m0.02\u001B[0m\u001B[0;34m)\u001B[0m\u001B[0;34m\u001B[0m\u001B[0;34m\u001B[0m\u001B[0m\n\u001B[0m\u001B[1;32m    102\u001B[0m     ) -> np.ndarray:\n\u001B[1;32m    103\u001B[0m         \"\"\"\n",
      "\u001B[0;31mNameError\u001B[0m: name 'Optional' is not defined"
     ]
    }
   ],
   "source": [
    "import mypo\n",
    "from mypo import split_n_periods, Runner, Settings\n",
    "from mypo.rebalancer import PlainRebalancer\n",
    "from mypo.optimizer import MinimumVarianceOptimizer, SharpRatioOptimizer\n",
    "from mypo.loss_function import yearly_total_return, max_drawdown, max_drawdown_span\n",
    "import numpy as np\n",
    "print(mypo.__version__)"
   ]
  },
  {
   "cell_type": "code",
   "execution_count": null,
   "id": "attached-berkeley",
   "metadata": {
    "pycharm": {
     "name": "#%%\n"
    }
   },
   "outputs": [],
   "source": [
    "loader = mypo.Loader()"
   ]
  },
  {
   "cell_type": "code",
   "execution_count": null,
   "id": "secure-packet",
   "metadata": {
    "pycharm": {
     "name": "#%%\n"
    }
   },
   "outputs": [],
   "source": [
    "loader.get('VOO', 0.0003)\n",
    "loader.get('IEF', 0.0015)"
   ]
  },
  {
   "cell_type": "code",
   "execution_count": null,
   "id": "floppy-communications",
   "metadata": {
    "pycharm": {
     "name": "#%%\n"
    }
   },
   "outputs": [],
   "source": [
    "market = loader.get_market()\n",
    "trains, evals = split_n_periods(market, n = 20, train_span=200)"
   ]
  },
  {
   "cell_type": "code",
   "execution_count": null,
   "id": "thirty-purple",
   "metadata": {
    "pycharm": {
     "name": "#%%\n"
    }
   },
   "outputs": [],
   "source": [
    "for train, eval in zip(trains, evals):\n",
    "    optimizer = MinimumVarianceOptimizer(train)\n",
    "    weights = optimizer.optimize_weight()\n",
    "    \n",
    "    settings = Settings(tax_rate=0.20, fee_rate=0.005, spending=0.06)\n",
    "    \n",
    "    runner = mypo.Runner(\n",
    "        assets=np.array([1.2, 0.8]),\n",
    "        rebalancer=PlainRebalancer(weights=weights),\n",
    "        cash=0.5,\n",
    "        settings=settings\n",
    "    )\n",
    "\n",
    "    runner.run(\n",
    "        market=eval\n",
    "    )\n",
    "    report = runner.report()\n",
    "    print(weights)\n",
    "    print(yearly_total_return(report))\n",
    "    print(max_drawdown(report))\n",
    "    print(max_drawdown_span(report))"
   ]
  },
  {
   "cell_type": "code",
   "execution_count": null,
   "id": "running-modeling",
   "metadata": {
    "pycharm": {
     "name": "#%%\n"
    }
   },
   "outputs": [],
   "source": [
    "for train, eval in zip(trains, evals):\n",
    "    optimizer = SharpRatioOptimizer(train)\n",
    "    weights = optimizer.optimize_weight()\n",
    "\n",
    "    settings = Settings(tax_rate=0.20, fee_rate=0.005, spending=0.06)\n",
    "\n",
    "    runner = mypo.Runner(\n",
    "        assets=np.array([1.2, 0.8]),\n",
    "        rebalancer=PlainRebalancer(weights=weights),\n",
    "        cash=0.5,\n",
    "        settings=settings\n",
    "    )\n",
    "\n",
    "    runner.run(\n",
    "        market=eval\n",
    "    )\n",
    "    report = runner.report()\n",
    "    print(weights)\n",
    "    print(yearly_total_return(report))\n",
    "    print(max_drawdown(report))\n",
    "    print(max_drawdown_span(report))\n"
   ]
  }
 ],
 "metadata": {
  "kernelspec": {
   "display_name": "Python 3",
   "language": "python",
   "name": "python3"
  },
  "language_info": {
   "codemirror_mode": {
    "name": "ipython",
    "version": 3
   },
   "file_extension": ".py",
   "mimetype": "text/x-python",
   "name": "python",
   "nbconvert_exporter": "python",
   "pygments_lexer": "ipython3",
   "version": "3.9.1"
  },
  "pycharm": {
   "stem_cell": {
    "cell_type": "raw",
    "metadata": {
     "collapsed": false
    },
    "source": [
     "\n"
    ]
   }
  }
 },
 "nbformat": 4,
 "nbformat_minor": 5
}